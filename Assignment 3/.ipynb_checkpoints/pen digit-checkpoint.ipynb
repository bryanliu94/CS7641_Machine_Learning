{
 "cells": [
  {
   "cell_type": "code",
   "execution_count": 55,
   "id": "a5f246dd",
   "metadata": {},
   "outputs": [],
   "source": [
    "import pandas as pd\n",
    "import numpy as np\n",
    "import matplotlib.pyplot as plt\n",
    "from sklearn.preprocessing import OrdinalEncoder\n",
    "from sklearn.cluster import KMeans\n",
    "from sklearn.model_selection import train_test_split\n"
   ]
  },
  {
   "cell_type": "code",
   "execution_count": 2,
   "id": "8843c501",
   "metadata": {},
   "outputs": [
    {
     "data": {
      "text/html": [
       "<div>\n",
       "<style scoped>\n",
       "    .dataframe tbody tr th:only-of-type {\n",
       "        vertical-align: middle;\n",
       "    }\n",
       "\n",
       "    .dataframe tbody tr th {\n",
       "        vertical-align: top;\n",
       "    }\n",
       "\n",
       "    .dataframe thead th {\n",
       "        text-align: right;\n",
       "    }\n",
       "</style>\n",
       "<table border=\"1\" class=\"dataframe\">\n",
       "  <thead>\n",
       "    <tr style=\"text-align: right;\">\n",
       "      <th></th>\n",
       "      <th>A</th>\n",
       "      <th>B</th>\n",
       "      <th>C</th>\n",
       "      <th>D</th>\n",
       "      <th>E</th>\n",
       "      <th>F</th>\n",
       "      <th>G</th>\n",
       "      <th>H</th>\n",
       "      <th>I</th>\n",
       "      <th>J</th>\n",
       "      <th>K</th>\n",
       "      <th>L</th>\n",
       "      <th>M</th>\n",
       "      <th>N</th>\n",
       "      <th>O</th>\n",
       "      <th>P</th>\n",
       "    </tr>\n",
       "  </thead>\n",
       "  <tbody>\n",
       "    <tr>\n",
       "      <th>0</th>\n",
       "      <td>b</td>\n",
       "      <td>30.83</td>\n",
       "      <td>0.000</td>\n",
       "      <td>u</td>\n",
       "      <td>g</td>\n",
       "      <td>w</td>\n",
       "      <td>v</td>\n",
       "      <td>1.25</td>\n",
       "      <td>t</td>\n",
       "      <td>t</td>\n",
       "      <td>1</td>\n",
       "      <td>f</td>\n",
       "      <td>g</td>\n",
       "      <td>00202</td>\n",
       "      <td>0</td>\n",
       "      <td>+</td>\n",
       "    </tr>\n",
       "    <tr>\n",
       "      <th>1</th>\n",
       "      <td>a</td>\n",
       "      <td>58.67</td>\n",
       "      <td>4.460</td>\n",
       "      <td>u</td>\n",
       "      <td>g</td>\n",
       "      <td>q</td>\n",
       "      <td>h</td>\n",
       "      <td>3.04</td>\n",
       "      <td>t</td>\n",
       "      <td>t</td>\n",
       "      <td>6</td>\n",
       "      <td>f</td>\n",
       "      <td>g</td>\n",
       "      <td>00043</td>\n",
       "      <td>560</td>\n",
       "      <td>+</td>\n",
       "    </tr>\n",
       "    <tr>\n",
       "      <th>2</th>\n",
       "      <td>a</td>\n",
       "      <td>24.50</td>\n",
       "      <td>0.500</td>\n",
       "      <td>u</td>\n",
       "      <td>g</td>\n",
       "      <td>q</td>\n",
       "      <td>h</td>\n",
       "      <td>1.50</td>\n",
       "      <td>t</td>\n",
       "      <td>f</td>\n",
       "      <td>0</td>\n",
       "      <td>f</td>\n",
       "      <td>g</td>\n",
       "      <td>00280</td>\n",
       "      <td>824</td>\n",
       "      <td>+</td>\n",
       "    </tr>\n",
       "    <tr>\n",
       "      <th>3</th>\n",
       "      <td>b</td>\n",
       "      <td>27.83</td>\n",
       "      <td>1.540</td>\n",
       "      <td>u</td>\n",
       "      <td>g</td>\n",
       "      <td>w</td>\n",
       "      <td>v</td>\n",
       "      <td>3.75</td>\n",
       "      <td>t</td>\n",
       "      <td>t</td>\n",
       "      <td>5</td>\n",
       "      <td>t</td>\n",
       "      <td>g</td>\n",
       "      <td>00100</td>\n",
       "      <td>3</td>\n",
       "      <td>+</td>\n",
       "    </tr>\n",
       "    <tr>\n",
       "      <th>4</th>\n",
       "      <td>b</td>\n",
       "      <td>20.17</td>\n",
       "      <td>5.625</td>\n",
       "      <td>u</td>\n",
       "      <td>g</td>\n",
       "      <td>w</td>\n",
       "      <td>v</td>\n",
       "      <td>1.71</td>\n",
       "      <td>t</td>\n",
       "      <td>f</td>\n",
       "      <td>0</td>\n",
       "      <td>f</td>\n",
       "      <td>s</td>\n",
       "      <td>00120</td>\n",
       "      <td>0</td>\n",
       "      <td>+</td>\n",
       "    </tr>\n",
       "  </tbody>\n",
       "</table>\n",
       "</div>"
      ],
      "text/plain": [
       "   A      B      C  D  E  F  G     H  I  J  K  L  M      N    O  P\n",
       "0  b  30.83  0.000  u  g  w  v  1.25  t  t  1  f  g  00202    0  +\n",
       "1  a  58.67  4.460  u  g  q  h  3.04  t  t  6  f  g  00043  560  +\n",
       "2  a  24.50  0.500  u  g  q  h  1.50  t  f  0  f  g  00280  824  +\n",
       "3  b  27.83  1.540  u  g  w  v  3.75  t  t  5  t  g  00100    3  +\n",
       "4  b  20.17  5.625  u  g  w  v  1.71  t  f  0  f  s  00120    0  +"
      ]
     },
     "execution_count": 2,
     "metadata": {},
     "output_type": "execute_result"
    }
   ],
   "source": [
    "# Load dataset\n",
    "#df = pd.read_csv('../input/ucidata/crx.data',header=None)\n",
    "header_names=['A','B','C','D','E','F','G','H','I','J','K','L','M','N','O','P']\n",
    "df = pd.read_csv('../Data/crx.data',names=header_names)\n",
    "\n",
    "# Inspect data\n",
    "df.head()"
   ]
  },
  {
   "cell_type": "code",
   "execution_count": 3,
   "id": "2defe331",
   "metadata": {},
   "outputs": [],
   "source": [
    "df = df.replace('?',np.nan)"
   ]
  },
  {
   "cell_type": "code",
   "execution_count": 4,
   "id": "b0f60874",
   "metadata": {},
   "outputs": [],
   "source": [
    "def fix_missing_mean(df,col):\n",
    "    ''' This function takes a data frame as input \n",
    "    replaces the missing values of a particular column with it's mean value\n",
    "    '''\n",
    "    #replace missing values with mean \n",
    "    df[col] = pd.to_numeric(df[col], errors = 'coerce')\n",
    "    df[col].fillna(df[col].mean(), inplace = True)    \n",
    "\n",
    "def fix_missing_mode(df,col):\n",
    "    ''' This function takes a data frame as input \n",
    "    replaces the missing values of a particular column with it's mean value\n",
    "    '''\n",
    "    #replace missing values with mode \n",
    "    #df[col] = pd.to_numeric(df[col], errors = 'coerce')\n",
    "    df[col].fillna(df[col].mode(), inplace = True)    \n",
    "\n",
    "    \n",
    "def fix_missing_ffill(df, col):\n",
    "    ''' This function takes a data frame as input \n",
    "    replaces the missing values of a particular column with the value from the previous row\n",
    "    '''\n",
    "    #df[col] = pd.to_numeric(df[col], errors = 'coerce')\n",
    "    df[col] = df[col].fillna(method='ffill')  \n",
    "    \n",
    "def fix_missing_bfill(df, col):\n",
    "    ''' This function takes a data frame as input \n",
    "    replaces the missing values of a particular column with the value from the next row\n",
    "    '''\n",
    "    #df[col] = pd.to_numeric(df[col], errors = 'coerce')\n",
    "    df[col] = df[col].fillna(method='bfill') "
   ]
  },
  {
   "cell_type": "code",
   "execution_count": 5,
   "id": "22889a81",
   "metadata": {},
   "outputs": [],
   "source": [
    "fix_missing_ffill(df,'A')\n",
    "fix_missing_ffill(df,'B')\n",
    "fix_missing_ffill(df,'D')\n",
    "fix_missing_ffill(df,'E')\n",
    "fix_missing_ffill(df,'F')\n",
    "fix_missing_ffill(df,'G')\n",
    "fix_missing_mean(df,'N')"
   ]
  },
  {
   "cell_type": "code",
   "execution_count": 6,
   "id": "6be0b062",
   "metadata": {},
   "outputs": [
    {
     "data": {
      "text/html": [
       "<div>\n",
       "<style scoped>\n",
       "    .dataframe tbody tr th:only-of-type {\n",
       "        vertical-align: middle;\n",
       "    }\n",
       "\n",
       "    .dataframe tbody tr th {\n",
       "        vertical-align: top;\n",
       "    }\n",
       "\n",
       "    .dataframe thead th {\n",
       "        text-align: right;\n",
       "    }\n",
       "</style>\n",
       "<table border=\"1\" class=\"dataframe\">\n",
       "  <thead>\n",
       "    <tr style=\"text-align: right;\">\n",
       "      <th></th>\n",
       "      <th>A</th>\n",
       "      <th>B</th>\n",
       "      <th>C</th>\n",
       "      <th>D</th>\n",
       "      <th>E</th>\n",
       "      <th>F</th>\n",
       "      <th>G</th>\n",
       "      <th>H</th>\n",
       "      <th>I</th>\n",
       "      <th>J</th>\n",
       "      <th>K</th>\n",
       "      <th>L</th>\n",
       "      <th>M</th>\n",
       "      <th>N</th>\n",
       "      <th>O</th>\n",
       "    </tr>\n",
       "  </thead>\n",
       "  <tbody>\n",
       "    <tr>\n",
       "      <th>0</th>\n",
       "      <td>b</td>\n",
       "      <td>30.83</td>\n",
       "      <td>0.000</td>\n",
       "      <td>u</td>\n",
       "      <td>g</td>\n",
       "      <td>w</td>\n",
       "      <td>v</td>\n",
       "      <td>1.25</td>\n",
       "      <td>t</td>\n",
       "      <td>t</td>\n",
       "      <td>1</td>\n",
       "      <td>f</td>\n",
       "      <td>g</td>\n",
       "      <td>202.0</td>\n",
       "      <td>0</td>\n",
       "    </tr>\n",
       "    <tr>\n",
       "      <th>1</th>\n",
       "      <td>a</td>\n",
       "      <td>58.67</td>\n",
       "      <td>4.460</td>\n",
       "      <td>u</td>\n",
       "      <td>g</td>\n",
       "      <td>q</td>\n",
       "      <td>h</td>\n",
       "      <td>3.04</td>\n",
       "      <td>t</td>\n",
       "      <td>t</td>\n",
       "      <td>6</td>\n",
       "      <td>f</td>\n",
       "      <td>g</td>\n",
       "      <td>43.0</td>\n",
       "      <td>560</td>\n",
       "    </tr>\n",
       "    <tr>\n",
       "      <th>2</th>\n",
       "      <td>a</td>\n",
       "      <td>24.50</td>\n",
       "      <td>0.500</td>\n",
       "      <td>u</td>\n",
       "      <td>g</td>\n",
       "      <td>q</td>\n",
       "      <td>h</td>\n",
       "      <td>1.50</td>\n",
       "      <td>t</td>\n",
       "      <td>f</td>\n",
       "      <td>0</td>\n",
       "      <td>f</td>\n",
       "      <td>g</td>\n",
       "      <td>280.0</td>\n",
       "      <td>824</td>\n",
       "    </tr>\n",
       "    <tr>\n",
       "      <th>3</th>\n",
       "      <td>b</td>\n",
       "      <td>27.83</td>\n",
       "      <td>1.540</td>\n",
       "      <td>u</td>\n",
       "      <td>g</td>\n",
       "      <td>w</td>\n",
       "      <td>v</td>\n",
       "      <td>3.75</td>\n",
       "      <td>t</td>\n",
       "      <td>t</td>\n",
       "      <td>5</td>\n",
       "      <td>t</td>\n",
       "      <td>g</td>\n",
       "      <td>100.0</td>\n",
       "      <td>3</td>\n",
       "    </tr>\n",
       "    <tr>\n",
       "      <th>4</th>\n",
       "      <td>b</td>\n",
       "      <td>20.17</td>\n",
       "      <td>5.625</td>\n",
       "      <td>u</td>\n",
       "      <td>g</td>\n",
       "      <td>w</td>\n",
       "      <td>v</td>\n",
       "      <td>1.71</td>\n",
       "      <td>t</td>\n",
       "      <td>f</td>\n",
       "      <td>0</td>\n",
       "      <td>f</td>\n",
       "      <td>s</td>\n",
       "      <td>120.0</td>\n",
       "      <td>0</td>\n",
       "    </tr>\n",
       "  </tbody>\n",
       "</table>\n",
       "</div>"
      ],
      "text/plain": [
       "   A      B      C  D  E  F  G     H  I  J  K  L  M      N    O\n",
       "0  b  30.83  0.000  u  g  w  v  1.25  t  t  1  f  g  202.0    0\n",
       "1  a  58.67  4.460  u  g  q  h  3.04  t  t  6  f  g   43.0  560\n",
       "2  a  24.50  0.500  u  g  q  h  1.50  t  f  0  f  g  280.0  824\n",
       "3  b  27.83  1.540  u  g  w  v  3.75  t  t  5  t  g  100.0    3\n",
       "4  b  20.17  5.625  u  g  w  v  1.71  t  f  0  f  s  120.0    0"
      ]
     },
     "execution_count": 6,
     "metadata": {},
     "output_type": "execute_result"
    }
   ],
   "source": [
    "# Separate target from features\n",
    "y = df['P']\n",
    "features = df\n",
    "features = features.drop(['P'], axis=1)\n",
    "# Preview features\n",
    "features.head()"
   ]
  },
  {
   "cell_type": "code",
   "execution_count": 7,
   "id": "c7842eb3",
   "metadata": {},
   "outputs": [
    {
     "data": {
      "text/html": [
       "<div>\n",
       "<style scoped>\n",
       "    .dataframe tbody tr th:only-of-type {\n",
       "        vertical-align: middle;\n",
       "    }\n",
       "\n",
       "    .dataframe tbody tr th {\n",
       "        vertical-align: top;\n",
       "    }\n",
       "\n",
       "    .dataframe thead th {\n",
       "        text-align: right;\n",
       "    }\n",
       "</style>\n",
       "<table border=\"1\" class=\"dataframe\">\n",
       "  <thead>\n",
       "    <tr style=\"text-align: right;\">\n",
       "      <th></th>\n",
       "      <th>A</th>\n",
       "      <th>B</th>\n",
       "      <th>C</th>\n",
       "      <th>D</th>\n",
       "      <th>E</th>\n",
       "      <th>F</th>\n",
       "      <th>G</th>\n",
       "      <th>H</th>\n",
       "      <th>I</th>\n",
       "      <th>J</th>\n",
       "      <th>K</th>\n",
       "      <th>L</th>\n",
       "      <th>M</th>\n",
       "      <th>N</th>\n",
       "      <th>O</th>\n",
       "    </tr>\n",
       "  </thead>\n",
       "  <tbody>\n",
       "    <tr>\n",
       "      <th>0</th>\n",
       "      <td>1.0</td>\n",
       "      <td>156.0</td>\n",
       "      <td>0.000</td>\n",
       "      <td>1.0</td>\n",
       "      <td>0.0</td>\n",
       "      <td>12.0</td>\n",
       "      <td>7.0</td>\n",
       "      <td>1.25</td>\n",
       "      <td>1.0</td>\n",
       "      <td>1.0</td>\n",
       "      <td>1</td>\n",
       "      <td>0.0</td>\n",
       "      <td>0.0</td>\n",
       "      <td>69.0</td>\n",
       "      <td>0</td>\n",
       "    </tr>\n",
       "    <tr>\n",
       "      <th>1</th>\n",
       "      <td>0.0</td>\n",
       "      <td>328.0</td>\n",
       "      <td>4.460</td>\n",
       "      <td>1.0</td>\n",
       "      <td>0.0</td>\n",
       "      <td>10.0</td>\n",
       "      <td>3.0</td>\n",
       "      <td>3.04</td>\n",
       "      <td>1.0</td>\n",
       "      <td>1.0</td>\n",
       "      <td>6</td>\n",
       "      <td>0.0</td>\n",
       "      <td>0.0</td>\n",
       "      <td>11.0</td>\n",
       "      <td>560</td>\n",
       "    </tr>\n",
       "    <tr>\n",
       "      <th>2</th>\n",
       "      <td>0.0</td>\n",
       "      <td>89.0</td>\n",
       "      <td>0.500</td>\n",
       "      <td>1.0</td>\n",
       "      <td>0.0</td>\n",
       "      <td>10.0</td>\n",
       "      <td>3.0</td>\n",
       "      <td>1.50</td>\n",
       "      <td>1.0</td>\n",
       "      <td>0.0</td>\n",
       "      <td>0</td>\n",
       "      <td>0.0</td>\n",
       "      <td>0.0</td>\n",
       "      <td>97.0</td>\n",
       "      <td>824</td>\n",
       "    </tr>\n",
       "    <tr>\n",
       "      <th>3</th>\n",
       "      <td>1.0</td>\n",
       "      <td>125.0</td>\n",
       "      <td>1.540</td>\n",
       "      <td>1.0</td>\n",
       "      <td>0.0</td>\n",
       "      <td>12.0</td>\n",
       "      <td>7.0</td>\n",
       "      <td>3.75</td>\n",
       "      <td>1.0</td>\n",
       "      <td>1.0</td>\n",
       "      <td>5</td>\n",
       "      <td>1.0</td>\n",
       "      <td>0.0</td>\n",
       "      <td>31.0</td>\n",
       "      <td>3</td>\n",
       "    </tr>\n",
       "    <tr>\n",
       "      <th>4</th>\n",
       "      <td>1.0</td>\n",
       "      <td>43.0</td>\n",
       "      <td>5.625</td>\n",
       "      <td>1.0</td>\n",
       "      <td>0.0</td>\n",
       "      <td>12.0</td>\n",
       "      <td>7.0</td>\n",
       "      <td>1.71</td>\n",
       "      <td>1.0</td>\n",
       "      <td>0.0</td>\n",
       "      <td>0</td>\n",
       "      <td>0.0</td>\n",
       "      <td>2.0</td>\n",
       "      <td>37.0</td>\n",
       "      <td>0</td>\n",
       "    </tr>\n",
       "  </tbody>\n",
       "</table>\n",
       "</div>"
      ],
      "text/plain": [
       "     A      B      C    D    E     F    G     H    I    J  K    L    M     N  \\\n",
       "0  1.0  156.0  0.000  1.0  0.0  12.0  7.0  1.25  1.0  1.0  1  0.0  0.0  69.0   \n",
       "1  0.0  328.0  4.460  1.0  0.0  10.0  3.0  3.04  1.0  1.0  6  0.0  0.0  11.0   \n",
       "2  0.0   89.0  0.500  1.0  0.0  10.0  3.0  1.50  1.0  0.0  0  0.0  0.0  97.0   \n",
       "3  1.0  125.0  1.540  1.0  0.0  12.0  7.0  3.75  1.0  1.0  5  1.0  0.0  31.0   \n",
       "4  1.0   43.0  5.625  1.0  0.0  12.0  7.0  1.71  1.0  0.0  0  0.0  2.0  37.0   \n",
       "\n",
       "     O  \n",
       "0    0  \n",
       "1  560  \n",
       "2  824  \n",
       "3    3  \n",
       "4    0  "
      ]
     },
     "execution_count": 7,
     "metadata": {},
     "output_type": "execute_result"
    }
   ],
   "source": [
    "# List of categorical columns\n",
    "object_cols = ['A','B','D','E','F','G','I','J','L','M','N']\n",
    "\n",
    "# ordinal-encode categorical columns\n",
    "X = features.copy()\n",
    "ordinal_encoder = OrdinalEncoder()\n",
    "X[object_cols] = ordinal_encoder.fit_transform(features[object_cols])\n",
    "\n",
    "# Preview the ordinal-encoded features\n",
    "X.head()"
   ]
  },
  {
   "cell_type": "code",
   "execution_count": 56,
   "id": "ffd30648",
   "metadata": {},
   "outputs": [],
   "source": [
    "X_norm=(X-X.mean())/X.std()\n",
    "\n",
    "# X_norm=(X-X.min())/(X.max()-X.min())"
   ]
  },
  {
   "cell_type": "markdown",
   "id": "1ec24fb2",
   "metadata": {},
   "source": [
    "**Part 1**"
   ]
  },
  {
   "cell_type": "code",
   "execution_count": 9,
   "id": "de5642db",
   "metadata": {},
   "outputs": [
    {
     "data": {
      "text/plain": [
       "Text(0.5, 1.0, 'Within Cluster Sum of Squares vs Number of Clusters')"
      ]
     },
     "execution_count": 9,
     "metadata": {},
     "output_type": "execute_result"
    },
    {
     "data": {
      "image/png": "[encoded data removed]",
      "text/plain": [
       "<Figure size 432x288 with 1 Axes>"
      ]
     },
     "metadata": {
      "needs_background": "light"
     },
     "output_type": "display_data"
    }
   ],
   "source": [
    "wcss = [] \n",
    "for number_of_clusters in range(1, 11): \n",
    "    kmeans = KMeans(n_clusters = number_of_clusters, random_state = 42)\n",
    "    kmeans.fit(X_norm) \n",
    "    wcss.append(kmeans.inertia_)\n",
    "\n",
    "plt.plot(range(1, 11), wcss)\n",
    "plt.xlabel('Number of Clusters')\n",
    "plt.ylabel('Within Cluster Sum of Squares')\n",
    "plt.title('Within Cluster Sum of Squares vs Number of Clusters')"
   ]
  },
  {
   "cell_type": "code",
   "execution_count": 10,
   "id": "47f04a20",
   "metadata": {},
   "outputs": [
    {
     "data": {
      "image/png": "[encoded data removed]",
      "text/plain": [
       "<Figure size 432x288 with 1 Axes>"
      ]
     },
     "metadata": {
      "needs_background": "light"
     },
     "output_type": "display_data"
    }
   ],
   "source": [
    "kmeans = KMeans(n_clusters = 6, random_state = 42)\n",
    "kmeans.fit(X_norm) \n",
    "lab = kmeans.labels_\n",
    "\n",
    "bar1 = [0]*6\n",
    "bar2 = [0]*6\n",
    "\n",
    "for i in range(len(lab)):\n",
    "    if y[i] == \"+\":\n",
    "        bar1[lab[i]] += 1\n",
    "    else:\n",
    "        bar2[lab[i]] += 1\n",
    "\n",
    "labels = ['1', '2', '3', '4', '5', '6']\n",
    "# men_means = [20, 34, 30, 35, 27]\n",
    "# women_means = [25, 32, 34, 20, 25]\n",
    "\n",
    "x = np.arange(len(labels))  # the label locations\n",
    "width = 0.35  # the width of the bars\n",
    "\n",
    "fig, ax = plt.subplots()\n",
    "rects1 = ax.bar(x - width/2, bar1, width, label='Approved')\n",
    "rects2 = ax.bar(x + width/2, bar2, width, label='Declined')\n",
    "\n",
    "# Add some text for labels, title and custom x-axis tick labels, etc.\n",
    "ax.set_ylabel('Count')\n",
    "ax.set_xlabel('Clusters')\n",
    "ax.set_title('Label Distribution in Clusters')\n",
    "ax.set_xticks(x)\n",
    "ax.legend()\n",
    "\n",
    "# ax.bar_label(rects1, padding=3)\n",
    "# ax.bar_label(rects2, padding=3)\n",
    "\n",
    "fig.tight_layout()\n",
    "\n",
    "plt.show()"
   ]
  },
  {
   "cell_type": "code",
   "execution_count": 11,
   "id": "6412fbeb",
   "metadata": {},
   "outputs": [
    {
     "data": {
      "text/plain": [
       "<matplotlib.legend.Legend at 0x7faac81b7190>"
      ]
     },
     "execution_count": 11,
     "metadata": {},
     "output_type": "execute_result"
    },
    {
     "data": {
      "image/png": "[encoded data removed]",
      "text/plain": [
       "<Figure size 576x432 with 1 Axes>"
      ]
     },
     "metadata": {
      "needs_background": "light"
     },
     "output_type": "display_data"
    }
   ],
   "source": [
    "# General EM for GMM\n",
    "from sklearn import preprocessing\n",
    "import itertools\n",
    "\n",
    "# transform data such that the distribution mean = 0 and std = 1\n",
    "# scaler = preprocessing.StandardScaler()\n",
    "# scaler.fit(X)\n",
    "# scaled_X = scaler.transform(X)\n",
    "\n",
    "# xs = pd.DataFrame(scaled_X, columns = X.columns)\n",
    "\n",
    "from sklearn.mixture import GaussianMixture\n",
    "\n",
    "lowest_bic = np.infty\n",
    "bic = []\n",
    "n_components_range = range(1, 13)\n",
    "cv_types = [\"spherical\", \"tied\", \"diag\", \"full\"]\n",
    "for cv_type in cv_types:\n",
    "    for n_components in n_components_range:\n",
    "        # Fit a Gaussian mixture with EM\n",
    "        gmm = GaussianMixture(\n",
    "            n_components=n_components, covariance_type=cv_type, random_state=0\n",
    "        )\n",
    "        gmm.fit(X)\n",
    "        bic.append(gmm.bic(X))\n",
    "        if bic[-1] < lowest_bic:\n",
    "            lowest_bic = bic[-1]\n",
    "            best_gmm = gmm\n",
    "\n",
    "bic = np.array(bic)\n",
    "color_iter = itertools.cycle([\"navy\", \"turquoise\", \"cornflowerblue\", \"darkorange\"])\n",
    "clf_gmm = best_gmm\n",
    "bars = []\n",
    "\n",
    "# Plot the BIC scores\n",
    "plt.figure(figsize=(8, 6))\n",
    "spl = plt.subplot(2, 1, 1)\n",
    "for i, (cv_type, color) in enumerate(zip(cv_types, color_iter)):\n",
    "    xpos = np.array(n_components_range) + 0.2 * (i - 2)\n",
    "    bars.append(\n",
    "        plt.bar(\n",
    "            xpos,\n",
    "            bic[i * len(n_components_range) : (i + 1) * len(n_components_range)],\n",
    "            width=0.2,\n",
    "            color=color,\n",
    "        )\n",
    "    )\n",
    "plt.xticks(n_components_range)\n",
    "plt.ylim([bic.min() * 1.01 - 0.01 * bic.max(), bic.max()])\n",
    "plt.title(\"BIC score per model\")\n",
    "xpos = (\n",
    "    np.mod(bic.argmin(), len(n_components_range))\n",
    "    + 0.65\n",
    "    + 0.2 * np.floor(bic.argmin() / len(n_components_range))\n",
    ")\n",
    "plt.text(xpos, bic.min() * 0.97 + 0.03 * bic.max(), \"*\", fontsize=14)\n",
    "spl.set_xlabel(\"Number of Clusters\")\n",
    "spl.legend([b[0] for b in bars], cv_types)"
   ]
  },
  {
   "cell_type": "code",
   "execution_count": 12,
   "id": "6e846d48",
   "metadata": {},
   "outputs": [
    {
     "data": {
      "image/png": "[encoded data removed]",
      "text/plain": [
       "<Figure size 432x288 with 1 Axes>"
      ]
     },
     "metadata": {
      "needs_background": "light"
     },
     "output_type": "display_data"
    }
   ],
   "source": [
    "lab = clf_gmm.fit_predict(X)\n",
    "\n",
    "bar1 = [0]*9\n",
    "bar2 = [0]*9\n",
    "\n",
    "for i in range(len(lab)):\n",
    "    if y[i] == \"+\":\n",
    "        bar1[lab[i]] += 1\n",
    "    else:\n",
    "        bar2[lab[i]] += 1\n",
    "\n",
    "labels = ['1', '2', '3', '4', '5', '6', '7', '8', '9']\n",
    "# men_means = [20, 34, 30, 35, 27]\n",
    "# women_means = [25, 32, 34, 20, 25]\n",
    "\n",
    "x = np.arange(len(labels))  # the label locations\n",
    "width = 0.35  # the width of the bars\n",
    "\n",
    "fig, ax = plt.subplots()\n",
    "rects1 = ax.bar(x - width/2, bar1, width, label='Approved')\n",
    "rects2 = ax.bar(x + width/2, bar2, width, label='Declined')\n",
    "\n",
    "# Add some text for labels, title and custom x-axis tick labels, etc.\n",
    "ax.set_ylabel('Count')\n",
    "ax.set_xlabel('Clusters')\n",
    "ax.set_title('Label Distribution in Clusters')\n",
    "ax.set_xticks(x)\n",
    "ax.legend()\n",
    "\n",
    "# ax.bar_label(rects1, padding=3)\n",
    "# ax.bar_label(rects2, padding=3)\n",
    "\n",
    "fig.tight_layout()\n",
    "\n",
    "plt.show()"
   ]
  },
  {
   "cell_type": "markdown",
   "id": "85866d1b",
   "metadata": {},
   "source": [
    "**Dimension Reduction**"
   ]
  },
  {
   "cell_type": "code",
   "execution_count": 13,
   "id": "7f452304",
   "metadata": {},
   "outputs": [
    {
     "data": {
      "image/png": "[encoded data removed]",
      "text/plain": [
       "<Figure size 432x288 with 1 Axes>"
      ]
     },
     "metadata": {
      "needs_background": "light"
     },
     "output_type": "display_data"
    }
   ],
   "source": [
    "from sklearn.random_projection import GaussianRandomProjection\n",
    "from sklearn.decomposition import PCA\n",
    "from sklearn.decomposition import FastICA\n",
    "from sklearn.decomposition import TruncatedSVD\n",
    "\n",
    "pca = PCA(n_components=15, random_state=0)\n",
    "pca.fit(X_norm)\n",
    "# variance = pca.explained_variance_ratio_ #calculate variance ratios\n",
    "# var=np.cumsum(np.round(covar_matrix.explained_variance_ratio_, decimals=3)*100)\n",
    "var=np.cumsum(pca.explained_variance_)\n",
    "# print(var) #cumulative sum of variance explained with [n] features\n",
    "plt.ylabel('Variance Explained')\n",
    "plt.xlabel('Number of Components')\n",
    "plt.title('PCA Analysis')\n",
    "# plt.ylim(0,100.5)\n",
    "plt.style.context('seaborn-whitegrid')\n",
    "plt.plot(range(1, 16), pca.explained_variance_)\n",
    "\n",
    "pca = PCA(n_components=11, random_state=0)\n",
    "X_pca = pca.fit_transform(X_norm)"
   ]
  },
  {
   "cell_type": "code",
   "execution_count": 14,
   "id": "834087eb",
   "metadata": {},
   "outputs": [
    {
     "name": "stderr",
     "output_type": "stream",
     "text": [
      "/Users/bryanliu/miniconda3/lib/python3.9/site-packages/sklearn/decomposition/_fastica.py:494: FutureWarning: Starting in v1.3, whiten='unit-variance' will be used by default.\n",
      "  warnings.warn(\n",
      "/Users/bryanliu/miniconda3/lib/python3.9/site-packages/sklearn/decomposition/_fastica.py:494: FutureWarning: Starting in v1.3, whiten='unit-variance' will be used by default.\n",
      "  warnings.warn(\n"
     ]
    },
    {
     "data": {
      "image/png": "[encoded data removed]",
      "text/plain": [
       "<Figure size 432x288 with 1 Axes>"
      ]
     },
     "metadata": {
      "needs_background": "light"
     },
     "output_type": "display_data"
    }
   ],
   "source": [
    "from scipy.stats import kurtosis\n",
    "\n",
    "ica = FastICA(n_components=15, random_state=10)\n",
    "X_ica = ica.fit_transform(X_norm)\n",
    "\n",
    "plt.plot(range(1, 16), kurtosis(X_ica))\n",
    "plt.ylabel('Kurtosis')\n",
    "plt.xlabel('Number of Components')\n",
    "plt.title('ICA Analysis')\n",
    "\n",
    "ica = FastICA(n_components=7, random_state=0)\n",
    "X_ica = ica.fit_transform(X_norm)"
   ]
  },
  {
   "cell_type": "code",
   "execution_count": 15,
   "id": "750706c5",
   "metadata": {},
   "outputs": [
    {
     "data": {
      "image/png": "[encoded data removed]",
      "text/plain": [
       "<Figure size 432x288 with 1 Axes>"
      ]
     },
     "metadata": {
      "needs_background": "light"
     },
     "output_type": "display_data"
    }
   ],
   "source": [
    "error = []\n",
    "for i in range(1, 16):\n",
    "    grp = GaussianRandomProjection(n_components=i, random_state=0, compute_inverse_components=True)\n",
    "    X_grp = grp.fit_transform(X_norm)\n",
    "    m = grp.inverse_components_\n",
    "    inv = np.linalg.pinv(m)\n",
    "    X_inv = np.matmul(X_grp, inv)\n",
    "    mse = ((np.array(X_norm)-X_inv)**2).mean()\n",
    "    error.append(mse)\n",
    "\n",
    "plt.plot(range(1, 16), error)\n",
    "plt.ylabel('Reconstruction Error')\n",
    "plt.xlabel('Number of Components')\n",
    "plt.title('Random Projection Analysis')\n",
    "\n",
    "grp = GaussianRandomProjection(n_components=7, random_state=0)\n",
    "X_grp = grp.fit_transform(X_norm)"
   ]
  },
  {
   "cell_type": "code",
   "execution_count": 16,
   "id": "b9bcc042",
   "metadata": {},
   "outputs": [
    {
     "data": {
      "image/png": "[encoded data removed]",
      "text/plain": [
       "<Figure size 432x288 with 1 Axes>"
      ]
     },
     "metadata": {
      "needs_background": "light"
     },
     "output_type": "display_data"
    }
   ],
   "source": [
    "svd = TruncatedSVD(n_components=15, n_iter=7, random_state=0)\n",
    "X_svd = svd.fit_transform(X_norm)\n",
    "plt.ylabel('Variance Explained')\n",
    "plt.xlabel('Number of Components')\n",
    "# plt.yscale('log')\n",
    "plt.title('Truncated SVD Analysis')\n",
    "# plt.ylim(0,100.5)\n",
    "plt.style.context('seaborn-whitegrid')\n",
    "plt.plot(range(1, 16), svd.explained_variance_)\n",
    "\n",
    "svd = TruncatedSVD(n_components=5, n_iter=7, random_state=0)\n",
    "X_svd = svd.fit_transform(X_norm)"
   ]
  },
  {
   "cell_type": "markdown",
   "id": "7ad02625",
   "metadata": {},
   "source": [
    "**Part 3 K Means**"
   ]
  },
  {
   "cell_type": "code",
   "execution_count": 47,
   "id": "fdb3010c",
   "metadata": {},
   "outputs": [
    {
     "data": {
      "text/plain": [
       "Text(0.5, 1.0, 'Within Cluster Sum of Squares vs Number of Clusters')"
      ]
     },
     "execution_count": 47,
     "metadata": {},
     "output_type": "execute_result"
    },
    {
     "data": {
      "image/png": "[encoded data removed]",
      "text/plain": [
       "<Figure size 432x288 with 1 Axes>"
      ]
     },
     "metadata": {
      "needs_background": "light"
     },
     "output_type": "display_data"
    }
   ],
   "source": [
    "# X_p3 = X_pca\n",
    "# X_p3 = X_ica\n",
    "X_p3 = X_grp\n",
    "# X_p3 = X_svd\n",
    "\n",
    "wcss = [] \n",
    "for number_of_clusters in range(1, 11): \n",
    "    kmeans = KMeans(n_clusters = number_of_clusters, random_state = 42)\n",
    "    kmeans.fit(X_p3) \n",
    "    wcss.append(kmeans.inertia_)\n",
    "\n",
    "plt.plot(range(1, 11), wcss)\n",
    "plt.xlabel('Number of Clusters')\n",
    "plt.ylabel('Within Cluster Sum of Squares')\n",
    "plt.title('Within Cluster Sum of Squares vs Number of Clusters')"
   ]
  },
  {
   "cell_type": "code",
   "execution_count": 51,
   "id": "9f6c6603",
   "metadata": {},
   "outputs": [
    {
     "data": {
      "image/png": "[encoded data removed]",
      "text/plain": [
       "<Figure size 432x288 with 1 Axes>"
      ]
     },
     "metadata": {
      "needs_background": "light"
     },
     "output_type": "display_data"
    }
   ],
   "source": [
    "cluster1 = 6\n",
    "\n",
    "kmeans = KMeans(n_clusters = cluster1, random_state = 42)\n",
    "kmeans.fit(X_p3) \n",
    "lab = kmeans.labels_\n",
    "\n",
    "bar1 = [0]*cluster1\n",
    "bar2 = [0]*cluster1\n",
    "\n",
    "for i in range(len(lab)):\n",
    "    if y[i] == \"+\":\n",
    "        bar1[lab[i]] += 1\n",
    "    else:\n",
    "        bar2[lab[i]] += 1\n",
    "\n",
    "# labels = ['1', '2', '3', '4', '5', '6']\n",
    "# men_means = [20, 34, 30, 35, 27]\n",
    "# women_means = [25, 32, 34, 20, 25]\n",
    "\n",
    "x = np.arange(cluster1)  # the label locations\n",
    "width = 0.35  # the width of the bars\n",
    "\n",
    "fig, ax = plt.subplots()\n",
    "rects1 = ax.bar(x - width/2, bar1, width, label='Approved')\n",
    "rects2 = ax.bar(x + width/2, bar2, width, label='Declined')\n",
    "\n",
    "# Add some text for labels, title and custom x-axis tick labels, etc.\n",
    "ax.set_ylabel('Count')\n",
    "ax.set_xlabel('Clusters')\n",
    "ax.set_title('K-Means on TruncatedSVD')\n",
    "ax.set_xticks(x)\n",
    "ax.legend()\n",
    "\n",
    "# ax.bar_label(rects1, padding=3)\n",
    "# ax.bar_label(rects2, padding=3)\n",
    "\n",
    "fig.tight_layout()\n",
    "\n",
    "plt.show()"
   ]
  },
  {
   "cell_type": "markdown",
   "id": "0e72d0d4",
   "metadata": {},
   "source": [
    "**Part 3 EM**"
   ]
  },
  {
   "cell_type": "code",
   "execution_count": 52,
   "id": "0cf2cded",
   "metadata": {},
   "outputs": [
    {
     "data": {
      "text/plain": [
       "<matplotlib.legend.Legend at 0x7faaae39a8e0>"
      ]
     },
     "execution_count": 52,
     "metadata": {},
     "output_type": "execute_result"
    },
    {
     "data": {
      "image/png": "[encoded data removed]",
      "text/plain": [
       "<Figure size 576x432 with 1 Axes>"
      ]
     },
     "metadata": {
      "needs_background": "light"
     },
     "output_type": "display_data"
    }
   ],
   "source": [
    "lowest_bic = np.infty\n",
    "bic = []\n",
    "n_components_range = range(1, 13)\n",
    "cv_types = [\"spherical\", \"tied\", \"diag\", \"full\"]\n",
    "for cv_type in cv_types:\n",
    "    for n_components in n_components_range:\n",
    "        # Fit a Gaussian mixture with EM\n",
    "        gmm = GaussianMixture(\n",
    "            n_components=n_components, covariance_type=cv_type, random_state=0\n",
    "        )\n",
    "        gmm.fit(X_p3)\n",
    "        bic.append(gmm.bic(X_p3))\n",
    "        if bic[-1] < lowest_bic:\n",
    "            lowest_bic = bic[-1]\n",
    "            best_gmm = gmm\n",
    "\n",
    "bic = np.array(bic)\n",
    "color_iter = itertools.cycle([\"navy\", \"turquoise\", \"cornflowerblue\", \"darkorange\"])\n",
    "clf_gmm = best_gmm\n",
    "bars = []\n",
    "\n",
    "# Plot the BIC scores\n",
    "plt.figure(figsize=(8, 6))\n",
    "spl = plt.subplot(2, 1, 1)\n",
    "for i, (cv_type, color) in enumerate(zip(cv_types, color_iter)):\n",
    "    xpos = np.array(n_components_range) + 0.2 * (i - 2)\n",
    "    bars.append(\n",
    "        plt.bar(\n",
    "            xpos,\n",
    "            bic[i * len(n_components_range) : (i + 1) * len(n_components_range)],\n",
    "            width=0.2,\n",
    "            color=color,\n",
    "        )\n",
    "    )\n",
    "plt.xticks(n_components_range)\n",
    "plt.ylim([bic.min() * 1.01 - 0.01 * bic.max(), bic.max()])\n",
    "plt.title(\"BIC score per model\")\n",
    "xpos = (\n",
    "    np.mod(bic.argmin(), len(n_components_range))\n",
    "    + 0.65\n",
    "    + 0.2 * np.floor(bic.argmin() / len(n_components_range))\n",
    ")\n",
    "plt.text(xpos, bic.min() * 0.97 + 0.03 * bic.max(), \"*\", fontsize=14)\n",
    "spl.set_xlabel(\"Number of Clusters\")\n",
    "spl.legend([b[0] for b in bars], cv_types)"
   ]
  },
  {
   "cell_type": "code",
   "execution_count": 46,
   "id": "95ffdb7f",
   "metadata": {},
   "outputs": [
    {
     "data": {
      "image/png": "[encoded data removed]",
      "text/plain": [
       "<Figure size 432x288 with 1 Axes>"
      ]
     },
     "metadata": {
      "needs_background": "light"
     },
     "output_type": "display_data"
    }
   ],
   "source": [
    "lab = clf_gmm.fit_predict(X)\n",
    "cluster2 = 9\n",
    "\n",
    "bar1 = [0]*cluster2\n",
    "bar2 = [0]*cluster2\n",
    "\n",
    "for i in range(len(lab)):\n",
    "    if y[i] == \"+\":\n",
    "        bar1[lab[i]] += 1\n",
    "    else:\n",
    "        bar2[lab[i]] += 1\n",
    "\n",
    "# labels = ['1', '2', '3', '4', '5', '6', '7', '8', '9']\n",
    "# men_means = [20, 34, 30, 35, 27]\n",
    "# women_means = [25, 32, 34, 20, 25]\n",
    "\n",
    "x = np.arange(cluster2)  # the label locations\n",
    "width = 0.35  # the width of the bars\n",
    "\n",
    "fig, ax = plt.subplots()\n",
    "rects1 = ax.bar(x - width/2, bar1, width, label='Approved')\n",
    "rects2 = ax.bar(x + width/2, bar2, width, label='Declined')\n",
    "\n",
    "# Add some text for labels, title and custom x-axis tick labels, etc.\n",
    "ax.set_ylabel('Count')\n",
    "ax.set_xlabel('Clusters')\n",
    "ax.set_title('EM on TruncatedSVD')\n",
    "ax.set_xticks(x)\n",
    "ax.legend()\n",
    "\n",
    "# ax.bar_label(rects1, padding=3)\n",
    "# ax.bar_label(rects2, padding=3)\n",
    "\n",
    "fig.tight_layout()\n",
    "\n",
    "plt.show()"
   ]
  },
  {
   "cell_type": "markdown",
   "id": "5fa7b2bc",
   "metadata": {},
   "source": [
    "**Part 4**"
   ]
  },
  {
   "cell_type": "code",
   "execution_count": 73,
   "id": "8a5f09ac",
   "metadata": {},
   "outputs": [
    {
     "name": "stdout",
     "output_type": "stream",
     "text": [
      "0.8405797101449275\n",
      "0.8333333333333334\n",
      "0.8405797101449275\n",
      "0.8043478260869565\n",
      "0.8260869565217391\n",
      "0.16306042671203613 0.3409607410430908 0.17002320289611816 0.3021368980407715 0.3029060363769531\n"
     ]
    },
    {
     "data": {
      "text/plain": [
       "<matplotlib.legend.Legend at 0x7faab0224a00>"
      ]
     },
     "execution_count": 73,
     "metadata": {},
     "output_type": "execute_result"
    },
    {
     "data": {
      "image/png": "[encoded data removed]",
      "text/plain": [
       "<Figure size 432x288 with 1 Axes>"
      ]
     },
     "metadata": {
      "needs_background": "light"
     },
     "output_type": "display_data"
    }
   ],
   "source": [
    "from sklearn.neural_network import MLPClassifier\n",
    "from time import time\n",
    "\n",
    "t0 = time()\n",
    "X_train, X_test, y_train, y_test = train_test_split(X_norm, y,test_size=0.20,random_state=2)\n",
    "mlp_clf0 = MLPClassifier(hidden_layer_sizes=(20,25, 10),  max_iter=550, solver='adam', activation='relu', alpha=0.7, \n",
    "                 learning_rate_init=0.01, learning_rate='adaptive',  verbose=False, momentum=0.1, random_state=0)\n",
    "mlp_clf0.fit(X_train, y_train)\n",
    "print(mlp_clf0.score(X_test, y_test))\n",
    "\n",
    "t1 = time()\n",
    "X_train, X_test, y_train, y_test = train_test_split(X_pca, y,test_size=0.20,random_state=2)\n",
    "mlp_clf1 = MLPClassifier(hidden_layer_sizes=(20,30, 20),  max_iter=550, solver='adam', activation='relu', alpha=0.7, \n",
    "                 learning_rate_init=0.01, learning_rate='adaptive',  verbose=False, momentum=0.1, random_state=0)\n",
    "mlp_clf1.fit(X_train, y_train)\n",
    "print(mlp_clf1.score(X_test, y_test))\n",
    "\n",
    "t2 = time()\n",
    "X_train, X_test, y_train, y_test = train_test_split(X_ica, y,test_size=0.20,random_state=2)\n",
    "mlp_clf2 = MLPClassifier(hidden_layer_sizes=(20,30, 20),  max_iter=550, solver='adam', activation='relu', alpha=0.7, \n",
    "                 learning_rate_init=0.01, learning_rate='adaptive',  verbose=False, momentum=0.1, random_state=0)\n",
    "mlp_clf2.fit(X_train, y_train)\n",
    "print(mlp_clf2.score(X_test, y_test))\n",
    "\n",
    "t3 = time()\n",
    "X_train, X_test, y_train, y_test = train_test_split(X_grp, y,test_size=0.20,random_state=2)\n",
    "mlp_clf3 = MLPClassifier(hidden_layer_sizes=(20,30, 20),  max_iter=550, solver='adam', activation='relu', alpha=0.7, \n",
    "                 learning_rate_init=0.01, learning_rate='adaptive',  verbose=False, momentum=0.1, random_state=0)\n",
    "mlp_clf3.fit(X_train, y_train)\n",
    "print(mlp_clf3.score(X_test, y_test))\n",
    "\n",
    "t4 = time()\n",
    "X_train, X_test, y_train, y_test = train_test_split(X_svd, y,test_size=0.20,random_state=2)\n",
    "mlp_clf4 = MLPClassifier(hidden_layer_sizes=(20,30, 20),  max_iter=550, solver='adam', activation='relu', alpha=0.7, \n",
    "                 learning_rate_init=0.01, learning_rate='adaptive',  verbose=False, momentum=0.1, random_state=0)\n",
    "mlp_clf4.fit(X_train, y_train)\n",
    "print(mlp_clf4.score(X_test, y_test))\n",
    "\n",
    "t5 = time()\n",
    "print(t5-t4, t4-t3, t3-t2, t2-t1, t1-t0)\n",
    "\n",
    "plt.plot(mlp_clf0.loss_curve_, label = f'Original')\n",
    "plt.plot(mlp_clf1.loss_curve_, label = f'PCA')\n",
    "plt.plot(mlp_clf2.loss_curve_, label = f'ICA')\n",
    "plt.plot(mlp_clf3.loss_curve_, label = f'Random Projection')\n",
    "plt.plot(mlp_clf4.loss_curve_, label = f'SVD')\n",
    "plt.xlabel('Iterations')\n",
    "plt.ylabel(\"Training Loss\")\n",
    "plt.title(\"MLP on Different Dimensionality Rduction\")\n",
    "plt.legend()"
   ]
  },
  {
   "cell_type": "markdown",
   "id": "19602453",
   "metadata": {},
   "source": [
    "**Part 5**"
   ]
  },
  {
   "cell_type": "code",
   "execution_count": 87,
   "id": "d9c74b1c",
   "metadata": {},
   "outputs": [
    {
     "name": "stdout",
     "output_type": "stream",
     "text": [
      "0.8405797101449275\n"
     ]
    },
    {
     "name": "stderr",
     "output_type": "stream",
     "text": [
      "/Users/bryanliu/miniconda3/lib/python3.9/site-packages/sklearn/utils/validation.py:1858: FutureWarning: Feature names only support names that are all strings. Got feature names with dtypes: ['int', 'str']. An error will be raised in 1.2.\n",
      "  warnings.warn(\n",
      "/Users/bryanliu/miniconda3/lib/python3.9/site-packages/sklearn/utils/validation.py:1858: FutureWarning: Feature names only support names that are all strings. Got feature names with dtypes: ['int', 'str']. An error will be raised in 1.2.\n",
      "  warnings.warn(\n",
      "/Users/bryanliu/miniconda3/lib/python3.9/site-packages/sklearn/utils/validation.py:1858: FutureWarning: Feature names only support names that are all strings. Got feature names with dtypes: ['int', 'str']. An error will be raised in 1.2.\n",
      "  warnings.warn(\n"
     ]
    },
    {
     "name": "stdout",
     "output_type": "stream",
     "text": [
      "0.8478260869565217\n"
     ]
    },
    {
     "name": "stderr",
     "output_type": "stream",
     "text": [
      "/Users/bryanliu/miniconda3/lib/python3.9/site-packages/sklearn/utils/validation.py:1858: FutureWarning: Feature names only support names that are all strings. Got feature names with dtypes: ['int', 'str']. An error will be raised in 1.2.\n",
      "  warnings.warn(\n",
      "/Users/bryanliu/miniconda3/lib/python3.9/site-packages/sklearn/utils/validation.py:1858: FutureWarning: Feature names only support names that are all strings. Got feature names with dtypes: ['int', 'str']. An error will be raised in 1.2.\n",
      "  warnings.warn(\n"
     ]
    },
    {
     "name": "stdout",
     "output_type": "stream",
     "text": [
      "0.8043478260869565\n"
     ]
    },
    {
     "name": "stderr",
     "output_type": "stream",
     "text": [
      "/Users/bryanliu/miniconda3/lib/python3.9/site-packages/sklearn/utils/validation.py:1858: FutureWarning: Feature names only support names that are all strings. Got feature names with dtypes: ['int', 'str']. An error will be raised in 1.2.\n",
      "  warnings.warn(\n",
      "/Users/bryanliu/miniconda3/lib/python3.9/site-packages/sklearn/utils/validation.py:1858: FutureWarning: Feature names only support names that are all strings. Got feature names with dtypes: ['int', 'str']. An error will be raised in 1.2.\n",
      "  warnings.warn(\n"
     ]
    },
    {
     "name": "stdout",
     "output_type": "stream",
     "text": [
      "0.7898550724637681\n",
      "0.8115942028985508\n",
      "0.342897891998291 0.37228894233703613 0.269258975982666 0.22788500785827637 0.2674410343170166\n"
     ]
    },
    {
     "name": "stderr",
     "output_type": "stream",
     "text": [
      "/Users/bryanliu/miniconda3/lib/python3.9/site-packages/sklearn/utils/validation.py:1858: FutureWarning: Feature names only support names that are all strings. Got feature names with dtypes: ['int', 'str']. An error will be raised in 1.2.\n",
      "  warnings.warn(\n"
     ]
    },
    {
     "data": {
      "text/plain": [
       "<matplotlib.legend.Legend at 0x7faab0733160>"
      ]
     },
     "execution_count": 87,
     "metadata": {},
     "output_type": "execute_result"
    },
    {
     "data": {
      "image/png": "[encoded data removed]",
      "text/plain": [
       "<Figure size 432x288 with 1 Axes>"
      ]
     },
     "metadata": {
      "needs_background": "light"
     },
     "output_type": "display_data"
    }
   ],
   "source": [
    "#pca \n",
    "kmeans = KMeans(n_clusters = 6, random_state = 42)\n",
    "kmeans.fit(X_pca) \n",
    "pca_label1 = kmeans.labels_\n",
    "\n",
    "gmm = GaussianMixture(n_components=10, covariance_type='full', random_state=0)\n",
    "pca_label2 = gmm.fit_predict(X_pca)\n",
    "X_pca_cls = pd.DataFrame(X_pca)\n",
    "X_pca_cls['kmeans'] = pca_label1\n",
    "X_pca_cls['gmm'] = pca_label2\n",
    "\n",
    "#ica\n",
    "kmeans = KMeans(n_clusters = 6, random_state = 42)\n",
    "kmeans.fit(X_ica) \n",
    "ica_label1 = kmeans.labels_\n",
    "\n",
    "gmm = GaussianMixture(n_components=10, covariance_type='full', random_state=0)\n",
    "ica_label2 = gmm.fit_predict(X_ica)\n",
    "X_ica_cls = pd.DataFrame(X_ica)\n",
    "X_ica_cls['kmeans'] = ica_label1\n",
    "X_ica_cls['gmm'] = ica_label2\n",
    "\n",
    "#grp\n",
    "kmeans = KMeans(n_clusters = 6, random_state = 42)\n",
    "kmeans.fit(X_grp) \n",
    "grp_label1 = kmeans.labels_\n",
    "\n",
    "gmm = GaussianMixture(n_components=10, covariance_type='tied', random_state=0)\n",
    "grp_label2 = gmm.fit_predict(X_grp)\n",
    "X_grp_cls = pd.DataFrame(X_grp)\n",
    "X_grp_cls['kmeans'] = grp_label1\n",
    "X_grp_cls['gmm'] = grp_label2\n",
    "\n",
    "#svd\n",
    "kmeans = KMeans(n_clusters = 5, random_state = 42)\n",
    "kmeans.fit(X_svd) \n",
    "svd_label1 = kmeans.labels_\n",
    "\n",
    "gmm = GaussianMixture(n_components=9, covariance_type='full', random_state=0)\n",
    "svd_label2 = gmm.fit_predict(X_svd)\n",
    "X_svd_cls = pd.DataFrame(X_svd)\n",
    "X_svd_cls['kmeans'] = svd_label1\n",
    "X_svd_cls['gmm'] = svd_label2\n",
    "\n",
    "\n",
    "t0 = time()\n",
    "X_train, X_test, y_train, y_test = train_test_split(X_norm, y,test_size=0.20,random_state=2)\n",
    "mlp_clf0 = MLPClassifier(hidden_layer_sizes=(20,25, 10),  max_iter=550, solver='adam', activation='relu', alpha=0.7, \n",
    "                 learning_rate_init=0.01, learning_rate='adaptive',  verbose=False, momentum=0.1, random_state=0)\n",
    "mlp_clf0.fit(X_train, y_train)\n",
    "print(mlp_clf0.score(X_test, y_test))\n",
    "\n",
    "t1 = time()\n",
    "X_train, X_test, y_train, y_test = train_test_split(X_pca_cls, y,test_size=0.20,random_state=2)\n",
    "mlp_clf1 = MLPClassifier(hidden_layer_sizes=(20,30, 20),  max_iter=550, solver='adam', activation='relu', alpha=0.7, \n",
    "                 learning_rate_init=0.01, learning_rate='adaptive',  verbose=False, momentum=0.1, random_state=0)\n",
    "mlp_clf1.fit(X_train, y_train)\n",
    "print(mlp_clf1.score(X_test, y_test))\n",
    "\n",
    "t2 = time()\n",
    "X_train, X_test, y_train, y_test = train_test_split(X_ica_cls, y,test_size=0.20,random_state=2)\n",
    "mlp_clf2 = MLPClassifier(hidden_layer_sizes=(30,30, 20),  max_iter=550, solver='adam', activation='relu', alpha=0.7, \n",
    "                 learning_rate_init=0.01, learning_rate='adaptive',  verbose=False, momentum=0.1, random_state=0)\n",
    "mlp_clf2.fit(X_train, y_train)\n",
    "print(mlp_clf2.score(X_test, y_test))\n",
    "\n",
    "t3 = time()\n",
    "X_train, X_test, y_train, y_test = train_test_split(X_grp_cls, y,test_size=0.20,random_state=2)\n",
    "mlp_clf3 = MLPClassifier(hidden_layer_sizes=(20,30, 20),  max_iter=550, solver='adam', activation='relu', alpha=0.7, \n",
    "                 learning_rate_init=0.01, learning_rate='adaptive',  verbose=False, momentum=0.1, random_state=0)\n",
    "mlp_clf3.fit(X_train, y_train)\n",
    "print(mlp_clf3.score(X_test, y_test))\n",
    "\n",
    "t4 = time()\n",
    "X_train, X_test, y_train, y_test = train_test_split(X_svd_cls, y,test_size=0.20,random_state=2)\n",
    "mlp_clf4 = MLPClassifier(hidden_layer_sizes=(20,20, 20),  max_iter=550, solver='adam', activation='relu', alpha=0.7, \n",
    "                 learning_rate_init=0.01, learning_rate='adaptive',  verbose=False, momentum=0.1, random_state=0)\n",
    "mlp_clf4.fit(X_train, y_train)\n",
    "print(mlp_clf4.score(X_test, y_test))\n",
    "\n",
    "t5 = time()\n",
    "print(t5-t4, t4-t3, t3-t2, t2-t1, t1-t0)\n",
    "\n",
    "plt.plot(mlp_clf0.loss_curve_, label = f'Original')\n",
    "plt.plot(mlp_clf1.loss_curve_, label = f'PCA')\n",
    "plt.plot(mlp_clf2.loss_curve_, label = f'ICA')\n",
    "plt.plot(mlp_clf3.loss_curve_, label = f'Random Projection')\n",
    "plt.plot(mlp_clf4.loss_curve_, label = f'SVD')\n",
    "plt.xlabel('Iterations')\n",
    "plt.ylabel(\"Loss\")\n",
    "plt.legend()"
   ]
  },
  {
   "cell_type": "code",
   "execution_count": null,
   "id": "718d3c58",
   "metadata": {},
   "outputs": [],
   "source": []
  }
 ],
 "metadata": {
  "kernelspec": {
   "display_name": "Python 3 (ipykernel)",
   "language": "python",
   "name": "python3"
  },
  "language_info": {
   "codemirror_mode": {
    "name": "ipython",
    "version": 3
   },
   "file_extension": ".py",
   "mimetype": "text/x-python",
   "name": "python",
   "nbconvert_exporter": "python",
   "pygments_lexer": "ipython3",
   "version": "3.9.12"
  }
 },
 "nbformat": 4,
 "nbformat_minor": 5
}
