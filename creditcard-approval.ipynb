{
 "cells": [
  {
   "cell_type": "markdown",
   "id": "e078eb56",
   "metadata": {
    "papermill": {
     "duration": 0.030101,
     "end_time": "2022-01-16T12:06:11.777776",
     "exception": false,
     "start_time": "2022-01-16T12:06:11.747675",
     "status": "completed"
    },
    "tags": []
   },
   "source": [
    "# **Import Libraries**"
   ]
  },
  {
   "cell_type": "code",
   "execution_count": 231,
   "id": "6163b3f4",
   "metadata": {
    "execution": {
     "iopub.execute_input": "2022-01-16T12:06:11.843506Z",
     "iopub.status.busy": "2022-01-16T12:06:11.842851Z",
     "iopub.status.idle": "2022-01-16T12:06:13.237698Z",
     "shell.execute_reply": "2022-01-16T12:06:13.236846Z",
     "shell.execute_reply.started": "2022-01-16T10:56:16.964225Z"
    },
    "papermill": {
     "duration": 1.431536,
     "end_time": "2022-01-16T12:06:13.237868",
     "exception": false,
     "start_time": "2022-01-16T12:06:11.806332",
     "status": "completed"
    },
    "tags": []
   },
   "outputs": [],
   "source": [
    "import pandas as pd\n",
    "import numpy as np\n",
    "import seaborn as sns\n",
    "import matplotlib.pyplot as plt\n",
    "from sklearn.model_selection import train_test_split\n",
    "from sklearn.metrics import accuracy_score \n",
    "from sklearn.preprocessing import OrdinalEncoder\n",
    "from sklearn.tree import DecisionTreeClassifier\n",
    "from sklearn.ensemble import GradientBoostingClassifier\n",
    "from sklearn import svm\n",
    "from sklearn.neural_network import MLPClassifier\n",
    "# from sklearn.metrics import RocCurveDisplay\n",
    "from sklearn.metrics import plot_roc_curve\n",
    "\n",
    "# from xgboost import XGBClassifier\n",
    "from pandas import DataFrame\n",
    "\n",
    "\n",
    "import matplotlib.pyplot as plt\n",
    "\n",
    "from sklearn.metrics import auc\n",
    "from sklearn.metrics import RocCurveDisplay\n",
    "from sklearn.model_selection import StratifiedKFold\n",
    "\n",
    "from sklearn.naive_bayes import GaussianNB\n",
    "from sklearn.svm import SVC\n",
    "from sklearn.datasets import load_digits\n",
    "from sklearn.model_selection import learning_curve\n",
    "from sklearn.model_selection import ShuffleSplit\n",
    "from sklearn.ensemble import AdaBoostClassifier\n",
    "\n"
   ]
  },
  {
   "cell_type": "code",
   "execution_count": 204,
   "id": "7ff20919",
   "metadata": {},
   "outputs": [],
   "source": [
    "def plot_learning_curve(\n",
    "    estimator,\n",
    "    title,\n",
    "    X,\n",
    "    y,\n",
    "    axes=None,\n",
    "    ylim=None,\n",
    "    cv=None,\n",
    "    n_jobs=None,\n",
    "    scoring=None,\n",
    "    train_sizes=np.linspace(0.1, 1.0, 5),\n",
    "):\n",
    "    \"\"\"\n",
    "    Generate 3 plots: the test and training learning curve, the training\n",
    "    samples vs fit times curve, the fit times vs score curve.\n",
    "\n",
    "    Parameters\n",
    "    ----------\n",
    "    estimator : estimator instance\n",
    "        An estimator instance implementing `fit` and `predict` methods which\n",
    "        will be cloned for each validation.\n",
    "\n",
    "    title : str\n",
    "        Title for the chart.\n",
    "\n",
    "    X : array-like of shape (n_samples, n_features)\n",
    "        Training vector, where ``n_samples`` is the number of samples and\n",
    "        ``n_features`` is the number of features.\n",
    "\n",
    "    y : array-like of shape (n_samples) or (n_samples, n_features)\n",
    "        Target relative to ``X`` for classification or regression;\n",
    "        None for unsupervised learning.\n",
    "\n",
    "    axes : array-like of shape (3,), default=None\n",
    "        Axes to use for plotting the curves.\n",
    "\n",
    "    ylim : tuple of shape (2,), default=None\n",
    "        Defines minimum and maximum y-values plotted, e.g. (ymin, ymax).\n",
    "\n",
    "    cv : int, cross-validation generator or an iterable, default=None\n",
    "        Determines the cross-validation splitting strategy.\n",
    "        Possible inputs for cv are:\n",
    "\n",
    "          - None, to use the default 5-fold cross-validation,\n",
    "          - integer, to specify the number of folds.\n",
    "          - :term:`CV splitter`,\n",
    "          - An iterable yielding (train, test) splits as arrays of indices.\n",
    "\n",
    "        For integer/None inputs, if ``y`` is binary or multiclass,\n",
    "        :class:`StratifiedKFold` used. If the estimator is not a classifier\n",
    "        or if ``y`` is neither binary nor multiclass, :class:`KFold` is used.\n",
    "\n",
    "        Refer :ref:`User Guide <cross_validation>` for the various\n",
    "        cross-validators that can be used here.\n",
    "\n",
    "    n_jobs : int or None, default=None\n",
    "        Number of jobs to run in parallel.\n",
    "        ``None`` means 1 unless in a :obj:`joblib.parallel_backend` context.\n",
    "        ``-1`` means using all processors. See :term:`Glossary <n_jobs>`\n",
    "        for more details.\n",
    "\n",
    "    scoring : str or callable, default=None\n",
    "        A str (see model evaluation documentation) or\n",
    "        a scorer callable object / function with signature\n",
    "        ``scorer(estimator, X, y)``.\n",
    "\n",
    "    train_sizes : array-like of shape (n_ticks,)\n",
    "        Relative or absolute numbers of training examples that will be used to\n",
    "        generate the learning curve. If the ``dtype`` is float, it is regarded\n",
    "        as a fraction of the maximum size of the training set (that is\n",
    "        determined by the selected validation method), i.e. it has to be within\n",
    "        (0, 1]. Otherwise it is interpreted as absolute sizes of the training\n",
    "        sets. Note that for classification the number of samples usually have\n",
    "        to be big enough to contain at least one sample from each class.\n",
    "        (default: np.linspace(0.1, 1.0, 5))\n",
    "    \"\"\"\n",
    "#     if axes is None:\n",
    "#         _, axes = plt.subplots(1, 3, figsize=(20, 5))\n",
    "\n",
    "    ax1, ax2, ax3 = axes\n",
    "\n",
    "    ax1.set_title(title)\n",
    "    if ylim is not None:\n",
    "        ax1.set_ylim(*ylim)\n",
    "    ax1.set_xlabel(\"Training examples\")\n",
    "    ax1.set_ylabel(\"Accuracy\")\n",
    "\n",
    "    train_sizes, train_scores, test_scores, fit_times, _ = learning_curve(\n",
    "        estimator,\n",
    "        X,\n",
    "        y,\n",
    "        scoring=scoring,\n",
    "        cv=cv,\n",
    "        n_jobs=n_jobs,\n",
    "        train_sizes=train_sizes,\n",
    "        return_times=True,\n",
    "        random_state = 0,\n",
    "    )\n",
    "\n",
    "    train_scores_mean = np.mean(train_scores, axis=1)\n",
    "    train_scores_std = np.std(train_scores, axis=1)\n",
    "    test_scores_mean = np.mean(test_scores, axis=1)\n",
    "    test_scores_std = np.std(test_scores, axis=1)\n",
    "    fit_times_mean = np.mean(fit_times, axis=1)\n",
    "    fit_times_std = np.std(fit_times, axis=1)\n",
    "\n",
    "    print('Accuracy', train_scores_mean[-1], test_scores_mean[-1])\n",
    "\n",
    "    # Plot learning curve\n",
    "    ax1.grid()\n",
    "    ax1.fill_between(\n",
    "        train_sizes,\n",
    "        train_scores_mean - train_scores_std,\n",
    "        train_scores_mean + train_scores_std,\n",
    "        alpha=0.1,\n",
    "        color=\"r\",\n",
    "    )\n",
    "    ax1.fill_between(\n",
    "        train_sizes,\n",
    "        test_scores_mean - test_scores_std,\n",
    "        test_scores_mean + test_scores_std,\n",
    "        alpha=0.1,\n",
    "        color=\"g\",\n",
    "    )\n",
    "    ax1.plot(\n",
    "        train_sizes, train_scores_mean, \"o-\", color=\"r\", label=\"Training\"\n",
    "    )\n",
    "    ax1.plot(\n",
    "        train_sizes, test_scores_mean, \"o-\", color=\"g\", label=\"Cross-validation\"\n",
    "    )\n",
    "    ax1.legend(loc=\"best\")\n",
    "\n",
    "    # Plot n_samples vs fit_times\n",
    "    ax2.grid()\n",
    "    ax2.plot(train_sizes, fit_times_mean, \"o-\")\n",
    "    ax2.fill_between(\n",
    "        train_sizes,\n",
    "        fit_times_mean - fit_times_std,\n",
    "        fit_times_mean + fit_times_std,\n",
    "        alpha=0.1,\n",
    "    )\n",
    "    ax2.set_xlabel(\"Training examples\")\n",
    "    ax2.set_ylabel(\"Training Time\")\n",
    "    ax2.set_title(\"Scalability of the model\")\n",
    "\n",
    "    # Plot fit_time vs score\n",
    "    fit_time_argsort = fit_times_mean.argsort()\n",
    "    fit_time_sorted = fit_times_mean[fit_time_argsort]\n",
    "    test_scores_mean_sorted = test_scores_mean[fit_time_argsort]\n",
    "    test_scores_std_sorted = test_scores_std[fit_time_argsort]\n",
    "    ax3.grid()\n",
    "    ax3.plot(fit_time_sorted, test_scores_mean_sorted, \"o-\")\n",
    "    ax3.fill_between(\n",
    "        fit_time_sorted,\n",
    "        test_scores_mean_sorted - test_scores_std_sorted,\n",
    "        test_scores_mean_sorted + test_scores_std_sorted,\n",
    "        alpha=0.1,\n",
    "    )\n",
    "    if ylim is not None:\n",
    "        ax3.set_ylim(*ylim)\n",
    "    ax3.set_xlabel(\"Training Time\")\n",
    "    ax3.set_ylabel(\"Accuracy\")\n",
    "    ax3.set_title(\"Performance of the model\")\n",
    "\n",
    "    return plt"
   ]
  },
  {
   "cell_type": "markdown",
   "id": "101dc599",
   "metadata": {
    "papermill": {
     "duration": 0.029236,
     "end_time": "2022-01-16T12:06:13.295953",
     "exception": false,
     "start_time": "2022-01-16T12:06:13.266717",
     "status": "completed"
    },
    "tags": []
   },
   "source": [
    "# **Loading Dataset**"
   ]
  },
  {
   "cell_type": "code",
   "execution_count": 9,
   "id": "a548b6d1",
   "metadata": {
    "execution": {
     "iopub.execute_input": "2022-01-16T12:06:13.358902Z",
     "iopub.status.busy": "2022-01-16T12:06:13.358128Z",
     "iopub.status.idle": "2022-01-16T12:06:13.401196Z",
     "shell.execute_reply": "2022-01-16T12:06:13.401744Z",
     "shell.execute_reply.started": "2022-01-16T10:56:18.108193Z"
    },
    "papermill": {
     "duration": 0.077615,
     "end_time": "2022-01-16T12:06:13.401911",
     "exception": false,
     "start_time": "2022-01-16T12:06:13.324296",
     "status": "completed"
    },
    "tags": []
   },
   "outputs": [
    {
     "data": {
      "text/html": [
       "<div>\n",
       "<style scoped>\n",
       "    .dataframe tbody tr th:only-of-type {\n",
       "        vertical-align: middle;\n",
       "    }\n",
       "\n",
       "    .dataframe tbody tr th {\n",
       "        vertical-align: top;\n",
       "    }\n",
       "\n",
       "    .dataframe thead th {\n",
       "        text-align: right;\n",
       "    }\n",
       "</style>\n",
       "<table border=\"1\" class=\"dataframe\">\n",
       "  <thead>\n",
       "    <tr style=\"text-align: right;\">\n",
       "      <th></th>\n",
       "      <th>A</th>\n",
       "      <th>B</th>\n",
       "      <th>C</th>\n",
       "      <th>D</th>\n",
       "      <th>E</th>\n",
       "      <th>F</th>\n",
       "      <th>G</th>\n",
       "      <th>H</th>\n",
       "      <th>I</th>\n",
       "      <th>J</th>\n",
       "      <th>K</th>\n",
       "      <th>L</th>\n",
       "      <th>M</th>\n",
       "      <th>N</th>\n",
       "      <th>O</th>\n",
       "      <th>P</th>\n",
       "    </tr>\n",
       "  </thead>\n",
       "  <tbody>\n",
       "    <tr>\n",
       "      <th>0</th>\n",
       "      <td>b</td>\n",
       "      <td>30.83</td>\n",
       "      <td>0.000</td>\n",
       "      <td>u</td>\n",
       "      <td>g</td>\n",
       "      <td>w</td>\n",
       "      <td>v</td>\n",
       "      <td>1.25</td>\n",
       "      <td>t</td>\n",
       "      <td>t</td>\n",
       "      <td>1</td>\n",
       "      <td>f</td>\n",
       "      <td>g</td>\n",
       "      <td>00202</td>\n",
       "      <td>0</td>\n",
       "      <td>+</td>\n",
       "    </tr>\n",
       "    <tr>\n",
       "      <th>1</th>\n",
       "      <td>a</td>\n",
       "      <td>58.67</td>\n",
       "      <td>4.460</td>\n",
       "      <td>u</td>\n",
       "      <td>g</td>\n",
       "      <td>q</td>\n",
       "      <td>h</td>\n",
       "      <td>3.04</td>\n",
       "      <td>t</td>\n",
       "      <td>t</td>\n",
       "      <td>6</td>\n",
       "      <td>f</td>\n",
       "      <td>g</td>\n",
       "      <td>00043</td>\n",
       "      <td>560</td>\n",
       "      <td>+</td>\n",
       "    </tr>\n",
       "    <tr>\n",
       "      <th>2</th>\n",
       "      <td>a</td>\n",
       "      <td>24.50</td>\n",
       "      <td>0.500</td>\n",
       "      <td>u</td>\n",
       "      <td>g</td>\n",
       "      <td>q</td>\n",
       "      <td>h</td>\n",
       "      <td>1.50</td>\n",
       "      <td>t</td>\n",
       "      <td>f</td>\n",
       "      <td>0</td>\n",
       "      <td>f</td>\n",
       "      <td>g</td>\n",
       "      <td>00280</td>\n",
       "      <td>824</td>\n",
       "      <td>+</td>\n",
       "    </tr>\n",
       "    <tr>\n",
       "      <th>3</th>\n",
       "      <td>b</td>\n",
       "      <td>27.83</td>\n",
       "      <td>1.540</td>\n",
       "      <td>u</td>\n",
       "      <td>g</td>\n",
       "      <td>w</td>\n",
       "      <td>v</td>\n",
       "      <td>3.75</td>\n",
       "      <td>t</td>\n",
       "      <td>t</td>\n",
       "      <td>5</td>\n",
       "      <td>t</td>\n",
       "      <td>g</td>\n",
       "      <td>00100</td>\n",
       "      <td>3</td>\n",
       "      <td>+</td>\n",
       "    </tr>\n",
       "    <tr>\n",
       "      <th>4</th>\n",
       "      <td>b</td>\n",
       "      <td>20.17</td>\n",
       "      <td>5.625</td>\n",
       "      <td>u</td>\n",
       "      <td>g</td>\n",
       "      <td>w</td>\n",
       "      <td>v</td>\n",
       "      <td>1.71</td>\n",
       "      <td>t</td>\n",
       "      <td>f</td>\n",
       "      <td>0</td>\n",
       "      <td>f</td>\n",
       "      <td>s</td>\n",
       "      <td>00120</td>\n",
       "      <td>0</td>\n",
       "      <td>+</td>\n",
       "    </tr>\n",
       "  </tbody>\n",
       "</table>\n",
       "</div>"
      ],
      "text/plain": [
       "   A      B      C  D  E  F  G     H  I  J  K  L  M      N    O  P\n",
       "0  b  30.83  0.000  u  g  w  v  1.25  t  t  1  f  g  00202    0  +\n",
       "1  a  58.67  4.460  u  g  q  h  3.04  t  t  6  f  g  00043  560  +\n",
       "2  a  24.50  0.500  u  g  q  h  1.50  t  f  0  f  g  00280  824  +\n",
       "3  b  27.83  1.540  u  g  w  v  3.75  t  t  5  t  g  00100    3  +\n",
       "4  b  20.17  5.625  u  g  w  v  1.71  t  f  0  f  s  00120    0  +"
      ]
     },
     "execution_count": 9,
     "metadata": {},
     "output_type": "execute_result"
    }
   ],
   "source": [
    "# Load dataset\n",
    "#df = pd.read_csv('../input/ucidata/crx.data',header=None)\n",
    "header_names=['A','B','C','D','E','F','G','H','I','J','K','L','M','N','O','P']\n",
    "df = pd.read_csv('./Data/crx.data',names=header_names)\n",
    "\n",
    "# Inspect data\n",
    "df.head()"
   ]
  },
  {
   "cell_type": "markdown",
   "id": "54fb5fc3",
   "metadata": {
    "papermill": {
     "duration": 0.02872,
     "end_time": "2022-01-16T12:06:13.460474",
     "exception": false,
     "start_time": "2022-01-16T12:06:13.431754",
     "status": "completed"
    },
    "tags": []
   },
   "source": [
    "##  **Knowing the data**"
   ]
  },
  {
   "cell_type": "code",
   "execution_count": 10,
   "id": "961169f6",
   "metadata": {
    "execution": {
     "iopub.execute_input": "2022-01-16T12:06:13.521381Z",
     "iopub.status.busy": "2022-01-16T12:06:13.520759Z",
     "iopub.status.idle": "2022-01-16T12:06:13.544736Z",
     "shell.execute_reply": "2022-01-16T12:06:13.545249Z",
     "shell.execute_reply.started": "2022-01-16T10:56:19.001542Z"
    },
    "papermill": {
     "duration": 0.056025,
     "end_time": "2022-01-16T12:06:13.545421",
     "exception": false,
     "start_time": "2022-01-16T12:06:13.489396",
     "status": "completed"
    },
    "tags": []
   },
   "outputs": [
    {
     "name": "stdout",
     "output_type": "stream",
     "text": [
      "<class 'pandas.core.frame.DataFrame'>\n",
      "RangeIndex: 690 entries, 0 to 689\n",
      "Data columns (total 16 columns):\n",
      " #   Column  Non-Null Count  Dtype  \n",
      "---  ------  --------------  -----  \n",
      " 0   A       690 non-null    object \n",
      " 1   B       690 non-null    object \n",
      " 2   C       690 non-null    float64\n",
      " 3   D       690 non-null    object \n",
      " 4   E       690 non-null    object \n",
      " 5   F       690 non-null    object \n",
      " 6   G       690 non-null    object \n",
      " 7   H       690 non-null    float64\n",
      " 8   I       690 non-null    object \n",
      " 9   J       690 non-null    object \n",
      " 10  K       690 non-null    int64  \n",
      " 11  L       690 non-null    object \n",
      " 12  M       690 non-null    object \n",
      " 13  N       690 non-null    object \n",
      " 14  O       690 non-null    int64  \n",
      " 15  P       690 non-null    object \n",
      "dtypes: float64(2), int64(2), object(12)\n",
      "memory usage: 86.4+ KB\n"
     ]
    }
   ],
   "source": [
    "# dataframe information\n",
    "df.info()"
   ]
  },
  {
   "cell_type": "code",
   "execution_count": 11,
   "id": "1471e262",
   "metadata": {
    "execution": {
     "iopub.execute_input": "2022-01-16T12:06:13.610480Z",
     "iopub.status.busy": "2022-01-16T12:06:13.609794Z",
     "iopub.status.idle": "2022-01-16T12:06:13.633098Z",
     "shell.execute_reply": "2022-01-16T12:06:13.633702Z",
     "shell.execute_reply.started": "2022-01-16T10:56:19.307027Z"
    },
    "papermill": {
     "duration": 0.057328,
     "end_time": "2022-01-16T12:06:13.633886",
     "exception": false,
     "start_time": "2022-01-16T12:06:13.576558",
     "status": "completed"
    },
    "tags": []
   },
   "outputs": [
    {
     "data": {
      "text/html": [
       "<div>\n",
       "<style scoped>\n",
       "    .dataframe tbody tr th:only-of-type {\n",
       "        vertical-align: middle;\n",
       "    }\n",
       "\n",
       "    .dataframe tbody tr th {\n",
       "        vertical-align: top;\n",
       "    }\n",
       "\n",
       "    .dataframe thead th {\n",
       "        text-align: right;\n",
       "    }\n",
       "</style>\n",
       "<table border=\"1\" class=\"dataframe\">\n",
       "  <thead>\n",
       "    <tr style=\"text-align: right;\">\n",
       "      <th></th>\n",
       "      <th>C</th>\n",
       "      <th>H</th>\n",
       "      <th>K</th>\n",
       "      <th>O</th>\n",
       "    </tr>\n",
       "  </thead>\n",
       "  <tbody>\n",
       "    <tr>\n",
       "      <th>count</th>\n",
       "      <td>690.000000</td>\n",
       "      <td>690.000000</td>\n",
       "      <td>690.00000</td>\n",
       "      <td>690.000000</td>\n",
       "    </tr>\n",
       "    <tr>\n",
       "      <th>mean</th>\n",
       "      <td>4.758725</td>\n",
       "      <td>2.223406</td>\n",
       "      <td>2.40000</td>\n",
       "      <td>1017.385507</td>\n",
       "    </tr>\n",
       "    <tr>\n",
       "      <th>std</th>\n",
       "      <td>4.978163</td>\n",
       "      <td>3.346513</td>\n",
       "      <td>4.86294</td>\n",
       "      <td>5210.102598</td>\n",
       "    </tr>\n",
       "    <tr>\n",
       "      <th>min</th>\n",
       "      <td>0.000000</td>\n",
       "      <td>0.000000</td>\n",
       "      <td>0.00000</td>\n",
       "      <td>0.000000</td>\n",
       "    </tr>\n",
       "    <tr>\n",
       "      <th>25%</th>\n",
       "      <td>1.000000</td>\n",
       "      <td>0.165000</td>\n",
       "      <td>0.00000</td>\n",
       "      <td>0.000000</td>\n",
       "    </tr>\n",
       "    <tr>\n",
       "      <th>50%</th>\n",
       "      <td>2.750000</td>\n",
       "      <td>1.000000</td>\n",
       "      <td>0.00000</td>\n",
       "      <td>5.000000</td>\n",
       "    </tr>\n",
       "    <tr>\n",
       "      <th>75%</th>\n",
       "      <td>7.207500</td>\n",
       "      <td>2.625000</td>\n",
       "      <td>3.00000</td>\n",
       "      <td>395.500000</td>\n",
       "    </tr>\n",
       "    <tr>\n",
       "      <th>max</th>\n",
       "      <td>28.000000</td>\n",
       "      <td>28.500000</td>\n",
       "      <td>67.00000</td>\n",
       "      <td>100000.000000</td>\n",
       "    </tr>\n",
       "  </tbody>\n",
       "</table>\n",
       "</div>"
      ],
      "text/plain": [
       "                C           H          K              O\n",
       "count  690.000000  690.000000  690.00000     690.000000\n",
       "mean     4.758725    2.223406    2.40000    1017.385507\n",
       "std      4.978163    3.346513    4.86294    5210.102598\n",
       "min      0.000000    0.000000    0.00000       0.000000\n",
       "25%      1.000000    0.165000    0.00000       0.000000\n",
       "50%      2.750000    1.000000    0.00000       5.000000\n",
       "75%      7.207500    2.625000    3.00000     395.500000\n",
       "max     28.000000   28.500000   67.00000  100000.000000"
      ]
     },
     "execution_count": 11,
     "metadata": {},
     "output_type": "execute_result"
    }
   ],
   "source": [
    "# summary statistics\n",
    "df.describe()"
   ]
  },
  {
   "cell_type": "markdown",
   "id": "2aada74d",
   "metadata": {
    "papermill": {
     "duration": 0.029447,
     "end_time": "2022-01-16T12:06:13.693152",
     "exception": false,
     "start_time": "2022-01-16T12:06:13.663705",
     "status": "completed"
    },
    "tags": []
   },
   "source": [
    "## **Inspect missing values in the dataset**\n"
   ]
  },
  {
   "cell_type": "code",
   "execution_count": 12,
   "id": "f8e1d249",
   "metadata": {
    "execution": {
     "iopub.execute_input": "2022-01-16T12:06:13.756406Z",
     "iopub.status.busy": "2022-01-16T12:06:13.755737Z",
     "iopub.status.idle": "2022-01-16T12:06:13.796223Z",
     "shell.execute_reply": "2022-01-16T12:06:13.796717Z",
     "shell.execute_reply.started": "2022-01-16T10:56:19.874515Z"
    },
    "papermill": {
     "duration": 0.0741,
     "end_time": "2022-01-16T12:06:13.796884",
     "exception": false,
     "start_time": "2022-01-16T12:06:13.722784",
     "status": "completed"
    },
    "tags": []
   },
   "outputs": [],
   "source": [
    "# df.head(50)"
   ]
  },
  {
   "cell_type": "code",
   "execution_count": 13,
   "id": "83368e05",
   "metadata": {
    "execution": {
     "iopub.execute_input": "2022-01-16T12:06:13.879824Z",
     "iopub.status.busy": "2022-01-16T12:06:13.879077Z",
     "iopub.status.idle": "2022-01-16T12:06:13.905319Z",
     "shell.execute_reply": "2022-01-16T12:06:13.905798Z",
     "shell.execute_reply.started": "2022-01-16T10:56:20.140513Z"
    },
    "papermill": {
     "duration": 0.077431,
     "end_time": "2022-01-16T12:06:13.905969",
     "exception": false,
     "start_time": "2022-01-16T12:06:13.828538",
     "status": "completed"
    },
    "tags": []
   },
   "outputs": [],
   "source": [
    "# df.tail(50)"
   ]
  },
  {
   "cell_type": "code",
   "execution_count": 15,
   "id": "1e1bf185",
   "metadata": {
    "execution": {
     "iopub.execute_input": "2022-01-16T12:06:13.978428Z",
     "iopub.status.busy": "2022-01-16T12:06:13.975891Z",
     "iopub.status.idle": "2022-01-16T12:06:13.987642Z",
     "shell.execute_reply": "2022-01-16T12:06:13.986848Z",
     "shell.execute_reply.started": "2022-01-16T10:56:20.348665Z"
    },
    "papermill": {
     "duration": 0.048,
     "end_time": "2022-01-16T12:06:13.987797",
     "exception": false,
     "start_time": "2022-01-16T12:06:13.939797",
     "status": "completed"
    },
    "tags": []
   },
   "outputs": [],
   "source": [
    "# for each of the categorical columns, lets see the unique values\n",
    "# for i in df.columns:\n",
    "#     #print(i)\n",
    "#     if df[i].dtype==object:\n",
    "#         print(df[i].unique())"
   ]
  },
  {
   "cell_type": "markdown",
   "id": "92521599",
   "metadata": {
    "papermill": {
     "duration": 0.033926,
     "end_time": "2022-01-16T12:06:14.055815",
     "exception": false,
     "start_time": "2022-01-16T12:06:14.021889",
     "status": "completed"
    },
    "tags": []
   },
   "source": [
    "We can see the null values are represented by $?$ in the dataset.\n",
    "* Let's first replace $?$ with NaN\n"
   ]
  },
  {
   "cell_type": "code",
   "execution_count": 16,
   "id": "5bddd3c5",
   "metadata": {
    "execution": {
     "iopub.execute_input": "2022-01-16T12:06:14.127047Z",
     "iopub.status.busy": "2022-01-16T12:06:14.126404Z",
     "iopub.status.idle": "2022-01-16T12:06:14.131788Z",
     "shell.execute_reply": "2022-01-16T12:06:14.132397Z",
     "shell.execute_reply.started": "2022-01-16T10:56:21.790685Z"
    },
    "papermill": {
     "duration": 0.042792,
     "end_time": "2022-01-16T12:06:14.132560",
     "exception": false,
     "start_time": "2022-01-16T12:06:14.089768",
     "status": "completed"
    },
    "tags": []
   },
   "outputs": [],
   "source": [
    "df = df.replace('?',np.nan)"
   ]
  },
  {
   "cell_type": "code",
   "execution_count": 17,
   "id": "3d8361ca",
   "metadata": {
    "execution": {
     "iopub.execute_input": "2022-01-16T12:06:14.210826Z",
     "iopub.status.busy": "2022-01-16T12:06:14.207381Z",
     "iopub.status.idle": "2022-01-16T12:06:14.213717Z",
     "shell.execute_reply": "2022-01-16T12:06:14.213241Z",
     "shell.execute_reply.started": "2022-01-16T10:56:22.197753Z"
    },
    "papermill": {
     "duration": 0.048053,
     "end_time": "2022-01-16T12:06:14.213852",
     "exception": false,
     "start_time": "2022-01-16T12:06:14.165799",
     "status": "completed"
    },
    "tags": []
   },
   "outputs": [],
   "source": [
    "## Lets modify the functions to make them more readable \n",
    "\n",
    "def missing_values(df):\n",
    "    ''' This function takes a data frame as input \n",
    "    prints the fraction of entries with missing values (NaN)\n",
    "    prints the list of columns with corresponding number of missing values\n",
    "    '''\n",
    "    # Total number of entries (rows X columns) in the dataset\n",
    "    total= df.size\n",
    "    #Number of missing values per column\n",
    "    missingCount = df.isnull().sum()\n",
    "    #Total number of missing values\n",
    "    missing_tot = missingCount.sum()\n",
    "    # Calculate percentage of missing values\n",
    "    #print('general info of dataframe \\n\\n\\n\\n',df.info())\n",
    "    print(f'Total number of missing values for each column of dataframe: \\n \\b \\b \\b',missingCount)\n",
    "    print(\"The dataset contains\", round(((missing_tot/total) * 100), 2), \"%\", \"missing values.\\n\\n\\n\")\n",
    "    \n",
    "    \n",
    "def column_missingdata(df):\n",
    "    ''' This function takes a data frame as input \n",
    "    prints the list of columns with corresponding % of missing values\n",
    "    '''\n",
    "    #check for missing values per column\n",
    "    values=df.isnull().sum()#.sort_values(ascending=False)\n",
    "    total= df.size\n",
    "    #percentage of missing values per column\n",
    "    percentage=(values/total) * 100\n",
    "    print(f'% of missing values for each column of dataframe: \\n \\b \\b \\b',percentage,'\\n\\n\\n')\n",
    "\n",
    "def plot_missingdata(df:pd.DataFrame, title:str, xlabel:str, ylabel:str):\n",
    "    ''' This function takes a data frame as input \n",
    "    plots the list of columns with corresponding total number of missing values\n",
    "    '''\n",
    "    # Let us see what columns have missing values\n",
    "    # total number of missing values for each dataframe column\n",
    "    missing = df.isnull().sum() \n",
    "    # keeping only the columns with missing values>0 \n",
    "    missing = missing[missing > 0] \n",
    "    # sorting in order of missing values and making the change to original missing series\n",
    "    missing.sort_values(inplace=True) \n",
    "    missing.plot.bar(color='blue')\n",
    "    plt.title(title, size=15)\n",
    "    plt.xticks(fontsize=11,rotation=45)\n",
    "    plt.yticks(fontsize=11)\n",
    "    plt.xlabel(xlabel, fontsize=13)\n",
    "    plt.ylabel(ylabel, fontsize=13)\n",
    "    plt.show()"
   ]
  },
  {
   "cell_type": "code",
   "execution_count": 11,
   "id": "995bc236",
   "metadata": {
    "execution": {
     "iopub.execute_input": "2022-01-16T12:06:14.304784Z",
     "iopub.status.busy": "2022-01-16T12:06:14.290876Z",
     "iopub.status.idle": "2022-01-16T12:06:14.548998Z",
     "shell.execute_reply": "2022-01-16T12:06:14.548443Z",
     "shell.execute_reply.started": "2022-01-16T10:56:22.886015Z"
    },
    "papermill": {
     "duration": 0.301325,
     "end_time": "2022-01-16T12:06:14.549138",
     "exception": false,
     "start_time": "2022-01-16T12:06:14.247813",
     "status": "completed"
    },
    "tags": []
   },
   "outputs": [
    {
     "name": "stdout",
     "output_type": "stream",
     "text": [
      "Total number of missing values for each column of dataframe: \n",
      " \b \b \b A    12\n",
      "B    12\n",
      "C     0\n",
      "D     6\n",
      "E     6\n",
      "F     9\n",
      "G     9\n",
      "H     0\n",
      "I     0\n",
      "J     0\n",
      "K     0\n",
      "L     0\n",
      "M     0\n",
      "N    13\n",
      "O     0\n",
      "P     0\n",
      "dtype: int64\n",
      "The dataset contains 0.61 % missing values.\n",
      "\n",
      "\n",
      "\n",
      "% of missing values for each column of dataframe: \n",
      " \b \b \b A    0.108696\n",
      "B    0.108696\n",
      "C    0.000000\n",
      "D    0.054348\n",
      "E    0.054348\n",
      "F    0.081522\n",
      "G    0.081522\n",
      "H    0.000000\n",
      "I    0.000000\n",
      "J    0.000000\n",
      "K    0.000000\n",
      "L    0.000000\n",
      "M    0.000000\n",
      "N    0.117754\n",
      "O    0.000000\n",
      "P    0.000000\n",
      "dtype: float64 \n",
      "\n",
      "\n",
      "\n"
     ]
    },
    {
     "data": {
      "image/png": "[encoded data removed]",
      "text/plain": [
       "<Figure size 432x288 with 1 Axes>"
      ]
     },
     "metadata": {
      "needs_background": "light"
     },
     "output_type": "display_data"
    }
   ],
   "source": [
    "missing_values(df)\n",
    "column_missingdata(df)\n",
    "plot_missingdata(df,'columns with missing values','Column Name','No. of Missing values')"
   ]
  },
  {
   "cell_type": "code",
   "execution_count": 18,
   "id": "dfef93fb",
   "metadata": {
    "execution": {
     "iopub.execute_input": "2022-01-16T12:06:14.627997Z",
     "iopub.status.busy": "2022-01-16T12:06:14.627370Z",
     "iopub.status.idle": "2022-01-16T12:06:14.629993Z",
     "shell.execute_reply": "2022-01-16T12:06:14.630505Z",
     "shell.execute_reply.started": "2022-01-16T10:56:23.680983Z"
    },
    "papermill": {
     "duration": 0.045603,
     "end_time": "2022-01-16T12:06:14.630669",
     "exception": false,
     "start_time": "2022-01-16T12:06:14.585066",
     "status": "completed"
    },
    "tags": []
   },
   "outputs": [],
   "source": [
    "def fix_missing_mean(df,col):\n",
    "    ''' This function takes a data frame as input \n",
    "    replaces the missing values of a particular column with it's mean value\n",
    "    '''\n",
    "    #replace missing values with mean \n",
    "    df[col] = pd.to_numeric(df[col], errors = 'coerce')\n",
    "    df[col].fillna(df[col].mean(), inplace = True)    \n",
    "\n",
    "def fix_missing_mode(df,col):\n",
    "    ''' This function takes a data frame as input \n",
    "    replaces the missing values of a particular column with it's mean value\n",
    "    '''\n",
    "    #replace missing values with mode \n",
    "    #df[col] = pd.to_numeric(df[col], errors = 'coerce')\n",
    "    df[col].fillna(df[col].mode(), inplace = True)    \n",
    "\n",
    "    \n",
    "def fix_missing_ffill(df, col):\n",
    "    ''' This function takes a data frame as input \n",
    "    replaces the missing values of a particular column with the value from the previous row\n",
    "    '''\n",
    "    #df[col] = pd.to_numeric(df[col], errors = 'coerce')\n",
    "    df[col] = df[col].fillna(method='ffill')  \n",
    "    \n",
    "def fix_missing_bfill(df, col):\n",
    "    ''' This function takes a data frame as input \n",
    "    replaces the missing values of a particular column with the value from the next row\n",
    "    '''\n",
    "    #df[col] = pd.to_numeric(df[col], errors = 'coerce')\n",
    "    df[col] = df[col].fillna(method='bfill')     "
   ]
  },
  {
   "cell_type": "code",
   "execution_count": 19,
   "id": "001ddf53",
   "metadata": {
    "execution": {
     "iopub.execute_input": "2022-01-16T12:06:14.715006Z",
     "iopub.status.busy": "2022-01-16T12:06:14.705494Z",
     "iopub.status.idle": "2022-01-16T12:06:14.723842Z",
     "shell.execute_reply": "2022-01-16T12:06:14.724392Z",
     "shell.execute_reply.started": "2022-01-16T10:56:24.321863Z"
    },
    "papermill": {
     "duration": 0.059095,
     "end_time": "2022-01-16T12:06:14.724575",
     "exception": false,
     "start_time": "2022-01-16T12:06:14.665480",
     "status": "completed"
    },
    "tags": []
   },
   "outputs": [
    {
     "name": "stdout",
     "output_type": "stream",
     "text": [
      "Total number of missing values for each column of dataframe: \n",
      " \b \b \b A    0\n",
      "B    0\n",
      "C    0\n",
      "D    0\n",
      "E    0\n",
      "F    0\n",
      "G    0\n",
      "H    0\n",
      "I    0\n",
      "J    0\n",
      "K    0\n",
      "L    0\n",
      "M    0\n",
      "N    0\n",
      "O    0\n",
      "P    0\n",
      "dtype: int64\n",
      "The dataset contains 0.0 % missing values.\n",
      "\n",
      "\n",
      "\n"
     ]
    }
   ],
   "source": [
    "fix_missing_ffill(df,'A')\n",
    "fix_missing_ffill(df,'B')\n",
    "fix_missing_ffill(df,'D')\n",
    "fix_missing_ffill(df,'E')\n",
    "fix_missing_ffill(df,'F')\n",
    "fix_missing_ffill(df,'G')\n",
    "fix_missing_mean(df,'N')\n",
    "missing_values(df)"
   ]
  },
  {
   "cell_type": "code",
   "execution_count": 20,
   "id": "5e3f57a2",
   "metadata": {
    "execution": {
     "iopub.execute_input": "2022-01-16T12:06:14.799195Z",
     "iopub.status.busy": "2022-01-16T12:06:14.798534Z",
     "iopub.status.idle": "2022-01-16T12:06:14.816705Z",
     "shell.execute_reply": "2022-01-16T12:06:14.817325Z",
     "shell.execute_reply.started": "2022-01-16T10:56:25.195084Z"
    },
    "papermill": {
     "duration": 0.05691,
     "end_time": "2022-01-16T12:06:14.817490",
     "exception": false,
     "start_time": "2022-01-16T12:06:14.760580",
     "status": "completed"
    },
    "tags": []
   },
   "outputs": [
    {
     "data": {
      "text/html": [
       "<div>\n",
       "<style scoped>\n",
       "    .dataframe tbody tr th:only-of-type {\n",
       "        vertical-align: middle;\n",
       "    }\n",
       "\n",
       "    .dataframe tbody tr th {\n",
       "        vertical-align: top;\n",
       "    }\n",
       "\n",
       "    .dataframe thead th {\n",
       "        text-align: right;\n",
       "    }\n",
       "</style>\n",
       "<table border=\"1\" class=\"dataframe\">\n",
       "  <thead>\n",
       "    <tr style=\"text-align: right;\">\n",
       "      <th></th>\n",
       "      <th>A</th>\n",
       "      <th>B</th>\n",
       "      <th>C</th>\n",
       "      <th>D</th>\n",
       "      <th>E</th>\n",
       "      <th>F</th>\n",
       "      <th>G</th>\n",
       "      <th>H</th>\n",
       "      <th>I</th>\n",
       "      <th>J</th>\n",
       "      <th>K</th>\n",
       "      <th>L</th>\n",
       "      <th>M</th>\n",
       "      <th>N</th>\n",
       "      <th>O</th>\n",
       "      <th>P</th>\n",
       "    </tr>\n",
       "  </thead>\n",
       "  <tbody>\n",
       "    <tr>\n",
       "      <th>0</th>\n",
       "      <td>b</td>\n",
       "      <td>30.83</td>\n",
       "      <td>0.000</td>\n",
       "      <td>u</td>\n",
       "      <td>g</td>\n",
       "      <td>w</td>\n",
       "      <td>v</td>\n",
       "      <td>1.25</td>\n",
       "      <td>t</td>\n",
       "      <td>t</td>\n",
       "      <td>1</td>\n",
       "      <td>f</td>\n",
       "      <td>g</td>\n",
       "      <td>202.0</td>\n",
       "      <td>0</td>\n",
       "      <td>+</td>\n",
       "    </tr>\n",
       "    <tr>\n",
       "      <th>1</th>\n",
       "      <td>a</td>\n",
       "      <td>58.67</td>\n",
       "      <td>4.460</td>\n",
       "      <td>u</td>\n",
       "      <td>g</td>\n",
       "      <td>q</td>\n",
       "      <td>h</td>\n",
       "      <td>3.04</td>\n",
       "      <td>t</td>\n",
       "      <td>t</td>\n",
       "      <td>6</td>\n",
       "      <td>f</td>\n",
       "      <td>g</td>\n",
       "      <td>43.0</td>\n",
       "      <td>560</td>\n",
       "      <td>+</td>\n",
       "    </tr>\n",
       "    <tr>\n",
       "      <th>2</th>\n",
       "      <td>a</td>\n",
       "      <td>24.50</td>\n",
       "      <td>0.500</td>\n",
       "      <td>u</td>\n",
       "      <td>g</td>\n",
       "      <td>q</td>\n",
       "      <td>h</td>\n",
       "      <td>1.50</td>\n",
       "      <td>t</td>\n",
       "      <td>f</td>\n",
       "      <td>0</td>\n",
       "      <td>f</td>\n",
       "      <td>g</td>\n",
       "      <td>280.0</td>\n",
       "      <td>824</td>\n",
       "      <td>+</td>\n",
       "    </tr>\n",
       "    <tr>\n",
       "      <th>3</th>\n",
       "      <td>b</td>\n",
       "      <td>27.83</td>\n",
       "      <td>1.540</td>\n",
       "      <td>u</td>\n",
       "      <td>g</td>\n",
       "      <td>w</td>\n",
       "      <td>v</td>\n",
       "      <td>3.75</td>\n",
       "      <td>t</td>\n",
       "      <td>t</td>\n",
       "      <td>5</td>\n",
       "      <td>t</td>\n",
       "      <td>g</td>\n",
       "      <td>100.0</td>\n",
       "      <td>3</td>\n",
       "      <td>+</td>\n",
       "    </tr>\n",
       "    <tr>\n",
       "      <th>4</th>\n",
       "      <td>b</td>\n",
       "      <td>20.17</td>\n",
       "      <td>5.625</td>\n",
       "      <td>u</td>\n",
       "      <td>g</td>\n",
       "      <td>w</td>\n",
       "      <td>v</td>\n",
       "      <td>1.71</td>\n",
       "      <td>t</td>\n",
       "      <td>f</td>\n",
       "      <td>0</td>\n",
       "      <td>f</td>\n",
       "      <td>s</td>\n",
       "      <td>120.0</td>\n",
       "      <td>0</td>\n",
       "      <td>+</td>\n",
       "    </tr>\n",
       "  </tbody>\n",
       "</table>\n",
       "</div>"
      ],
      "text/plain": [
       "   A      B      C  D  E  F  G     H  I  J  K  L  M      N    O  P\n",
       "0  b  30.83  0.000  u  g  w  v  1.25  t  t  1  f  g  202.0    0  +\n",
       "1  a  58.67  4.460  u  g  q  h  3.04  t  t  6  f  g   43.0  560  +\n",
       "2  a  24.50  0.500  u  g  q  h  1.50  t  f  0  f  g  280.0  824  +\n",
       "3  b  27.83  1.540  u  g  w  v  3.75  t  t  5  t  g  100.0    3  +\n",
       "4  b  20.17  5.625  u  g  w  v  1.71  t  f  0  f  s  120.0    0  +"
      ]
     },
     "execution_count": 20,
     "metadata": {},
     "output_type": "execute_result"
    }
   ],
   "source": [
    "df.head()"
   ]
  },
  {
   "cell_type": "code",
   "execution_count": 21,
   "id": "86c0437f",
   "metadata": {
    "execution": {
     "iopub.execute_input": "2022-01-16T12:06:14.891545Z",
     "iopub.status.busy": "2022-01-16T12:06:14.890903Z",
     "iopub.status.idle": "2022-01-16T12:06:14.910725Z",
     "shell.execute_reply": "2022-01-16T12:06:14.911339Z",
     "shell.execute_reply.started": "2022-01-16T10:56:26.134027Z"
    },
    "papermill": {
     "duration": 0.058585,
     "end_time": "2022-01-16T12:06:14.911510",
     "exception": false,
     "start_time": "2022-01-16T12:06:14.852925",
     "status": "completed"
    },
    "tags": []
   },
   "outputs": [
    {
     "data": {
      "text/html": [
       "<div>\n",
       "<style scoped>\n",
       "    .dataframe tbody tr th:only-of-type {\n",
       "        vertical-align: middle;\n",
       "    }\n",
       "\n",
       "    .dataframe tbody tr th {\n",
       "        vertical-align: top;\n",
       "    }\n",
       "\n",
       "    .dataframe thead th {\n",
       "        text-align: right;\n",
       "    }\n",
       "</style>\n",
       "<table border=\"1\" class=\"dataframe\">\n",
       "  <thead>\n",
       "    <tr style=\"text-align: right;\">\n",
       "      <th></th>\n",
       "      <th>A</th>\n",
       "      <th>B</th>\n",
       "      <th>C</th>\n",
       "      <th>D</th>\n",
       "      <th>E</th>\n",
       "      <th>F</th>\n",
       "      <th>G</th>\n",
       "      <th>H</th>\n",
       "      <th>I</th>\n",
       "      <th>J</th>\n",
       "      <th>K</th>\n",
       "      <th>L</th>\n",
       "      <th>M</th>\n",
       "      <th>N</th>\n",
       "      <th>O</th>\n",
       "    </tr>\n",
       "  </thead>\n",
       "  <tbody>\n",
       "    <tr>\n",
       "      <th>0</th>\n",
       "      <td>b</td>\n",
       "      <td>30.83</td>\n",
       "      <td>0.000</td>\n",
       "      <td>u</td>\n",
       "      <td>g</td>\n",
       "      <td>w</td>\n",
       "      <td>v</td>\n",
       "      <td>1.25</td>\n",
       "      <td>t</td>\n",
       "      <td>t</td>\n",
       "      <td>1</td>\n",
       "      <td>f</td>\n",
       "      <td>g</td>\n",
       "      <td>202.0</td>\n",
       "      <td>0</td>\n",
       "    </tr>\n",
       "    <tr>\n",
       "      <th>1</th>\n",
       "      <td>a</td>\n",
       "      <td>58.67</td>\n",
       "      <td>4.460</td>\n",
       "      <td>u</td>\n",
       "      <td>g</td>\n",
       "      <td>q</td>\n",
       "      <td>h</td>\n",
       "      <td>3.04</td>\n",
       "      <td>t</td>\n",
       "      <td>t</td>\n",
       "      <td>6</td>\n",
       "      <td>f</td>\n",
       "      <td>g</td>\n",
       "      <td>43.0</td>\n",
       "      <td>560</td>\n",
       "    </tr>\n",
       "    <tr>\n",
       "      <th>2</th>\n",
       "      <td>a</td>\n",
       "      <td>24.50</td>\n",
       "      <td>0.500</td>\n",
       "      <td>u</td>\n",
       "      <td>g</td>\n",
       "      <td>q</td>\n",
       "      <td>h</td>\n",
       "      <td>1.50</td>\n",
       "      <td>t</td>\n",
       "      <td>f</td>\n",
       "      <td>0</td>\n",
       "      <td>f</td>\n",
       "      <td>g</td>\n",
       "      <td>280.0</td>\n",
       "      <td>824</td>\n",
       "    </tr>\n",
       "    <tr>\n",
       "      <th>3</th>\n",
       "      <td>b</td>\n",
       "      <td>27.83</td>\n",
       "      <td>1.540</td>\n",
       "      <td>u</td>\n",
       "      <td>g</td>\n",
       "      <td>w</td>\n",
       "      <td>v</td>\n",
       "      <td>3.75</td>\n",
       "      <td>t</td>\n",
       "      <td>t</td>\n",
       "      <td>5</td>\n",
       "      <td>t</td>\n",
       "      <td>g</td>\n",
       "      <td>100.0</td>\n",
       "      <td>3</td>\n",
       "    </tr>\n",
       "    <tr>\n",
       "      <th>4</th>\n",
       "      <td>b</td>\n",
       "      <td>20.17</td>\n",
       "      <td>5.625</td>\n",
       "      <td>u</td>\n",
       "      <td>g</td>\n",
       "      <td>w</td>\n",
       "      <td>v</td>\n",
       "      <td>1.71</td>\n",
       "      <td>t</td>\n",
       "      <td>f</td>\n",
       "      <td>0</td>\n",
       "      <td>f</td>\n",
       "      <td>s</td>\n",
       "      <td>120.0</td>\n",
       "      <td>0</td>\n",
       "    </tr>\n",
       "  </tbody>\n",
       "</table>\n",
       "</div>"
      ],
      "text/plain": [
       "   A      B      C  D  E  F  G     H  I  J  K  L  M      N    O\n",
       "0  b  30.83  0.000  u  g  w  v  1.25  t  t  1  f  g  202.0    0\n",
       "1  a  58.67  4.460  u  g  q  h  3.04  t  t  6  f  g   43.0  560\n",
       "2  a  24.50  0.500  u  g  q  h  1.50  t  f  0  f  g  280.0  824\n",
       "3  b  27.83  1.540  u  g  w  v  3.75  t  t  5  t  g  100.0    3\n",
       "4  b  20.17  5.625  u  g  w  v  1.71  t  f  0  f  s  120.0    0"
      ]
     },
     "execution_count": 21,
     "metadata": {},
     "output_type": "execute_result"
    }
   ],
   "source": [
    "# Separate target from features\n",
    "y = df['P']\n",
    "features = df\n",
    "features = features.drop(['P'], axis=1)\n",
    "# Preview features\n",
    "features.head()"
   ]
  },
  {
   "cell_type": "code",
   "execution_count": 22,
   "id": "df3cdae7",
   "metadata": {
    "execution": {
     "iopub.execute_input": "2022-01-16T12:06:14.987553Z",
     "iopub.status.busy": "2022-01-16T12:06:14.986914Z",
     "iopub.status.idle": "2022-01-16T12:06:15.164997Z",
     "shell.execute_reply": "2022-01-16T12:06:15.164351Z",
     "shell.execute_reply.started": "2022-01-16T10:56:27.147945Z"
    },
    "papermill": {
     "duration": 0.217554,
     "end_time": "2022-01-16T12:06:15.165140",
     "exception": false,
     "start_time": "2022-01-16T12:06:14.947586",
     "status": "completed"
    },
    "tags": []
   },
   "outputs": [
    {
     "data": {
      "image/png": "[encoded data removed]",
      "text/plain": [
       "<Figure size 504x360 with 1 Axes>"
      ]
     },
     "metadata": {
      "needs_background": "light"
     },
     "output_type": "display_data"
    }
   ],
   "source": [
    "fig, ax = plt.subplots(1, 1, figsize=(7,5), sharex=True)\n",
    "sns.countplot(data=df, x='P',edgecolor=\"white\",palette=\"viridis\",order=df[\"P\"].value_counts().index)\n",
    "total = df['P'].value_counts().sum()\n",
    "plt.xticks(fontsize=14)\n",
    "plt.yticks(fontsize=14)\n",
    "plt.xlabel('P', fontsize=16)\n",
    "plt.ylabel('count', fontsize=16)\n",
    "\n",
    "plt.show()"
   ]
  },
  {
   "cell_type": "code",
   "execution_count": 23,
   "id": "475a9b55",
   "metadata": {
    "execution": {
     "iopub.execute_input": "2022-01-16T12:06:15.253754Z",
     "iopub.status.busy": "2022-01-16T12:06:15.251601Z",
     "iopub.status.idle": "2022-01-16T12:06:15.279238Z",
     "shell.execute_reply": "2022-01-16T12:06:15.279746Z",
     "shell.execute_reply.started": "2022-01-16T10:56:29.545587Z"
    },
    "papermill": {
     "duration": 0.078192,
     "end_time": "2022-01-16T12:06:15.279919",
     "exception": false,
     "start_time": "2022-01-16T12:06:15.201727",
     "status": "completed"
    },
    "tags": []
   },
   "outputs": [
    {
     "data": {
      "text/html": [
       "<div>\n",
       "<style scoped>\n",
       "    .dataframe tbody tr th:only-of-type {\n",
       "        vertical-align: middle;\n",
       "    }\n",
       "\n",
       "    .dataframe tbody tr th {\n",
       "        vertical-align: top;\n",
       "    }\n",
       "\n",
       "    .dataframe thead th {\n",
       "        text-align: right;\n",
       "    }\n",
       "</style>\n",
       "<table border=\"1\" class=\"dataframe\">\n",
       "  <thead>\n",
       "    <tr style=\"text-align: right;\">\n",
       "      <th></th>\n",
       "      <th>A</th>\n",
       "      <th>B</th>\n",
       "      <th>C</th>\n",
       "      <th>D</th>\n",
       "      <th>E</th>\n",
       "      <th>F</th>\n",
       "      <th>G</th>\n",
       "      <th>H</th>\n",
       "      <th>I</th>\n",
       "      <th>J</th>\n",
       "      <th>K</th>\n",
       "      <th>L</th>\n",
       "      <th>M</th>\n",
       "      <th>N</th>\n",
       "      <th>O</th>\n",
       "    </tr>\n",
       "  </thead>\n",
       "  <tbody>\n",
       "    <tr>\n",
       "      <th>0</th>\n",
       "      <td>1.0</td>\n",
       "      <td>156.0</td>\n",
       "      <td>0.000</td>\n",
       "      <td>1.0</td>\n",
       "      <td>0.0</td>\n",
       "      <td>12.0</td>\n",
       "      <td>7.0</td>\n",
       "      <td>1.25</td>\n",
       "      <td>1.0</td>\n",
       "      <td>1.0</td>\n",
       "      <td>1</td>\n",
       "      <td>0.0</td>\n",
       "      <td>0.0</td>\n",
       "      <td>69.0</td>\n",
       "      <td>0</td>\n",
       "    </tr>\n",
       "    <tr>\n",
       "      <th>1</th>\n",
       "      <td>0.0</td>\n",
       "      <td>328.0</td>\n",
       "      <td>4.460</td>\n",
       "      <td>1.0</td>\n",
       "      <td>0.0</td>\n",
       "      <td>10.0</td>\n",
       "      <td>3.0</td>\n",
       "      <td>3.04</td>\n",
       "      <td>1.0</td>\n",
       "      <td>1.0</td>\n",
       "      <td>6</td>\n",
       "      <td>0.0</td>\n",
       "      <td>0.0</td>\n",
       "      <td>11.0</td>\n",
       "      <td>560</td>\n",
       "    </tr>\n",
       "    <tr>\n",
       "      <th>2</th>\n",
       "      <td>0.0</td>\n",
       "      <td>89.0</td>\n",
       "      <td>0.500</td>\n",
       "      <td>1.0</td>\n",
       "      <td>0.0</td>\n",
       "      <td>10.0</td>\n",
       "      <td>3.0</td>\n",
       "      <td>1.50</td>\n",
       "      <td>1.0</td>\n",
       "      <td>0.0</td>\n",
       "      <td>0</td>\n",
       "      <td>0.0</td>\n",
       "      <td>0.0</td>\n",
       "      <td>97.0</td>\n",
       "      <td>824</td>\n",
       "    </tr>\n",
       "    <tr>\n",
       "      <th>3</th>\n",
       "      <td>1.0</td>\n",
       "      <td>125.0</td>\n",
       "      <td>1.540</td>\n",
       "      <td>1.0</td>\n",
       "      <td>0.0</td>\n",
       "      <td>12.0</td>\n",
       "      <td>7.0</td>\n",
       "      <td>3.75</td>\n",
       "      <td>1.0</td>\n",
       "      <td>1.0</td>\n",
       "      <td>5</td>\n",
       "      <td>1.0</td>\n",
       "      <td>0.0</td>\n",
       "      <td>31.0</td>\n",
       "      <td>3</td>\n",
       "    </tr>\n",
       "    <tr>\n",
       "      <th>4</th>\n",
       "      <td>1.0</td>\n",
       "      <td>43.0</td>\n",
       "      <td>5.625</td>\n",
       "      <td>1.0</td>\n",
       "      <td>0.0</td>\n",
       "      <td>12.0</td>\n",
       "      <td>7.0</td>\n",
       "      <td>1.71</td>\n",
       "      <td>1.0</td>\n",
       "      <td>0.0</td>\n",
       "      <td>0</td>\n",
       "      <td>0.0</td>\n",
       "      <td>2.0</td>\n",
       "      <td>37.0</td>\n",
       "      <td>0</td>\n",
       "    </tr>\n",
       "  </tbody>\n",
       "</table>\n",
       "</div>"
      ],
      "text/plain": [
       "     A      B      C    D    E     F    G     H    I    J  K    L    M     N  \\\n",
       "0  1.0  156.0  0.000  1.0  0.0  12.0  7.0  1.25  1.0  1.0  1  0.0  0.0  69.0   \n",
       "1  0.0  328.0  4.460  1.0  0.0  10.0  3.0  3.04  1.0  1.0  6  0.0  0.0  11.0   \n",
       "2  0.0   89.0  0.500  1.0  0.0  10.0  3.0  1.50  1.0  0.0  0  0.0  0.0  97.0   \n",
       "3  1.0  125.0  1.540  1.0  0.0  12.0  7.0  3.75  1.0  1.0  5  1.0  0.0  31.0   \n",
       "4  1.0   43.0  5.625  1.0  0.0  12.0  7.0  1.71  1.0  0.0  0  0.0  2.0  37.0   \n",
       "\n",
       "     O  \n",
       "0    0  \n",
       "1  560  \n",
       "2  824  \n",
       "3    3  \n",
       "4    0  "
      ]
     },
     "execution_count": 23,
     "metadata": {},
     "output_type": "execute_result"
    }
   ],
   "source": [
    "# List of categorical columns\n",
    "object_cols = ['A','B','D','E','F','G','I','J','L','M','N']\n",
    "\n",
    "# ordinal-encode categorical columns\n",
    "X = features.copy()\n",
    "ordinal_encoder = OrdinalEncoder()\n",
    "X[object_cols] = ordinal_encoder.fit_transform(features[object_cols])\n",
    "\n",
    "# Preview the ordinal-encoded features\n",
    "X.head()\n"
   ]
  },
  {
   "cell_type": "code",
   "execution_count": 24,
   "id": "6e59454e",
   "metadata": {
    "execution": {
     "iopub.execute_input": "2022-01-16T12:06:15.357922Z",
     "iopub.status.busy": "2022-01-16T12:06:15.357263Z",
     "iopub.status.idle": "2022-01-16T12:06:15.370269Z",
     "shell.execute_reply": "2022-01-16T12:06:15.371114Z",
     "shell.execute_reply.started": "2022-01-16T10:56:31.992238Z"
    },
    "papermill": {
     "duration": 0.054425,
     "end_time": "2022-01-16T12:06:15.371462",
     "exception": false,
     "start_time": "2022-01-16T12:06:15.317037",
     "status": "completed"
    },
    "tags": []
   },
   "outputs": [
    {
     "name": "stdout",
     "output_type": "stream",
     "text": [
      "<class 'pandas.core.frame.DataFrame'>\n",
      "RangeIndex: 690 entries, 0 to 689\n",
      "Data columns (total 15 columns):\n",
      " #   Column  Non-Null Count  Dtype  \n",
      "---  ------  --------------  -----  \n",
      " 0   A       690 non-null    float64\n",
      " 1   B       690 non-null    float64\n",
      " 2   C       690 non-null    float64\n",
      " 3   D       690 non-null    float64\n",
      " 4   E       690 non-null    float64\n",
      " 5   F       690 non-null    float64\n",
      " 6   G       690 non-null    float64\n",
      " 7   H       690 non-null    float64\n",
      " 8   I       690 non-null    float64\n",
      " 9   J       690 non-null    float64\n",
      " 10  K       690 non-null    int64  \n",
      " 11  L       690 non-null    float64\n",
      " 12  M       690 non-null    float64\n",
      " 13  N       690 non-null    float64\n",
      " 14  O       690 non-null    int64  \n",
      "dtypes: float64(13), int64(2)\n",
      "memory usage: 81.0 KB\n"
     ]
    }
   ],
   "source": [
    "X.info()"
   ]
  },
  {
   "cell_type": "code",
   "execution_count": 25,
   "id": "e2a272c3",
   "metadata": {
    "execution": {
     "iopub.execute_input": "2022-01-16T12:06:15.453214Z",
     "iopub.status.busy": "2022-01-16T12:06:15.452559Z",
     "iopub.status.idle": "2022-01-16T12:06:17.025749Z",
     "shell.execute_reply": "2022-01-16T12:06:17.026249Z",
     "shell.execute_reply.started": "2022-01-16T10:22:55.107173Z"
    },
    "papermill": {
     "duration": 1.614581,
     "end_time": "2022-01-16T12:06:17.026421",
     "exception": false,
     "start_time": "2022-01-16T12:06:15.411840",
     "status": "completed"
    },
    "tags": []
   },
   "outputs": [
    {
     "data": {
      "text/plain": [
       "<AxesSubplot:>"
      ]
     },
     "execution_count": 25,
     "metadata": {},
     "output_type": "execute_result"
    },
    {
     "data": {
      "image/png": "[encoded data removed]",
      "text/plain": [
       "<Figure size 1224x1080 with 2 Axes>"
      ]
     },
     "metadata": {
      "needs_background": "light"
     },
     "output_type": "display_data"
    }
   ],
   "source": [
    "fig, ax = plt.subplots(1, 1, figsize=(17,15))\n",
    "sns.heatmap(X.corr(), annot = True, cmap = 'coolwarm')"
   ]
  },
  {
   "cell_type": "code",
   "execution_count": 26,
   "id": "d71c181c",
   "metadata": {
    "execution": {
     "iopub.execute_input": "2022-01-16T12:06:17.115616Z",
     "iopub.status.busy": "2022-01-16T12:06:17.114353Z",
     "iopub.status.idle": "2022-01-16T12:06:17.119100Z",
     "shell.execute_reply": "2022-01-16T12:06:17.119589Z",
     "shell.execute_reply.started": "2022-01-16T10:59:12.264053Z"
    },
    "papermill": {
     "duration": 0.05176,
     "end_time": "2022-01-16T12:06:17.119762",
     "exception": false,
     "start_time": "2022-01-16T12:06:17.068002",
     "status": "completed"
    },
    "tags": []
   },
   "outputs": [],
   "source": [
    "# X = X.drop([ 'D', 'E', 'F', 'M', 'N'], axis = 1)\n",
    "xTrain, xTest, yTrain, yTest = train_test_split(X, y,test_size=0.20,random_state=2)"
   ]
  },
  {
   "cell_type": "markdown",
   "id": "d0394337",
   "metadata": {
    "papermill": {
     "duration": 0.041226,
     "end_time": "2022-01-16T12:06:17.202336",
     "exception": false,
     "start_time": "2022-01-16T12:06:17.161110",
     "status": "completed"
    },
    "tags": []
   },
   "source": [
    "## **Classifiers**"
   ]
  },
  {
   "cell_type": "markdown",
   "id": "bb81ef16",
   "metadata": {
    "papermill": {
     "duration": 0.041737,
     "end_time": "2022-01-16T12:06:17.285213",
     "exception": false,
     "start_time": "2022-01-16T12:06:17.243476",
     "status": "completed"
    },
    "tags": []
   },
   "source": [
    "#### **Decision Tree**"
   ]
  },
  {
   "cell_type": "code",
   "execution_count": 41,
   "id": "2c5d5720",
   "metadata": {
    "execution": {
     "iopub.execute_input": "2022-01-16T12:06:17.371260Z",
     "iopub.status.busy": "2022-01-16T12:06:17.370586Z",
     "iopub.status.idle": "2022-01-16T12:06:17.681059Z",
     "shell.execute_reply": "2022-01-16T12:06:17.681635Z",
     "shell.execute_reply.started": "2022-01-16T10:22:56.706533Z"
    },
    "papermill": {
     "duration": 0.355122,
     "end_time": "2022-01-16T12:06:17.681805",
     "exception": false,
     "start_time": "2022-01-16T12:06:17.326683",
     "status": "completed"
    },
    "tags": []
   },
   "outputs": [
    {
     "name": "stdout",
     "output_type": "stream",
     "text": [
      "1 Train score: 0.8426501035196687 Test score: 0.8840579710144928\n",
      "2 Train score: 0.8426501035196687 Test score: 0.8840579710144928\n",
      "3 Train score: 0.8488612836438924 Test score: 0.8743961352657005\n",
      "4 Train score: 0.8778467908902692 Test score: 0.8695652173913043\n",
      "5 Train score: 0.8985507246376812 Test score: 0.8405797101449275\n",
      "6 Train score: 0.9213250517598344 Test score: 0.821256038647343\n",
      "7 Train score: 0.9461697722567288 Test score: 0.8115942028985508\n",
      "8 Train score: 0.9627329192546584 Test score: 0.8019323671497585\n",
      "9 Train score: 0.968944099378882 Test score: 0.8115942028985508\n"
     ]
    },
    {
     "data": {
      "text/plain": [
       "<matplotlib.legend.Legend at 0x7f9a5bb053a0>"
      ]
     },
     "execution_count": 41,
     "metadata": {},
     "output_type": "execute_result"
    },
    {
     "data": {
      "image/png": "[encoded data removed]",
      "text/plain": [
       "<Figure size 432x288 with 1 Axes>"
      ]
     },
     "metadata": {
      "needs_background": "light"
     },
     "output_type": "display_data"
    }
   ],
   "source": [
    "train_acc=[]\n",
    "test_acc=[]\n",
    "list_score=[]\n",
    "p=[]\n",
    "\n",
    "for i in range(1, 10):\n",
    "    \n",
    "    dtc = DecisionTreeClassifier(max_depth = i ,random_state = 0)\n",
    "\n",
    "    dtc.fit(xTrain, yTrain)\n",
    "\n",
    "    train_pred = dtc.predict(xTrain)\n",
    "    #train_acc.append(score(train_pred, yTrain))\n",
    "    \n",
    "    test_pred = dtc.predict(xTest)\n",
    "    #test_acc.append(score(test_pred, yTest))\n",
    "    test_acc = accuracy_score(yTest, test_pred)\n",
    "    train_acc = accuracy_score(yTrain, train_pred)\n",
    "    print(i,'Train score:',train_acc,'Test score:',test_acc)\n",
    "\n",
    "    list_score.append([i,accuracy_score(train_pred, yTrain),accuracy_score(test_pred, yTest)]) \n",
    "    \n",
    "    \n",
    "df2 = DataFrame (list_score,columns=['Depth','Train Accuracy','Test Accuracy'])\n",
    "plt.plot(df2['Depth'],df2['Test Accuracy'],label='Test Accuracy')\n",
    "plt.plot(df2['Depth'],df2['Train Accuracy'],label='Train Accuracy')\n",
    "plt.xlabel('Depth')\n",
    "plt.ylabel('Accuracy')\n",
    "plt.legend() "
   ]
  },
  {
   "cell_type": "code",
   "execution_count": 235,
   "id": "2d3fbe50",
   "metadata": {},
   "outputs": [
    {
     "data": {
      "text/plain": [
       "Text(0.5, 1.0, 'Total Impurity vs effective alpha for training set')"
      ]
     },
     "execution_count": 235,
     "metadata": {},
     "output_type": "execute_result"
    },
    {
     "data": {
      "image/png": "[encoded data removed]",
      "text/plain": [
       "<Figure size 432x288 with 1 Axes>"
      ]
     },
     "metadata": {
      "needs_background": "light"
     },
     "output_type": "display_data"
    }
   ],
   "source": [
    "clf = DecisionTreeClassifier(random_state=0)\n",
    "path = clf.cost_complexity_pruning_path(xTrain, yTrain)\n",
    "ccp_alphas, impurities = path.ccp_alphas, path.impurities\n",
    "fig, ax = plt.subplots()\n",
    "ax.plot(ccp_alphas[:-1], impurities[:-1], marker=\"o\", drawstyle=\"steps-post\")\n",
    "ax.set_xlabel(\"effective alpha\")\n",
    "ax.set_ylabel(\"total impurity of leaves\")\n",
    "ax.set_title(\"Total Impurity vs effective alpha for training set\")"
   ]
  },
  {
   "cell_type": "code",
   "execution_count": 64,
   "id": "0986bb21",
   "metadata": {},
   "outputs": [
    {
     "data": {
      "image/png": "[encoded data removed]",
      "text/plain": [
       "<Figure size 432x288 with 2 Axes>"
      ]
     },
     "metadata": {
      "needs_background": "light"
     },
     "output_type": "display_data"
    }
   ],
   "source": [
    "clfs = []\n",
    "for ccp_alpha in ccp_alphas:\n",
    "    clf = DecisionTreeClassifier(random_state=0, ccp_alpha=ccp_alpha)\n",
    "    clf.fit(xTrain, yTrain)\n",
    "    clfs.append(clf)\n",
    "    \n",
    "clfs = clfs[:-1]\n",
    "ccp_alphas = ccp_alphas[:-1]\n",
    "\n",
    "node_counts = [clf.tree_.node_count for clf in clfs]\n",
    "depth = [clf.tree_.max_depth for clf in clfs]\n",
    "fig, ax = plt.subplots(2, 1)\n",
    "ax[0].plot(ccp_alphas, node_counts, marker=\"o\", drawstyle=\"steps-post\")\n",
    "ax[0].set_xlabel(\"alpha\")\n",
    "ax[0].set_ylabel(\"number of nodes\")\n",
    "ax[0].set_title(\"Number of nodes vs alpha\")\n",
    "ax[1].plot(ccp_alphas, depth, marker=\"o\", drawstyle=\"steps-post\")\n",
    "ax[1].set_xlabel(\"alpha\")\n",
    "ax[1].set_ylabel(\"depth of tree\")\n",
    "ax[1].set_title(\"Depth vs alpha\")\n",
    "fig.tight_layout()"
   ]
  },
  {
   "cell_type": "code",
   "execution_count": 63,
   "id": "efd2e33a",
   "metadata": {},
   "outputs": [
    {
     "data": {
      "image/png": "[encoded data removed]",
      "text/plain": [
       "<Figure size 432x288 with 1 Axes>"
      ]
     },
     "metadata": {
      "needs_background": "light"
     },
     "output_type": "display_data"
    }
   ],
   "source": [
    "train_scores = [clf.score(xTrain, yTrain) for clf in clfs]\n",
    "test_scores = [clf.score(xTest, yTest) for clf in clfs]\n",
    "\n",
    "fig, ax = plt.subplots()\n",
    "ax.set_xlabel(\"alpha\")\n",
    "ax.set_ylabel(\"accuracy\")\n",
    "ax.set_title(\"Accuracy vs alpha for training and testing sets\")\n",
    "ax.plot(ccp_alphas, train_scores, marker=\"o\", label=\"train\", drawstyle=\"steps-post\")\n",
    "ax.plot(ccp_alphas, test_scores, marker=\"o\", label=\"test\", drawstyle=\"steps-post\")\n",
    "ax.legend()\n",
    "plt.show()"
   ]
  },
  {
   "cell_type": "code",
   "execution_count": 233,
   "id": "61474e1f",
   "metadata": {},
   "outputs": [],
   "source": [
    "# ccp_alphas, test_scores"
   ]
  },
  {
   "cell_type": "markdown",
   "id": "70f47f65",
   "metadata": {
    "papermill": {
     "duration": 0.043091,
     "end_time": "2022-01-16T12:06:17.768021",
     "exception": false,
     "start_time": "2022-01-16T12:06:17.724930",
     "status": "completed"
    },
    "tags": []
   },
   "source": [
    "#### **Ada Boost**"
   ]
  },
  {
   "cell_type": "code",
   "execution_count": 262,
   "id": "5051b254",
   "metadata": {},
   "outputs": [],
   "source": [
    "clfs = []\n",
    "for ccp_alpha in ccp_alphas:\n",
    "    base = DecisionTreeClassifier(random_state=0, ccp_alpha=ccp_alpha)\n",
    "    clf = AdaBoostClassifier(base_estimator=base, random_state=0, n_estimators=100)\n",
    "    clf.fit(xTrain, yTrain)\n",
    "    clfs.append(clf)\n",
    "    \n",
    "clfs = clfs[:-1]\n",
    "ccp_alphas = ccp_alphas[:-1]\n",
    "\n",
    "# node_counts = [clf.tree_.node_count for clf in clfs]\n",
    "# depth = [clf.tree_.max_depth for clf in clfs]\n",
    "# fig, ax = plt.subplots(2, 1)\n",
    "# ax[0].plot(ccp_alphas, node_counts, marker=\"o\", drawstyle=\"steps-post\")\n",
    "# ax[0].set_xlabel(\"alpha\")\n",
    "# ax[0].set_ylabel(\"number of nodes\")\n",
    "# ax[0].set_title(\"Number of nodes vs alpha\")\n",
    "# ax[1].plot(ccp_alphas, depth, marker=\"o\", drawstyle=\"steps-post\")\n",
    "# ax[1].set_xlabel(\"alpha\")\n",
    "# ax[1].set_ylabel(\"depth of tree\")\n",
    "# ax[1].set_title(\"Depth vs alpha\")\n",
    "# fig.tight_layout()"
   ]
  },
  {
   "cell_type": "code",
   "execution_count": 263,
   "id": "8d5bac4b",
   "metadata": {},
   "outputs": [
    {
     "data": {
      "image/png": "[encoded data removed]",
      "text/plain": [
       "<Figure size 432x288 with 1 Axes>"
      ]
     },
     "metadata": {
      "needs_background": "light"
     },
     "output_type": "display_data"
    },
    {
     "name": "stdout",
     "output_type": "stream",
     "text": [
      "0.9130434782608695 0.9130434782608695 0.0028985507246376803\n"
     ]
    }
   ],
   "source": [
    "train_scores = [clf.score(xTrain, yTrain) for clf in clfs]\n",
    "test_scores = [clf.score(xTest, yTest) for clf in clfs]\n",
    "\n",
    "fig, ax = plt.subplots()\n",
    "ax.set_xlabel(\"alpha\")\n",
    "ax.set_ylabel(\"accuracy\")\n",
    "ax.set_title(\"Accuracy vs alpha for AdaBoost classifier\")\n",
    "ax.plot(ccp_alphas, train_scores, marker=\"o\", label=\"train\", drawstyle=\"steps-post\")\n",
    "ax.plot(ccp_alphas, test_scores, marker=\"o\", label=\"test\", drawstyle=\"steps-post\")\n",
    "ax.legend()\n",
    "plt.show()\n",
    "print(max(test_scores), test_scores[18], ccp_alphas[18])"
   ]
  },
  {
   "cell_type": "markdown",
   "id": "a4b27336",
   "metadata": {
    "papermill": {
     "duration": 0.044766,
     "end_time": "2022-01-16T12:06:18.785973",
     "exception": false,
     "start_time": "2022-01-16T12:06:18.741207",
     "status": "completed"
    },
    "tags": []
   },
   "source": [
    "#### **KNN**"
   ]
  },
  {
   "cell_type": "code",
   "execution_count": 24,
   "id": "2e6787fb",
   "metadata": {
    "execution": {
     "iopub.execute_input": "2022-01-16T12:06:18.884526Z",
     "iopub.status.busy": "2022-01-16T12:06:18.883870Z",
     "iopub.status.idle": "2022-01-16T12:06:18.928143Z",
     "shell.execute_reply": "2022-01-16T12:06:18.927093Z",
     "shell.execute_reply.started": "2022-01-16T10:22:57.738838Z"
    },
    "papermill": {
     "duration": 0.096866,
     "end_time": "2022-01-16T12:06:18.928418",
     "exception": false,
     "start_time": "2022-01-16T12:06:18.831552",
     "status": "completed"
    },
    "tags": []
   },
   "outputs": [
    {
     "name": "stdout",
     "output_type": "stream",
     "text": [
      "Train score: 0.7867494824016563 Test score: 0.7101449275362319\n"
     ]
    }
   ],
   "source": [
    "from sklearn.neighbors import KNeighborsClassifier\n",
    "knn = KNeighborsClassifier(n_neighbors=5)\n",
    "\n",
    "knn.fit(xTrain,yTrain)\n",
    "\n",
    "train_predict = knn.predict(xTrain)\n",
    "test_predict = knn.predict(xTest)\n",
    "\n",
    "test_acc = accuracy_score(yTest, test_predict)\n",
    "train_acc = accuracy_score(yTrain, train_predict)\n",
    "print('Train score:',train_acc,'Test score:',test_acc)\n",
    "# Train score: 0.7743271221532091 Test score: 0.6908212560386473"
   ]
  },
  {
   "cell_type": "code",
   "execution_count": 25,
   "id": "d948def6",
   "metadata": {
    "execution": {
     "iopub.execute_input": "2022-01-16T12:06:19.026521Z",
     "iopub.status.busy": "2022-01-16T12:06:19.025489Z",
     "iopub.status.idle": "2022-01-16T12:06:20.064942Z",
     "shell.execute_reply": "2022-01-16T12:06:20.064386Z",
     "shell.execute_reply.started": "2022-01-16T11:58:57.082308Z"
    },
    "papermill": {
     "duration": 1.089228,
     "end_time": "2022-01-16T12:06:20.065083",
     "exception": false,
     "start_time": "2022-01-16T12:06:18.975855",
     "status": "completed"
    },
    "tags": []
   },
   "outputs": [
    {
     "name": "stdout",
     "output_type": "stream",
     "text": [
      "Train score: 0.8343685300207039 Test score: 0.6135265700483091\n",
      "2 Train score: 0.8343685300207039 Test score: 0.6135265700483091\n",
      "Train score: 0.8178053830227743 Test score: 0.6763285024154589\n",
      "3 Train score: 0.8178053830227743 Test score: 0.6763285024154589\n",
      "Train score: 0.7908902691511387 Test score: 0.714975845410628\n",
      "4 Train score: 0.7908902691511387 Test score: 0.714975845410628\n",
      "Train score: 0.7867494824016563 Test score: 0.7101449275362319\n",
      "5 Train score: 0.7867494824016563 Test score: 0.7101449275362319\n",
      "Train score: 0.7660455486542443 Test score: 0.6908212560386473\n",
      "6 Train score: 0.7660455486542443 Test score: 0.6908212560386473\n",
      "Train score: 0.7494824016563147 Test score: 0.7004830917874396\n",
      "7 Train score: 0.7494824016563147 Test score: 0.7004830917874396\n",
      "Train score: 0.7370600414078675 Test score: 0.6811594202898551\n",
      "8 Train score: 0.7370600414078675 Test score: 0.6811594202898551\n",
      "Train score: 0.7432712215320911 Test score: 0.6666666666666666\n",
      "9 Train score: 0.7432712215320911 Test score: 0.6666666666666666\n",
      "Train score: 0.7287784679089027 Test score: 0.6570048309178744\n",
      "10 Train score: 0.7287784679089027 Test score: 0.6570048309178744\n",
      "Train score: 0.7432712215320911 Test score: 0.6618357487922706\n",
      "11 Train score: 0.7432712215320911 Test score: 0.6618357487922706\n",
      "Train score: 0.7349896480331263 Test score: 0.6521739130434783\n",
      "12 Train score: 0.7349896480331263 Test score: 0.6521739130434783\n",
      "Train score: 0.7267080745341615 Test score: 0.6473429951690821\n",
      "13 Train score: 0.7267080745341615 Test score: 0.6473429951690821\n",
      "Train score: 0.7308488612836439 Test score: 0.642512077294686\n",
      "14 Train score: 0.7308488612836439 Test score: 0.642512077294686\n",
      "Train score: 0.7163561076604554 Test score: 0.642512077294686\n",
      "15 Train score: 0.7163561076604554 Test score: 0.642512077294686\n",
      "Train score: 0.7142857142857143 Test score: 0.6570048309178744\n",
      "16 Train score: 0.7142857142857143 Test score: 0.6570048309178744\n",
      "Train score: 0.7101449275362319 Test score: 0.6570048309178744\n",
      "17 Train score: 0.7101449275362319 Test score: 0.6570048309178744\n",
      "Train score: 0.7122153209109731 Test score: 0.642512077294686\n",
      "18 Train score: 0.7122153209109731 Test score: 0.642512077294686\n",
      "Train score: 0.7122153209109731 Test score: 0.642512077294686\n",
      "19 Train score: 0.7122153209109731 Test score: 0.642512077294686\n"
     ]
    },
    {
     "data": {
      "text/plain": [
       "<matplotlib.legend.Legend at 0x7f9a5055ea00>"
      ]
     },
     "execution_count": 25,
     "metadata": {},
     "output_type": "execute_result"
    },
    {
     "data": {
      "image/png": "[encoded data removed]",
      "text/plain": [
       "<Figure size 432x288 with 1 Axes>"
      ]
     },
     "metadata": {
      "needs_background": "light"
     },
     "output_type": "display_data"
    }
   ],
   "source": [
    "from sklearn.neighbors import KNeighborsClassifier\n",
    "\n",
    "train_acc=[]\n",
    "test_acc=[]\n",
    "list_score=[]\n",
    "\n",
    "for i in range(2, 20):\n",
    "    knn = KNeighborsClassifier(n_neighbors=i)\n",
    "\n",
    "    knn.fit(xTrain,yTrain)\n",
    "\n",
    "    train_predict = knn.predict(xTrain)\n",
    "    test_predict = knn.predict(xTest)\n",
    "\n",
    "    test_acc = accuracy_score(yTest, test_predict)\n",
    "    train_acc = accuracy_score(yTrain, train_predict)\n",
    "    print('Train score:',train_acc,'Test score:',test_acc)\n",
    "    print(i,'Train score:',train_acc,'Test score:',test_acc)\n",
    "\n",
    "    list_score.append([i,accuracy_score(train_predict, yTrain),accuracy_score(test_predict, yTest)]) \n",
    "    \n",
    "    \n",
    "df3 = DataFrame (list_score,columns=['n_neighbors','Train Accuracy','Test Accuracy'])\n",
    "plt.plot(df3['n_neighbors'],df3['Test Accuracy'],label='Test Accuracy')\n",
    "plt.plot(df3['n_neighbors'],df3['Train Accuracy'],label='Train Accuracy')\n",
    "plt.xlabel('n_neighbors')\n",
    "plt.ylabel('Accuracy')\n",
    "plt.legend()    "
   ]
  },
  {
   "cell_type": "markdown",
   "id": "82520d52",
   "metadata": {
    "papermill": {
     "duration": 0.048956,
     "end_time": "2022-01-16T12:06:20.164672",
     "exception": false,
     "start_time": "2022-01-16T12:06:20.115716",
     "status": "completed"
    },
    "tags": []
   },
   "source": [
    "#### **Logistic Regression**"
   ]
  },
  {
   "cell_type": "code",
   "execution_count": 26,
   "id": "3321bb07",
   "metadata": {
    "execution": {
     "iopub.execute_input": "2022-01-16T12:06:20.276746Z",
     "iopub.status.busy": "2022-01-16T12:06:20.273565Z",
     "iopub.status.idle": "2022-01-16T12:06:20.278696Z",
     "shell.execute_reply": "2022-01-16T12:06:20.279191Z",
     "shell.execute_reply.started": "2022-01-16T10:59:21.432035Z"
    },
    "papermill": {
     "duration": 0.064396,
     "end_time": "2022-01-16T12:06:20.279362",
     "exception": false,
     "start_time": "2022-01-16T12:06:20.214966",
     "status": "completed"
    },
    "tags": []
   },
   "outputs": [],
   "source": [
    "# Import MinMaxScaler\n",
    "from sklearn.preprocessing import MinMaxScaler\n",
    "# Instantiate MinMaxScaler and use it to rescale X_train and X_test\n",
    "scaler = MinMaxScaler(feature_range=(0,1))\n",
    "rescaledxTrain = scaler.fit_transform(xTrain)\n",
    "rescaledxTest = scaler.fit_transform(xTest)\n"
   ]
  },
  {
   "cell_type": "code",
   "execution_count": 27,
   "id": "ba8b7579",
   "metadata": {
    "execution": {
     "iopub.execute_input": "2022-01-16T12:06:20.382518Z",
     "iopub.status.busy": "2022-01-16T12:06:20.381894Z",
     "iopub.status.idle": "2022-01-16T12:06:20.402655Z",
     "shell.execute_reply": "2022-01-16T12:06:20.402128Z",
     "shell.execute_reply.started": "2022-01-16T10:59:21.871282Z"
    },
    "papermill": {
     "duration": 0.073926,
     "end_time": "2022-01-16T12:06:20.402801",
     "exception": false,
     "start_time": "2022-01-16T12:06:20.328875",
     "status": "completed"
    },
    "tags": []
   },
   "outputs": [
    {
     "data": {
      "text/plain": [
       "LogisticRegression()"
      ]
     },
     "execution_count": 27,
     "metadata": {},
     "output_type": "execute_result"
    }
   ],
   "source": [
    "# Import LogisticRegression\n",
    "from sklearn.linear_model import LogisticRegression\n",
    "\n",
    "# Instantiate a LogisticRegression classifier with default parameter values\n",
    "logreg = LogisticRegression()\n",
    "\n",
    "# Fit logreg to the train set\n",
    "logreg.fit(rescaledxTrain, yTrain)"
   ]
  },
  {
   "cell_type": "code",
   "execution_count": 28,
   "id": "336418a2",
   "metadata": {
    "execution": {
     "iopub.execute_input": "2022-01-16T12:06:20.511729Z",
     "iopub.status.busy": "2022-01-16T12:06:20.508495Z",
     "iopub.status.idle": "2022-01-16T12:06:20.522587Z",
     "shell.execute_reply": "2022-01-16T12:06:20.522094Z",
     "shell.execute_reply.started": "2022-01-16T10:59:27.770960Z"
    },
    "papermill": {
     "duration": 0.070428,
     "end_time": "2022-01-16T12:06:20.522725",
     "exception": false,
     "start_time": "2022-01-16T12:06:20.452297",
     "status": "completed"
    },
    "tags": []
   },
   "outputs": [
    {
     "name": "stdout",
     "output_type": "stream",
     "text": [
      "Test: Accuracy =  0.8840579710144928\n",
      "Train: Accuracy =  0.8426501035196687\n"
     ]
    },
    {
     "data": {
      "text/plain": [
       "array([[94,  8],\n",
       "       [16, 89]])"
      ]
     },
     "execution_count": 28,
     "metadata": {},
     "output_type": "execute_result"
    }
   ],
   "source": [
    "# Import confusion_matrix\n",
    "from sklearn.metrics import confusion_matrix\n",
    "# Use logreg to predict instances from the test set and store it\n",
    "y_pred = logreg.predict(rescaledxTest)\n",
    "y_pred1 = logreg.predict(rescaledxTrain)\n",
    "\n",
    "# Get the accuracy score of logreg model and print it\n",
    "print(\"Test: Accuracy = \", logreg.score(rescaledxTest,yTest))\n",
    "print(\"Train: Accuracy = \", logreg.score(rescaledxTrain,yTrain))\n",
    "\n",
    "# Print the confusion matrix of the logreg model\n",
    "confusion_matrix(yTest,y_pred)"
   ]
  },
  {
   "cell_type": "code",
   "execution_count": 29,
   "id": "5aa65928",
   "metadata": {},
   "outputs": [
    {
     "name": "stderr",
     "output_type": "stream",
     "text": [
      "/Users/bryanliu/miniconda3/lib/python3.9/site-packages/sklearn/neural_network/_multilayer_perceptron.py:500: ConvergenceWarning: lbfgs failed to converge (status=1):\n",
      "STOP: TOTAL NO. of ITERATIONS REACHED LIMIT.\n",
      "\n",
      "Increase the number of iterations (max_iter) or scale the data as shown in:\n",
      "    https://scikit-learn.org/stable/modules/preprocessing.html\n",
      "  self.n_iter_ = _check_optimize_result(\"lbfgs\", opt_res, self.max_iter)\n"
     ]
    },
    {
     "data": {
      "text/plain": [
       "0.782608695652174"
      ]
     },
     "execution_count": 29,
     "metadata": {},
     "output_type": "execute_result"
    }
   ],
   "source": [
    "svm_clf = svm.SVC(kernel='linear')\n",
    "# clf.fit(xTrain, yTrain)\n",
    "# clf.score(xTest,yTest)\n",
    "\n",
    "\n",
    "# mlp_clf = MLPClassifier(solver='lbfgs', alpha=1e-5, hidden_layer_sizes=(15, 10, 2), random_state=1)\n",
    "mlp_clf = MLPClassifier(hidden_layer_sizes=(26,150,26),  max_iter=1000, solver='lbfgs', activation='relu', alpha=0.7, \n",
    "                 learning_rate_init=0.5,  verbose=False, momentum=0.1, random_state=42)\n",
    "mlp_clf.fit(xTrain, yTrain)\n",
    "mlp_clf.score(xTest,yTest)\n",
    "# 0.7922705314009661"
   ]
  },
  {
   "cell_type": "markdown",
   "id": "8ff114c9",
   "metadata": {
    "papermill": {
     "duration": 0.051329,
     "end_time": "2022-01-16T12:06:20.624386",
     "exception": false,
     "start_time": "2022-01-16T12:06:20.573057",
     "status": "completed"
    },
    "tags": []
   },
   "source": [
    "\n",
    "| Model | Train Accuracy | Test Accuracy |\n",
    "| --- | --- | --- |\n",
    "| **Logistic Regression** | 0.86 | 0.88|\n",
    "| **Decision Tree** | 0.85 | 0.86 |\n",
    "| **Gradiant Boost** | 0.98 | 0.87|\n",
    "| **XGBoost** | 1.0 | 0.87|\n",
    "| **KNN** | 0.73 | 0.72|\n",
    "\n"
   ]
  },
  {
   "cell_type": "code",
   "execution_count": 275,
   "id": "37e2a824",
   "metadata": {
    "papermill": {
     "duration": 0.050567,
     "end_time": "2022-01-16T12:06:20.726013",
     "exception": false,
     "start_time": "2022-01-16T12:06:20.675446",
     "status": "completed"
    },
    "tags": []
   },
   "outputs": [
    {
     "name": "stdout",
     "output_type": "stream",
     "text": [
      "Accuracy 1.0 0.8681159420289856\n"
     ]
    },
    {
     "data": {
      "image/png": "[encoded data removed]",
      "text/plain": [
       "<Figure size 1080x360 with 2 Axes>"
      ]
     },
     "metadata": {
      "needs_background": "light"
     },
     "output_type": "display_data"
    },
    {
     "data": {
      "image/png": "[encoded data removed]",
      "text/plain": [
       "<Figure size 1080x360 with 2 Axes>"
      ]
     },
     "metadata": {
      "needs_background": "light"
     },
     "output_type": "display_data"
    }
   ],
   "source": [
    "cv = ShuffleSplit(n_splits=5, test_size=0.2, random_state=0)\n",
    "# classifier = DecisionTreeClassifier(random_state=0, ccp_alpha=0.00553785)\n",
    "base = DecisionTreeClassifier(random_state=0, ccp_alpha=0.0028)\n",
    "classifier = AdaBoostClassifier(base_estimator=base, n_estimators=100, random_state=0)\n",
    "\n",
    "fig, axes = plt.subplots(1, 2, figsize=(15, 5))\n",
    "fig2, axes2 = plt.subplots(1, 2, figsize=(15, 5))\n",
    "\n",
    "\n",
    "plot_learning_curve(\n",
    "    classifier, \"Learning Curves\", X, y, axes=[axes[0], axes2[0], axes2[1]], ylim=(0.5, 1.01), cv=cv, n_jobs=4\n",
    ")\n",
    "\n",
    "classifier.fit(xTrain, yTrain)\n",
    "plot_roc_curve(classifier, xTest, yTest, ax=axes[1])\n",
    "axes[1].set_title('ROC Curve')\n",
    "\n",
    "fig.savefig('DT1.jpg')\n",
    "fig2.savefig('DT2.jpg')"
   ]
  },
  {
   "cell_type": "code",
   "execution_count": null,
   "id": "13285620",
   "metadata": {},
   "outputs": [],
   "source": []
  }
 ],
 "metadata": {
  "kernelspec": {
   "display_name": "Python 3 (ipykernel)",
   "language": "python",
   "name": "python3"
  },
  "language_info": {
   "codemirror_mode": {
    "name": "ipython",
    "version": 3
   },
   "file_extension": ".py",
   "mimetype": "text/x-python",
   "name": "python",
   "nbconvert_exporter": "python",
   "pygments_lexer": "ipython3",
   "version": "3.9.12"
  },
  "papermill": {
   "default_parameters": {},
   "duration": 19.510696,
   "end_time": "2022-01-16T12:06:21.487320",
   "environment_variables": {},
   "exception": null,
   "input_path": "__notebook__.ipynb",
   "output_path": "__notebook__.ipynb",
   "parameters": {},
   "start_time": "2022-01-16T12:06:01.976624",
   "version": "2.3.3"
  }
 },
 "nbformat": 4,
 "nbformat_minor": 5
}
