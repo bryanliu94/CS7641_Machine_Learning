{
 "cells": [
  {
   "cell_type": "code",
   "execution_count": 1,
   "id": "868af36c",
   "metadata": {},
   "outputs": [],
   "source": [
    "import mlrose_hiive as mlrose\n",
    "\n",
    "# import mlrose\n",
    "import numpy as np\n",
    "\n",
    "from sklearn.datasets import load_iris\n",
    "from sklearn.model_selection import train_test_split\n",
    "from sklearn.preprocessing import MinMaxScaler, OneHotEncoder\n",
    "from sklearn.metrics import accuracy_score\n",
    "import matplotlib.pyplot as plt\n",
    "import time"
   ]
  },
  {
   "cell_type": "code",
   "execution_count": 2,
   "id": "148cc439",
   "metadata": {},
   "outputs": [],
   "source": [
    "\n",
    "def cust_fn(state):\n",
    "    q = mlrose.Queens()\n",
    "    return 28 - q.evaluate(state)\n",
    "def queens_max(state):\n",
    "    \n",
    "    fitness = 0\n",
    "    \n",
    "    for i in range(len(state) - 1):\n",
    "        for j in range(i + 1, len(state)):\n",
    "            if (state[j] != state[i]) \\\n",
    "                and (state[j] != state[i] + (j - i)) \\\n",
    "                and (state[j] != state[i] - (j - i)):\n",
    "                \n",
    "                fitness += 1\n",
    "\n",
    "    return fitness\n",
    "\n",
    "# fitness = mlrose.CustomFitness(queens_max)\n",
    "fitness = mlrose.FourPeaks()\n",
    "\n",
    "problem = mlrose.DiscreteOpt(length = 12, fitness_fn = fitness, maximize=True, max_val=1)\n",
    "schedule = mlrose.ExpDecay()\n",
    "# init_state = np.array([0, 1, 2, 3, 4, 5, 6, 7])\n"
   ]
  },
  {
   "cell_type": "code",
   "execution_count": 3,
   "id": "60a7772f",
   "metadata": {},
   "outputs": [
    {
     "ename": "ValueError",
     "evalue": "high <= 0",
     "output_type": "error",
     "traceback": [
      "\u001b[0;31m---------------------------------------------------------------------------\u001b[0m",
      "\u001b[0;31mValueError\u001b[0m                                Traceback (most recent call last)",
      "Input \u001b[0;32mIn [3]\u001b[0m, in \u001b[0;36m<cell line: 2>\u001b[0;34m()\u001b[0m\n\u001b[1;32m      1\u001b[0m time1 \u001b[38;5;241m=\u001b[39m time\u001b[38;5;241m.\u001b[39mtime()\n\u001b[0;32m----> 2\u001b[0m best_state, best_fitness, fitness_curve1 \u001b[38;5;241m=\u001b[39m \u001b[43mmlrose\u001b[49m\u001b[38;5;241;43m.\u001b[39;49m\u001b[43mrandom_hill_climb\u001b[49m\u001b[43m(\u001b[49m\u001b[43mproblem\u001b[49m\u001b[43m,\u001b[49m\u001b[43m \u001b[49m\n\u001b[1;32m      3\u001b[0m \u001b[43m                                                                   \u001b[49m\u001b[43mmax_attempts\u001b[49m\u001b[43m \u001b[49m\u001b[38;5;241;43m=\u001b[39;49m\u001b[43m \u001b[49m\u001b[38;5;241;43m500\u001b[39;49m\u001b[43m,\u001b[49m\u001b[43m \u001b[49m\n\u001b[1;32m      4\u001b[0m \u001b[43m                                                                   \u001b[49m\u001b[43mmax_iters\u001b[49m\u001b[43m \u001b[49m\u001b[38;5;241;43m=\u001b[39;49m\u001b[43m \u001b[49m\u001b[38;5;241;43m1000\u001b[39;49m\u001b[43m,\u001b[49m\n\u001b[1;32m      5\u001b[0m \u001b[43m                                                                   \u001b[49m\u001b[43mrestarts\u001b[49m\u001b[38;5;241;43m=\u001b[39;49m\u001b[38;5;241;43m3\u001b[39;49m\u001b[43m,\u001b[49m\u001b[43m \u001b[49m\n\u001b[1;32m      6\u001b[0m \u001b[38;5;66;43;03m#                                                                    init_state = init_state, \u001b[39;49;00m\n\u001b[1;32m      7\u001b[0m \u001b[43m                                                                   \u001b[49m\u001b[43mcurve\u001b[49m\u001b[38;5;241;43m=\u001b[39;49m\u001b[38;5;28;43;01mTrue\u001b[39;49;00m\u001b[43m,\u001b[49m\u001b[43m \u001b[49m\n\u001b[1;32m      8\u001b[0m \u001b[43m                                                                   \u001b[49m\u001b[43mrandom_state\u001b[49m\u001b[43m \u001b[49m\u001b[38;5;241;43m=\u001b[39;49m\u001b[43m \u001b[49m\u001b[38;5;241;43m1\u001b[39;49m\u001b[43m)\u001b[49m\n\u001b[1;32m      9\u001b[0m time2 \u001b[38;5;241m=\u001b[39m time\u001b[38;5;241m.\u001b[39mtime()\n\u001b[1;32m     10\u001b[0m \u001b[38;5;28mprint\u001b[39m(\u001b[38;5;124m'\u001b[39m\u001b[38;5;124mtime: \u001b[39m\u001b[38;5;124m'\u001b[39m, \u001b[38;5;28mround\u001b[39m(time2\u001b[38;5;241m-\u001b[39mtime1, \u001b[38;5;241m3\u001b[39m))\n",
      "File \u001b[0;32m~/miniconda3/lib/python3.9/site-packages/mlrose_hiive/algorithms/rhc.py:120\u001b[0m, in \u001b[0;36mrandom_hill_climb\u001b[0;34m(problem, max_attempts, max_iters, restarts, init_state, curve, random_state, state_fitness_callback, callback_user_info)\u001b[0m\n\u001b[1;32m    117\u001b[0m problem\u001b[38;5;241m.\u001b[39mcurrent_iteration \u001b[38;5;241m+\u001b[39m\u001b[38;5;241m=\u001b[39m \u001b[38;5;241m1\u001b[39m\n\u001b[1;32m    119\u001b[0m \u001b[38;5;66;03m# Find random neighbor and evaluate fitness\u001b[39;00m\n\u001b[0;32m--> 120\u001b[0m next_state \u001b[38;5;241m=\u001b[39m \u001b[43mproblem\u001b[49m\u001b[38;5;241;43m.\u001b[39;49m\u001b[43mrandom_neighbor\u001b[49m\u001b[43m(\u001b[49m\u001b[43m)\u001b[49m\n\u001b[1;32m    121\u001b[0m next_fitness \u001b[38;5;241m=\u001b[39m problem\u001b[38;5;241m.\u001b[39meval_fitness(next_state)\n\u001b[1;32m    123\u001b[0m \u001b[38;5;66;03m# If best neighbor is an improvement,\u001b[39;00m\n\u001b[1;32m    124\u001b[0m \u001b[38;5;66;03m# move to that state and reset attempts counter\u001b[39;00m\n",
      "File \u001b[0;32m~/miniconda3/lib/python3.9/site-packages/mlrose_hiive/opt_probs/discrete_opt.py:331\u001b[0m, in \u001b[0;36mDiscreteOpt.random_neighbor\u001b[0;34m(self)\u001b[0m\n\u001b[1;32m    329\u001b[0m     vals \u001b[38;5;241m=\u001b[39m \u001b[38;5;28mlist\u001b[39m(np\u001b[38;5;241m.\u001b[39marange(\u001b[38;5;28mself\u001b[39m\u001b[38;5;241m.\u001b[39mmax_val))\n\u001b[1;32m    330\u001b[0m     vals\u001b[38;5;241m.\u001b[39mremove(neighbor[i])\n\u001b[0;32m--> 331\u001b[0m     neighbor[i] \u001b[38;5;241m=\u001b[39m vals[\u001b[43mnp\u001b[49m\u001b[38;5;241;43m.\u001b[39;49m\u001b[43mrandom\u001b[49m\u001b[38;5;241;43m.\u001b[39;49m\u001b[43mrandint\u001b[49m\u001b[43m(\u001b[49m\u001b[38;5;241;43m0\u001b[39;49m\u001b[43m,\u001b[49m\u001b[43m \u001b[49m\u001b[38;5;28;43mself\u001b[39;49m\u001b[38;5;241;43m.\u001b[39;49m\u001b[43mmax_val\u001b[49m\u001b[43m \u001b[49m\u001b[38;5;241;43m-\u001b[39;49m\u001b[43m \u001b[49m\u001b[38;5;241;43m1\u001b[39;49m\u001b[43m)\u001b[49m]\n\u001b[1;32m    333\u001b[0m \u001b[38;5;28;01mreturn\u001b[39;00m neighbor\n",
      "File \u001b[0;32mmtrand.pyx:748\u001b[0m, in \u001b[0;36mnumpy.random.mtrand.RandomState.randint\u001b[0;34m()\u001b[0m\n",
      "File \u001b[0;32m_bounded_integers.pyx:1247\u001b[0m, in \u001b[0;36mnumpy.random._bounded_integers._rand_int64\u001b[0;34m()\u001b[0m\n",
      "\u001b[0;31mValueError\u001b[0m: high <= 0"
     ]
    }
   ],
   "source": [
    "time1 = time.time()\n",
    "best_state, best_fitness, fitness_curve1 = mlrose.random_hill_climb(problem, \n",
    "                                                                   max_attempts = 500, \n",
    "                                                                   max_iters = 1000,\n",
    "                                                                   restarts=3, \n",
    "#                                                                    init_state = init_state, \n",
    "                                                                   curve=True, \n",
    "                                                                   random_state = 1)\n",
    "time2 = time.time()\n",
    "print('time: ', round(time2-time1, 3))\n",
    "print('The best state found is: ', best_state)\n",
    "print('best_fitness', best_fitness)"
   ]
  },
  {
   "cell_type": "code",
   "execution_count": null,
   "id": "f66ccd11",
   "metadata": {},
   "outputs": [],
   "source": [
    "time1 = time.time()\n",
    "best_state, best_fitness, fitness_curve2 = mlrose.simulated_annealing(problem, \n",
    "                                                                     schedule = schedule, \n",
    "                                                                     max_attempts = 100, \n",
    "                                                                     max_iters = 1000, \n",
    "#                                                                      init_state = init_state, \n",
    "                                                                     random_state = 1, \n",
    "                                                                     curve = True)\n",
    "\n",
    "time2 = time.time()\n",
    "print('time: ', round(time2-time1, 3))\n",
    "print('The best state found is: ', best_state)\n",
    "print('best_fitness', best_fitness)"
   ]
  },
  {
   "cell_type": "code",
   "execution_count": null,
   "id": "f2348d6d",
   "metadata": {},
   "outputs": [],
   "source": [
    "time1 = time.time()\n",
    "best_state, best_fitness, fitness_curve3 = mlrose.genetic_alg(problem, \n",
    "                                                             pop_size = 10, \n",
    "                                                             mutation_prob = 0.1,\n",
    "                                                                     max_attempts = 100, \n",
    "                                                                     max_iters = 1000, \n",
    "                                                                     random_state = 1, \n",
    "                                                                     curve = True)\n",
    "\n",
    "time2 = time.time()\n",
    "print('time: ', round(time2-time1, 3))\n",
    "print('The best state found is: ', best_state)\n",
    "print('best_fitness', best_fitness)"
   ]
  },
  {
   "cell_type": "code",
   "execution_count": null,
   "id": "526f6aa1",
   "metadata": {},
   "outputs": [],
   "source": [
    "time1 = time.time()\n",
    "best_state, best_fitness, fitness_curve4 = mlrose.mimic(problem, \n",
    "                                                       pop_size = 10, \n",
    "                                                       keep_pct = 0.2,\n",
    "                                                       max_attempts = 100, \n",
    "                                                       max_iters = 1000, \n",
    "                                                       random_state = 1, \n",
    "                                                       curve = True,\n",
    "                                                       )\n",
    "\n",
    "time2 = time.time()\n",
    "print('time: ', round(time2-time1, 3))\n",
    "print('The best state found is: ', best_state)\n",
    "print('best_fitness', best_fitness)"
   ]
  },
  {
   "cell_type": "code",
   "execution_count": null,
   "id": "e7ed5696",
   "metadata": {},
   "outputs": [],
   "source": [
    "plt.plot(range(len(fitness_curve1)), fitness_curve1[:, 0], label='random hill climb')\n",
    "plt.plot(range(len(fitness_curve2)), fitness_curve2[:, 0], label='simulated annealing')\n",
    "plt.plot(range(len(fitness_curve3)), fitness_curve3[:, 0], label='genetic algorithm')\n",
    "plt.plot(range(len(fitness_curve4)), fitness_curve4[:, 0], label='mimic')\n",
    "plt.ylim([15, 30])\n",
    "plt.ylabel('Fitness')\n",
    "plt.xlabel('Iteration')\n",
    "plt.legend()"
   ]
  },
  {
   "cell_type": "code",
   "execution_count": null,
   "id": "1c54601a",
   "metadata": {},
   "outputs": [],
   "source": [
    "plt.plot(range(len(fitness_curve1)), fitness_curve1[:, 1], label='random hill climb')\n",
    "plt.plot(range(len(fitness_curve2)), fitness_curve2[:, 1], label='simulated annealing')\n",
    "plt.plot(range(len(fitness_curve3)), fitness_curve3[:, 1], label='genetic algorithm')\n",
    "plt.plot(range(len(fitness_curve4)), fitness_curve4[:, 1], label='mimic')\n",
    "# plt.ylim([15, 30])\n",
    "plt.ylabel('Function Evaluation')\n",
    "plt.xlabel('Iteration')\n",
    "plt.title('Function Evaluation (accumulative)')\n",
    "plt.legend()"
   ]
  },
  {
   "cell_type": "code",
   "execution_count": null,
   "id": "18e212bb",
   "metadata": {},
   "outputs": [],
   "source": [
    "curve1a = fitness_curve1[:-1, 1]\n",
    "curve1b = fitness_curve1[1:, 1]\n",
    "curve1 = curve1b - curve1a\n",
    "curve2a = fitness_curve2[:-1, 1]\n",
    "curve2b = fitness_curve2[1:, 1]\n",
    "curve2 = curve2b - curve2a\n",
    "curve3a = fitness_curve3[:-1, 1]\n",
    "curve3b = fitness_curve3[1:, 1]\n",
    "curve3 = curve3b - curve3a\n",
    "curve4a = fitness_curve4[:-1, 1]\n",
    "curve4b = fitness_curve4[1:, 1]\n",
    "curve4 = curve4b - curve4a\n",
    "plt.plot(range(len(curve2)), curve2, '.', label='simulated annealing')\n",
    "plt.plot(range(len(curve1)), curve1, '.', label='random hill climb')\n",
    "plt.plot(range(len(curve3)), curve3, '.', label='genetic algorithm')\n",
    "plt.plot(range(len(curve4)), curve4, '.', label='mimic')\n",
    "plt.legend()\n",
    "plt.ylabel('Function Evaluation')\n",
    "plt.xlabel('Iteration')\n",
    "plt.ylim(0)\n",
    "plt.title('Function Evaluation (per iteration)')\n",
    "# plt.ylim([0, 3])"
   ]
  },
  {
   "cell_type": "code",
   "execution_count": null,
   "id": "b370de80",
   "metadata": {},
   "outputs": [],
   "source": []
  }
 ],
 "metadata": {
  "kernelspec": {
   "display_name": "Python 3 (ipykernel)",
   "language": "python",
   "name": "python3"
  },
  "language_info": {
   "codemirror_mode": {
    "name": "ipython",
    "version": 3
   },
   "file_extension": ".py",
   "mimetype": "text/x-python",
   "name": "python",
   "nbconvert_exporter": "python",
   "pygments_lexer": "ipython3",
   "version": "3.9.12"
  }
 },
 "nbformat": 4,
 "nbformat_minor": 5
}
