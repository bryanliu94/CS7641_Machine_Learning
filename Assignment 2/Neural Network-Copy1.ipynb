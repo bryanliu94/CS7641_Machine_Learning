{
 "cells": [
  {
   "cell_type": "code",
   "execution_count": 1,
   "id": "c3600967",
   "metadata": {},
   "outputs": [],
   "source": [
    "import mlrose_hiive as mlrose\n",
    "\n",
    "# import mlrose\n",
    "import numpy as np\n",
    "\n",
    "from sklearn.datasets import load_iris\n",
    "from sklearn.model_selection import train_test_split\n",
    "from sklearn.preprocessing import MinMaxScaler, OneHotEncoder\n",
    "from sklearn.metrics import accuracy_score\n",
    "import matplotlib.pyplot as plt\n",
    "\n",
    "import pandas as pd\n",
    "import numpy as np\n",
    "import seaborn as sns\n",
    "import matplotlib.pyplot as plt\n",
    "from sklearn.model_selection import train_test_split\n",
    "from sklearn.metrics import accuracy_score \n",
    "from sklearn.preprocessing import OrdinalEncoder\n",
    "from sklearn.tree import DecisionTreeClassifier\n",
    "from sklearn.ensemble import GradientBoostingClassifier\n",
    "from sklearn import svm\n",
    "from sklearn.neural_network import MLPClassifier\n",
    "# from sklearn.metrics import RocCurveDisplay\n",
    "from sklearn.metrics import plot_roc_curve\n",
    "\n",
    "from pandas import DataFrame\n",
    "\n",
    "\n",
    "import matplotlib.pyplot as plt\n",
    "\n",
    "from sklearn.metrics import auc\n",
    "from sklearn.metrics import RocCurveDisplay\n",
    "from sklearn.model_selection import StratifiedKFold\n",
    "\n",
    "from sklearn.naive_bayes import GaussianNB\n",
    "from sklearn.svm import SVC\n",
    "from sklearn.datasets import load_digits\n",
    "from sklearn.model_selection import learning_curve\n",
    "from sklearn.model_selection import ShuffleSplit\n",
    "from sklearn.ensemble import AdaBoostClassifier\n",
    "from sklearn.model_selection import GridSearchCV\n",
    "from sklearn import datasets\n"
   ]
  },
  {
   "cell_type": "code",
   "execution_count": null,
   "id": "0d9622ad",
   "metadata": {},
   "outputs": [],
   "source": []
  },
  {
   "cell_type": "code",
   "execution_count": 55,
   "id": "1f4c9522",
   "metadata": {},
   "outputs": [],
   "source": [
    "digits = datasets.load_digits()\n",
    "\n",
    "# flatten the images\n",
    "# n_samples = len(digits.images)\n",
    "# data = digits.images.reshape((n_samples, -1))\n",
    "\n",
    "\n",
    "# Split data into 50% train and 50% test subsets\n",
    "xTrain, xTest, yTrain, yTest = train_test_split(\n",
    "    digits.data, digits.target, test_size=0.5, shuffle=False\n",
    ")"
   ]
  },
  {
   "cell_type": "code",
   "execution_count": 56,
   "id": "adc9c102",
   "metadata": {},
   "outputs": [],
   "source": [
    "one_hot = OneHotEncoder()\n",
    "\n",
    "yTrain = one_hot.fit_transform(yTrain.reshape(-1, 1)).todense()\n",
    "yTest = one_hot.transform(yTest.reshape(-1, 1)).todense()\n",
    "yTrain.shape\n",
    "\n",
    "scaler = MinMaxScaler()\n",
    "\n",
    "xTrain = scaler.fit_transform(xTrain)\n",
    "xTest = scaler.transform(xTest)"
   ]
  },
  {
   "cell_type": "code",
   "execution_count": 57,
   "id": "c177fa7c",
   "metadata": {},
   "outputs": [
    {
     "data": {
      "text/plain": [
       "0.8565072302558399"
      ]
     },
     "execution_count": 57,
     "metadata": {},
     "output_type": "execute_result"
    }
   ],
   "source": [
    "mlp_clf = MLPClassifier(hidden_layer_sizes=(20,28, 20),  max_iter=500, solver='adam', activation='relu', alpha=0.7, \n",
    "                 learning_rate_init=0.01, learning_rate='adaptive',  verbose=False, momentum=0.1, random_state=0)\n",
    "mlp_clf.fit(xTrain, yTrain)\n",
    "fitness_curve1 = mlp_clf.loss_curve_\n",
    "mlp_clf.score(xTest,yTest)\n"
   ]
  },
  {
   "cell_type": "code",
   "execution_count": 59,
   "id": "8308165e",
   "metadata": {},
   "outputs": [
    {
     "name": "stdout",
     "output_type": "stream",
     "text": [
      "0.10022271714922049\n",
      "0.09788654060066741\n"
     ]
    }
   ],
   "source": [
    "# Initialize neural network object and fit object - attempt 1\n",
    "nn_model1 = mlrose.NeuralNetwork(hidden_nodes = [20, 28, 20], activation ='relu', \n",
    "                                 algorithm ='gradient_descent', curve = True,\n",
    "                                 max_iters = 500, bias = True, is_classifier = True, \n",
    "                                 learning_rate = 0.01, early_stopping = True, \n",
    "                                 clip_max = 5, max_attempts = 100, random_state = 3)\n",
    "\n",
    "nn_model1.fit(xTrain, yTrain)\n",
    "\n",
    "y_train_pred = nn_model1.predict(xTrain)\n",
    "\n",
    "y_train_accuracy = accuracy_score(yTrain, y_train_pred)\n",
    "\n",
    "print(y_train_accuracy)\n",
    "\n",
    "y_test_pred = nn_model1.predict(xTest)\n",
    "\n",
    "y_test_accuracy = accuracy_score(yTest, y_test_pred)\n",
    "\n",
    "print(y_test_accuracy)\n",
    "\n",
    "fitness_curve1 = nn_model1.fitness_curve\n",
    "\n",
    "# print(type(fitness_curve1))\n",
    "# fitness_curve1a = fitness_curve1[:, 0]\n",
    "# fitness_curve1b = fitness_curve1[:, 1]\n",
    "# plt.plot(range(len(fitness_curve1)), fitness_curve1a)"
   ]
  },
  {
   "cell_type": "code",
   "execution_count": 48,
   "id": "58a75430",
   "metadata": {},
   "outputs": [
    {
     "name": "stdout",
     "output_type": "stream",
     "text": [
      "[[1 0 0 0 0 0 0 0 0 0]\n",
      " [1 0 0 0 0 0 0 0 0 0]\n",
      " [1 0 0 0 0 0 0 0 0 0]\n",
      " [1 0 0 0 0 0 0 0 0 0]\n",
      " [1 0 0 0 0 0 0 0 0 0]\n",
      " [1 0 0 0 0 0 0 0 0 0]\n",
      " [1 0 0 0 0 0 0 0 0 0]\n",
      " [1 0 0 0 0 0 0 0 0 0]\n",
      " [1 0 0 0 0 0 0 0 0 0]\n",
      " [1 0 0 0 0 0 0 0 0 0]]\n",
      "[[1. 0. 0. 0. 0. 0. 0. 0. 0. 0.]\n",
      " [0. 1. 0. 0. 0. 0. 0. 0. 0. 0.]\n",
      " [0. 0. 1. 0. 0. 0. 0. 0. 0. 0.]\n",
      " [0. 0. 0. 1. 0. 0. 0. 0. 0. 0.]\n",
      " [0. 0. 0. 0. 1. 0. 0. 0. 0. 0.]\n",
      " [0. 0. 0. 0. 0. 1. 0. 0. 0. 0.]\n",
      " [0. 0. 0. 0. 0. 0. 1. 0. 0. 0.]\n",
      " [0. 0. 0. 0. 0. 0. 0. 1. 0. 0.]\n",
      " [0. 0. 0. 0. 0. 0. 0. 0. 1. 0.]\n",
      " [0. 0. 0. 0. 0. 0. 0. 0. 0. 1.]]\n",
      "(898, 10)\n",
      "(898, 10)\n"
     ]
    },
    {
     "data": {
      "text/plain": [
       "0.10022271714922049"
      ]
     },
     "execution_count": 48,
     "metadata": {},
     "output_type": "execute_result"
    }
   ],
   "source": [
    "a = np.argmax(y_train_pred, axis=1)\n",
    "b = np.argmax(yTrain, axis=1)\n",
    "print(y_train_pred[:10])\n",
    "print(yTrain[:10])\n",
    "print(y_train_pred.shape)\n",
    "print(yTrain.shape)\n",
    "\n",
    "accuracy_score(a, b)"
   ]
  },
  {
   "cell_type": "code",
   "execution_count": 32,
   "id": "2ee87eb9",
   "metadata": {},
   "outputs": [
    {
     "name": "stdout",
     "output_type": "stream",
     "text": [
      "0.08240534521158129\n",
      "0.08565072302558398\n"
     ]
    }
   ],
   "source": [
    "nn_model2 = mlrose.NeuralNetwork(hidden_nodes = [20, 28, 20], activation ='relu', \n",
    "                                 algorithm ='random_hill_climb', curve = True,\n",
    "                                 max_iters = 1000, bias = True, is_classifier = True, \n",
    "                                 learning_rate = 0.001, early_stopping = True, restarts = 0,\n",
    "                                 clip_max = 5, max_attempts = 100, random_state = 1)\n",
    "\n",
    "nn_model2.fit(xTrain, yTrain)\n",
    "\n",
    "y_train_pred = nn_model2.predict(xTrain)\n",
    "\n",
    "y_train_accuracy = accuracy_score(yTrain, y_train_pred)\n",
    "\n",
    "print(y_train_accuracy)\n",
    "\n",
    "y_test_pred = nn_model2.predict(xTest)\n",
    "\n",
    "y_test_accuracy = accuracy_score(yTest, y_test_pred)\n",
    "\n",
    "print(y_test_accuracy)\n",
    "\n",
    "# fitness_curve2 = nn_model2.fitness_curve\n",
    "# fitness_curve2a = fitness_curve2[:, 0]\n",
    "# fitness_curve2b = fitness_curve2[:, 1]\n",
    "# plt.plot(range(len(fitness_curve2)), fitness_curve2a)"
   ]
  },
  {
   "cell_type": "code",
   "execution_count": 34,
   "id": "6d5bbf83",
   "metadata": {},
   "outputs": [
    {
     "name": "stdout",
     "output_type": "stream",
     "text": [
      "0.08129175946547884\n",
      "0.08565072302558398\n"
     ]
    }
   ],
   "source": [
    "nn_model3 = mlrose.NeuralNetwork(hidden_nodes = [20, 28, 20], activation ='relu', \n",
    "                                 algorithm ='simulated_annealing', curve = True,\n",
    "                                 max_iters = 1000, bias = True, is_classifier = True, \n",
    "                                 learning_rate = 0.001, early_stopping = True, restarts = 0,\n",
    "                                 clip_max = 5, max_attempts = 100, random_state = 1)\n",
    "\n",
    "nn_model3.fit(xTrain, yTrain)\n",
    "\n",
    "y_train_pred = nn_model3.predict(xTrain)\n",
    "\n",
    "y_train_accuracy = accuracy_score(yTrain, y_train_pred)\n",
    "\n",
    "print(y_train_accuracy)\n",
    "\n",
    "y_test_pred = nn_model3.predict(xTest)\n",
    "\n",
    "y_test_accuracy = accuracy_score(yTest, y_test_pred)\n",
    "\n",
    "print(y_test_accuracy)\n",
    "\n",
    "fitness_curve3 = nn_model3.fitness_curve\n",
    "fitness_curve3a = fitness_curve3[:, 0]\n",
    "fitness_curve3b = fitness_curve3[:, 1]\n",
    "# plt.plot(range(len(fitness_curve3)), fitness_curve3a)"
   ]
  },
  {
   "cell_type": "code",
   "execution_count": 35,
   "id": "0c6a0cf3",
   "metadata": {},
   "outputs": [
    {
     "ename": "KeyboardInterrupt",
     "evalue": "",
     "output_type": "error",
     "traceback": [
      "\u001b[0;31m---------------------------------------------------------------------------\u001b[0m",
      "\u001b[0;31mKeyboardInterrupt\u001b[0m                         Traceback (most recent call last)",
      "Input \u001b[0;32mIn [35]\u001b[0m, in \u001b[0;36m<cell line: 7>\u001b[0;34m()\u001b[0m\n\u001b[1;32m      1\u001b[0m nn_model4 \u001b[38;5;241m=\u001b[39m mlrose\u001b[38;5;241m.\u001b[39mNeuralNetwork(hidden_nodes \u001b[38;5;241m=\u001b[39m [\u001b[38;5;241m20\u001b[39m, \u001b[38;5;241m28\u001b[39m, \u001b[38;5;241m20\u001b[39m], activation \u001b[38;5;241m=\u001b[39m\u001b[38;5;124m'\u001b[39m\u001b[38;5;124mrelu\u001b[39m\u001b[38;5;124m'\u001b[39m, \n\u001b[1;32m      2\u001b[0m                                  algorithm \u001b[38;5;241m=\u001b[39m\u001b[38;5;124m'\u001b[39m\u001b[38;5;124mgenetic_alg\u001b[39m\u001b[38;5;124m'\u001b[39m, curve \u001b[38;5;241m=\u001b[39m \u001b[38;5;28;01mTrue\u001b[39;00m,\n\u001b[1;32m      3\u001b[0m                                  max_iters \u001b[38;5;241m=\u001b[39m \u001b[38;5;241m1000\u001b[39m, bias \u001b[38;5;241m=\u001b[39m \u001b[38;5;28;01mTrue\u001b[39;00m, is_classifier \u001b[38;5;241m=\u001b[39m \u001b[38;5;28;01mTrue\u001b[39;00m, \n\u001b[1;32m      4\u001b[0m                                  learning_rate \u001b[38;5;241m=\u001b[39m \u001b[38;5;241m0.001\u001b[39m, early_stopping \u001b[38;5;241m=\u001b[39m \u001b[38;5;28;01mTrue\u001b[39;00m, restarts \u001b[38;5;241m=\u001b[39m \u001b[38;5;241m0\u001b[39m,\n\u001b[1;32m      5\u001b[0m                                  clip_max \u001b[38;5;241m=\u001b[39m \u001b[38;5;241m5\u001b[39m, max_attempts \u001b[38;5;241m=\u001b[39m \u001b[38;5;241m100\u001b[39m, random_state \u001b[38;5;241m=\u001b[39m \u001b[38;5;241m1\u001b[39m)\n\u001b[0;32m----> 7\u001b[0m \u001b[43mnn_model4\u001b[49m\u001b[38;5;241;43m.\u001b[39;49m\u001b[43mfit\u001b[49m\u001b[43m(\u001b[49m\u001b[43mxTrain\u001b[49m\u001b[43m,\u001b[49m\u001b[43m \u001b[49m\u001b[43myTrain\u001b[49m\u001b[43m)\u001b[49m\n\u001b[1;32m      9\u001b[0m y_train_pred \u001b[38;5;241m=\u001b[39m nn_model4\u001b[38;5;241m.\u001b[39mpredict(xTrain)\n\u001b[1;32m     11\u001b[0m y_train_accuracy \u001b[38;5;241m=\u001b[39m accuracy_score(yTrain, y_train_pred)\n",
      "File \u001b[0;32m~/miniconda3/lib/python3.9/site-packages/mlrose_hiive/neural/_nn_core.py:158\u001b[0m, in \u001b[0;36m_NNCore.fit\u001b[0;34m(self, X, y, init_weights)\u001b[0m\n\u001b[1;32m    156\u001b[0m     fitness_curve, fitted_weights, loss \u001b[38;5;241m=\u001b[39m \u001b[38;5;28mself\u001b[39m\u001b[38;5;241m.\u001b[39m_run_with_sa(init_weights, num_nodes, problem)\n\u001b[1;32m    157\u001b[0m \u001b[38;5;28;01melif\u001b[39;00m \u001b[38;5;28mself\u001b[39m\u001b[38;5;241m.\u001b[39malgorithm \u001b[38;5;241m==\u001b[39m \u001b[38;5;124m'\u001b[39m\u001b[38;5;124mgenetic_alg\u001b[39m\u001b[38;5;124m'\u001b[39m:\n\u001b[0;32m--> 158\u001b[0m     fitness_curve, fitted_weights, loss \u001b[38;5;241m=\u001b[39m \u001b[38;5;28;43mself\u001b[39;49m\u001b[38;5;241;43m.\u001b[39;49m\u001b[43m_run_with_ga\u001b[49m\u001b[43m(\u001b[49m\u001b[43mproblem\u001b[49m\u001b[43m)\u001b[49m\n\u001b[1;32m    159\u001b[0m \u001b[38;5;28;01melse\u001b[39;00m:  \u001b[38;5;66;03m# Gradient descent case\u001b[39;00m\n\u001b[1;32m    160\u001b[0m     fitness_curve, fitted_weights, loss \u001b[38;5;241m=\u001b[39m \u001b[38;5;28mself\u001b[39m\u001b[38;5;241m.\u001b[39m_run_with_gd(init_weights, num_nodes, problem)\n",
      "File \u001b[0;32m~/miniconda3/lib/python3.9/site-packages/mlrose_hiive/neural/_nn_core.py:189\u001b[0m, in \u001b[0;36m_NNCore._run_with_ga\u001b[0;34m(self, problem)\u001b[0m\n\u001b[1;32m    187\u001b[0m fitness_curve \u001b[38;5;241m=\u001b[39m []\n\u001b[1;32m    188\u001b[0m \u001b[38;5;28;01mif\u001b[39;00m \u001b[38;5;28mself\u001b[39m\u001b[38;5;241m.\u001b[39mcurve:\n\u001b[0;32m--> 189\u001b[0m     fitted_weights, loss, fitness_curve \u001b[38;5;241m=\u001b[39m \u001b[43mgenetic_alg\u001b[49m\u001b[43m(\u001b[49m\n\u001b[1;32m    190\u001b[0m \u001b[43m        \u001b[49m\u001b[43mproblem\u001b[49m\u001b[43m,\u001b[49m\n\u001b[1;32m    191\u001b[0m \u001b[43m        \u001b[49m\u001b[43mpop_size\u001b[49m\u001b[38;5;241;43m=\u001b[39;49m\u001b[38;5;28;43mself\u001b[39;49m\u001b[38;5;241;43m.\u001b[39;49m\u001b[43mpop_size\u001b[49m\u001b[43m,\u001b[49m\n\u001b[1;32m    192\u001b[0m \u001b[43m        \u001b[49m\u001b[43mmutation_prob\u001b[49m\u001b[38;5;241;43m=\u001b[39;49m\u001b[38;5;28;43mself\u001b[39;49m\u001b[38;5;241;43m.\u001b[39;49m\u001b[43mmutation_prob\u001b[49m\u001b[43m,\u001b[49m\n\u001b[1;32m    193\u001b[0m \u001b[43m        \u001b[49m\u001b[43mmax_attempts\u001b[49m\u001b[38;5;241;43m=\u001b[39;49m\u001b[38;5;28;43mself\u001b[39;49m\u001b[38;5;241;43m.\u001b[39;49m\u001b[43mmax_attempts\u001b[49m\u001b[43m \u001b[49m\u001b[38;5;28;43;01mif\u001b[39;49;00m\u001b[43m \u001b[49m\u001b[38;5;28;43mself\u001b[39;49m\u001b[38;5;241;43m.\u001b[39;49m\u001b[43mearly_stopping\u001b[49m\u001b[43m \u001b[49m\u001b[38;5;28;43;01melse\u001b[39;49;00m\n\u001b[1;32m    194\u001b[0m \u001b[43m        \u001b[49m\u001b[38;5;28;43mself\u001b[39;49m\u001b[38;5;241;43m.\u001b[39;49m\u001b[43mmax_iters\u001b[49m\u001b[43m,\u001b[49m\n\u001b[1;32m    195\u001b[0m \u001b[43m        \u001b[49m\u001b[43mmax_iters\u001b[49m\u001b[38;5;241;43m=\u001b[39;49m\u001b[38;5;28;43mself\u001b[39;49m\u001b[38;5;241;43m.\u001b[39;49m\u001b[43mmax_iters\u001b[49m\u001b[43m,\u001b[49m\n\u001b[1;32m    196\u001b[0m \u001b[43m        \u001b[49m\u001b[43mcurve\u001b[49m\u001b[38;5;241;43m=\u001b[39;49m\u001b[38;5;28;43mself\u001b[39;49m\u001b[38;5;241;43m.\u001b[39;49m\u001b[43mcurve\u001b[49m\u001b[43m)\u001b[49m\n\u001b[1;32m    197\u001b[0m \u001b[38;5;28;01melse\u001b[39;00m:\n\u001b[1;32m    198\u001b[0m     fitted_weights, loss, _ \u001b[38;5;241m=\u001b[39m genetic_alg(\n\u001b[1;32m    199\u001b[0m         problem,\n\u001b[1;32m    200\u001b[0m         pop_size\u001b[38;5;241m=\u001b[39m\u001b[38;5;28mself\u001b[39m\u001b[38;5;241m.\u001b[39mpop_size, mutation_prob\u001b[38;5;241m=\u001b[39m\u001b[38;5;28mself\u001b[39m\u001b[38;5;241m.\u001b[39mmutation_prob,\n\u001b[0;32m   (...)\u001b[0m\n\u001b[1;32m    203\u001b[0m         max_iters\u001b[38;5;241m=\u001b[39m\u001b[38;5;28mself\u001b[39m\u001b[38;5;241m.\u001b[39mmax_iters,\n\u001b[1;32m    204\u001b[0m         curve\u001b[38;5;241m=\u001b[39m\u001b[38;5;28mself\u001b[39m\u001b[38;5;241m.\u001b[39mcurve)\n",
      "File \u001b[0;32m~/miniconda3/lib/python3.9/site-packages/mlrose_hiive/algorithms/ga.py:210\u001b[0m, in \u001b[0;36mgenetic_alg\u001b[0;34m(problem, pop_size, pop_breed_percent, elite_dreg_ratio, minimum_elites, minimum_dregs, mutation_prob, max_attempts, max_iters, curve, random_state, state_fitness_callback, callback_user_info, hamming_factor, hamming_decay_factor)\u001b[0m\n\u001b[1;32m    207\u001b[0m         next_gen\u001b[38;5;241m.\u001b[39mextend([p[\u001b[38;5;241m0\u001b[39m] \u001b[38;5;28;01mfor\u001b[39;00m p \u001b[38;5;129;01min\u001b[39;00m worst_parents])\n\u001b[1;32m    209\u001b[0m next_gen \u001b[38;5;241m=\u001b[39m np\u001b[38;5;241m.\u001b[39marray(next_gen[:pop_size])\n\u001b[0;32m--> 210\u001b[0m \u001b[43mproblem\u001b[49m\u001b[38;5;241;43m.\u001b[39;49m\u001b[43mset_population\u001b[49m\u001b[43m(\u001b[49m\u001b[43mnext_gen\u001b[49m\u001b[43m)\u001b[49m\n\u001b[1;32m    212\u001b[0m next_state \u001b[38;5;241m=\u001b[39m problem\u001b[38;5;241m.\u001b[39mbest_child()\n\u001b[1;32m    213\u001b[0m next_fitness \u001b[38;5;241m=\u001b[39m problem\u001b[38;5;241m.\u001b[39meval_fitness(next_state)\n",
      "File \u001b[0;32m~/miniconda3/lib/python3.9/site-packages/mlrose_hiive/opt_probs/_opt_prob.py:214\u001b[0m, in \u001b[0;36m_OptProb.set_population\u001b[0;34m(self, new_population)\u001b[0m\n\u001b[1;32m    205\u001b[0m \u001b[38;5;124;03m\"\"\" Change the current population to a specified new population and get\u001b[39;00m\n\u001b[1;32m    206\u001b[0m \u001b[38;5;124;03mthe fitness of all members.\u001b[39;00m\n\u001b[1;32m    207\u001b[0m \n\u001b[0;32m   (...)\u001b[0m\n\u001b[1;32m    211\u001b[0m \u001b[38;5;124;03m    Numpy array containing new population.\u001b[39;00m\n\u001b[1;32m    212\u001b[0m \u001b[38;5;124;03m\"\"\"\u001b[39;00m\n\u001b[1;32m    213\u001b[0m \u001b[38;5;28mself\u001b[39m\u001b[38;5;241m.\u001b[39mpopulation \u001b[38;5;241m=\u001b[39m new_population\n\u001b[0;32m--> 214\u001b[0m \u001b[38;5;28;43mself\u001b[39;49m\u001b[38;5;241;43m.\u001b[39;49m\u001b[43mevaluate_population_fitness\u001b[49m\u001b[43m(\u001b[49m\u001b[43m)\u001b[49m\n",
      "File \u001b[0;32m~/miniconda3/lib/python3.9/site-packages/mlrose_hiive/opt_probs/_opt_prob.py:221\u001b[0m, in \u001b[0;36m_OptProb.evaluate_population_fitness\u001b[0;34m(self)\u001b[0m\n\u001b[1;32m    218\u001b[0m pop_fitness \u001b[38;5;241m=\u001b[39m []\n\u001b[1;32m    220\u001b[0m \u001b[38;5;28;01mfor\u001b[39;00m i \u001b[38;5;129;01min\u001b[39;00m \u001b[38;5;28mrange\u001b[39m(\u001b[38;5;28mlen\u001b[39m(\u001b[38;5;28mself\u001b[39m\u001b[38;5;241m.\u001b[39mpopulation)):\n\u001b[0;32m--> 221\u001b[0m     fitness \u001b[38;5;241m=\u001b[39m \u001b[38;5;28;43mself\u001b[39;49m\u001b[38;5;241;43m.\u001b[39;49m\u001b[43meval_fitness\u001b[49m\u001b[43m(\u001b[49m\u001b[38;5;28;43mself\u001b[39;49m\u001b[38;5;241;43m.\u001b[39;49m\u001b[43mpopulation\u001b[49m\u001b[43m[\u001b[49m\u001b[43mi\u001b[49m\u001b[43m]\u001b[49m\u001b[43m)\u001b[49m\n\u001b[1;32m    222\u001b[0m     pop_fitness\u001b[38;5;241m.\u001b[39mappend(fitness)\n\u001b[1;32m    224\u001b[0m \u001b[38;5;28mself\u001b[39m\u001b[38;5;241m.\u001b[39mpop_fitness \u001b[38;5;241m=\u001b[39m np\u001b[38;5;241m.\u001b[39marray(pop_fitness)\n",
      "File \u001b[0;32m~/miniconda3/lib/python3.9/site-packages/mlrose_hiive/opt_probs/_opt_prob.py:98\u001b[0m, in \u001b[0;36m_OptProb.eval_fitness\u001b[0;34m(self, state)\u001b[0m\n\u001b[1;32m     95\u001b[0m \u001b[38;5;28;01mif\u001b[39;00m \u001b[38;5;28mlen\u001b[39m(state) \u001b[38;5;241m!=\u001b[39m \u001b[38;5;28mself\u001b[39m\u001b[38;5;241m.\u001b[39mlength:\n\u001b[1;32m     96\u001b[0m     \u001b[38;5;28;01mraise\u001b[39;00m \u001b[38;5;167;01mException\u001b[39;00m(\u001b[38;5;124m\"\u001b[39m\u001b[38;5;124mstate length must match problem length\u001b[39m\u001b[38;5;124m\"\u001b[39m)\n\u001b[0;32m---> 98\u001b[0m fitness \u001b[38;5;241m=\u001b[39m \u001b[38;5;28mself\u001b[39m\u001b[38;5;241m.\u001b[39mmaximize\u001b[38;5;241m*\u001b[39m\u001b[38;5;28;43mself\u001b[39;49m\u001b[38;5;241;43m.\u001b[39;49m\u001b[43mfitness_fn\u001b[49m\u001b[38;5;241;43m.\u001b[39;49m\u001b[43mevaluate\u001b[49m\u001b[43m(\u001b[49m\u001b[43mstate\u001b[49m\u001b[43m)\u001b[49m\n\u001b[1;32m     99\u001b[0m \u001b[38;5;66;03m# increment fevals for the current iteration\u001b[39;00m\n\u001b[1;32m    100\u001b[0m \u001b[38;5;28mself\u001b[39m\u001b[38;5;241m.\u001b[39mfitness_evaluations \u001b[38;5;241m+\u001b[39m\u001b[38;5;241m=\u001b[39m \u001b[38;5;241m1\u001b[39m\n",
      "File \u001b[0;32m~/miniconda3/lib/python3.9/site-packages/mlrose_hiive/neural/fitness/network_weights.py:142\u001b[0m, in \u001b[0;36mNetworkWeights.evaluate\u001b[0;34m(self, state)\u001b[0m\n\u001b[1;32m    140\u001b[0m \u001b[38;5;66;03m# Transform outputs to get inputs for next layer (or final preds)\u001b[39;00m\n\u001b[1;32m    141\u001b[0m \u001b[38;5;28;01mif\u001b[39;00m i \u001b[38;5;241m<\u001b[39m \u001b[38;5;28mlen\u001b[39m(\u001b[38;5;28mself\u001b[39m\u001b[38;5;241m.\u001b[39mweights) \u001b[38;5;241m-\u001b[39m \u001b[38;5;241m1\u001b[39m:\n\u001b[0;32m--> 142\u001b[0m     inputs \u001b[38;5;241m=\u001b[39m \u001b[38;5;28;43mself\u001b[39;49m\u001b[38;5;241;43m.\u001b[39;49m\u001b[43mactivation\u001b[49m\u001b[43m(\u001b[49m\u001b[43moutputs\u001b[49m\u001b[43m)\u001b[49m\n\u001b[1;32m    143\u001b[0m \u001b[38;5;28;01melse\u001b[39;00m:\n\u001b[1;32m    144\u001b[0m     \u001b[38;5;28mself\u001b[39m\u001b[38;5;241m.\u001b[39my_pred \u001b[38;5;241m=\u001b[39m \u001b[38;5;28mself\u001b[39m\u001b[38;5;241m.\u001b[39moutput_activation(outputs)\n",
      "File \u001b[0;32m~/miniconda3/lib/python3.9/site-packages/mlrose_hiive/neural/activation/relu.py:32\u001b[0m, in \u001b[0;36mrelu\u001b[0;34m(x, deriv)\u001b[0m\n\u001b[1;32m     15\u001b[0m \u001b[38;5;124;03m\"\"\"ReLU activation function\u001b[39;00m\n\u001b[1;32m     16\u001b[0m \n\u001b[1;32m     17\u001b[0m \u001b[38;5;124;03mParameters\u001b[39;00m\n\u001b[0;32m   (...)\u001b[0m\n\u001b[1;32m     29\u001b[0m \u001b[38;5;124;03m    Value of activation function at x\u001b[39;00m\n\u001b[1;32m     30\u001b[0m \u001b[38;5;124;03m\"\"\"\u001b[39;00m\n\u001b[1;32m     31\u001b[0m fx \u001b[38;5;241m=\u001b[39m np\u001b[38;5;241m.\u001b[39mcopy(x)\n\u001b[0;32m---> 32\u001b[0m fx[\u001b[43mnp\u001b[49m\u001b[38;5;241;43m.\u001b[39;49m\u001b[43mwhere\u001b[49m\u001b[43m(\u001b[49m\u001b[43mfx\u001b[49m\u001b[43m \u001b[49m\u001b[38;5;241;43m<\u001b[39;49m\u001b[43m \u001b[49m\u001b[38;5;241;43m0\u001b[39;49m\u001b[43m)\u001b[49m] \u001b[38;5;241m=\u001b[39m \u001b[38;5;241m0\u001b[39m\n\u001b[1;32m     34\u001b[0m \u001b[38;5;28;01mif\u001b[39;00m deriv:\n\u001b[1;32m     35\u001b[0m     fx[np\u001b[38;5;241m.\u001b[39mwhere(fx \u001b[38;5;241m>\u001b[39m \u001b[38;5;241m0\u001b[39m)] \u001b[38;5;241m=\u001b[39m \u001b[38;5;241m1\u001b[39m\n",
      "File \u001b[0;32m<__array_function__ internals>:180\u001b[0m, in \u001b[0;36mwhere\u001b[0;34m(*args, **kwargs)\u001b[0m\n",
      "\u001b[0;31mKeyboardInterrupt\u001b[0m: "
     ]
    }
   ],
   "source": [
    "nn_model4 = mlrose.NeuralNetwork(hidden_nodes = [20, 28, 20], activation ='relu', \n",
    "                                 algorithm ='genetic_alg', curve = True,\n",
    "                                 max_iters = 1000, bias = True, is_classifier = True, \n",
    "                                 learning_rate = 0.001, early_stopping = True, restarts = 0,\n",
    "                                 clip_max = 5, max_attempts = 100, random_state = 1)\n",
    "\n",
    "nn_model4.fit(xTrain, yTrain)\n",
    "\n",
    "y_train_pred = nn_model4.predict(xTrain)\n",
    "\n",
    "y_train_accuracy = accuracy_score(yTrain, y_train_pred)\n",
    "\n",
    "print(y_train_accuracy)\n",
    "\n",
    "y_test_pred = nn_model4.predict(xTest)\n",
    "\n",
    "y_test_accuracy = accuracy_score(yTest, y_test_pred)\n",
    "\n",
    "print(y_test_accuracy)\n",
    "\n",
    "fitness_curve4 = nn_model4.fitness_curve\n",
    "fitness_curve4a = fitness_curve4[:, 0]\n",
    "fitness_curve4b = fitness_curve4[:, 1]\n",
    "# plt.plot(range(len(fitness_curve4)), fitness_curve4a)"
   ]
  },
  {
   "cell_type": "code",
   "execution_count": null,
   "id": "652d50bc",
   "metadata": {},
   "outputs": [],
   "source": [
    "plt.plot(range(len(fitness_curve1)), -fitness_curve1[:], label='gradient_descent')\n",
    "plt.plot(range(len(fitness_curve2)), fitness_curve2a, label='random_hill_climb')\n",
    "plt.plot(range(len(fitness_curve3)), fitness_curve3a, label='simulated_annealing')\n",
    "plt.plot(range(len(fitness_curve4)), fitness_curve4a, label='genetic_alg')\n",
    "# plt.xlim([0, 100])\n",
    "# plt.ylim([0, 10])\n"
   ]
  },
  {
   "cell_type": "code",
   "execution_count": null,
   "id": "69a91fc1",
   "metadata": {},
   "outputs": [],
   "source": [
    "# plt.plot(range(len(fitness_curve1)), fitness_curve1, label='gradient_descent')\n",
    "plt.plot(range(len(fitness_curve2)), fitness_curve2b, label='random_hill_climb')\n",
    "plt.plot(range(len(fitness_curve3)), fitness_curve3b, label='simulated_annealing')\n",
    "plt.plot(range(len(fitness_curve4)), fitness_curve4b, label='genetic_alg')"
   ]
  },
  {
   "cell_type": "code",
   "execution_count": null,
   "id": "09fb699d",
   "metadata": {},
   "outputs": [],
   "source": [
    "fitness_curve1[:10]"
   ]
  },
  {
   "cell_type": "code",
   "execution_count": 66,
   "id": "6e7776b4",
   "metadata": {},
   "outputs": [
    {
     "name": "stdout",
     "output_type": "stream",
     "text": [
      "0.9958246346555324\n",
      "0.9444444444444444\n"
     ]
    }
   ],
   "source": [
    "data = datasets.load_digits()\n",
    "X_train, X_test, y_train, y_test = train_test_split(data.data, data.target, test_size = 0.2, \n",
    "                                                    random_state = 3)\n",
    "scaler = MinMaxScaler()\n",
    "\n",
    "X_train_scaled = scaler.fit_transform(X_train)\n",
    "X_test_scaled = scaler.transform(X_test)\n",
    "one_hot = OneHotEncoder()\n",
    "\n",
    "y_train_hot = one_hot.fit_transform(y_train.reshape(-1, 1)).todense()\n",
    "y_test_hot = one_hot.transform(y_test.reshape(-1, 1)).todense()\n",
    "\n",
    "nn_model1 = mlrose.NeuralNetwork(hidden_nodes = [20, 28, 20], activation ='relu', \n",
    "                                 algorithm ='gradient_descent', curve = True,\n",
    "                                 max_iters = 1000, bias = True, is_classifier = True, \n",
    "                                 learning_rate = 0.0001, early_stopping = True, \n",
    "                                 clip_max = 5, max_attempts = 100, random_state = 3)\n",
    "\n",
    "nn_model1.fit(X_train_scaled, y_train_hot)\n",
    "y_train_pred = nn_model1.predict(X_train_scaled)\n",
    "\n",
    "y_train_accuracy = accuracy_score(y_train_hot, y_train_pred)\n",
    "\n",
    "print(y_train_accuracy)\n",
    "\n",
    "y_test_pred = nn_model1.predict(X_test_scaled)\n",
    "\n",
    "y_test_accuracy = accuracy_score(y_test_hot, y_test_pred)\n",
    "\n",
    "print(y_test_accuracy)\n",
    "\n",
    "fitness_curve1 = nn_model1.fitness_curve\n",
    "# fitness_curve1a = fitness_curve1[:, 0]\n",
    "# fitness_curve1b = fitness_curve1[:, 1]"
   ]
  },
  {
   "cell_type": "code",
   "execution_count": 72,
   "id": "11ca69d5",
   "metadata": {},
   "outputs": [
    {
     "name": "stdout",
     "output_type": "stream",
     "text": [
      "0.9867780097425192\n",
      "0.9361111111111111\n"
     ]
    }
   ],
   "source": [
    "mlp_clf = MLPClassifier(hidden_layer_sizes=(20,28, 20),  max_iter=500, solver='sgd', activation='relu', alpha=0.7, \n",
    "                 learning_rate_init=0.1, learning_rate='adaptive',  verbose=False, momentum=0.1, random_state=0)\n",
    "mlp_clf.fit(X_train_scaled, y_train_hot)\n",
    "fitness_curve1 = mlp_clf.loss_curve_\n",
    "print(mlp_clf.score(X_train_scaled,y_train_hot))\n",
    "print(mlp_clf.score(X_test_scaled,y_test_hot))\n"
   ]
  },
  {
   "cell_type": "code",
   "execution_count": 86,
   "id": "078dccbb",
   "metadata": {},
   "outputs": [
    {
     "name": "stdout",
     "output_type": "stream",
     "text": [
      "0.08072372999304106\n",
      "0.06944444444444445\n"
     ]
    }
   ],
   "source": [
    "nn_model2 = mlrose.NeuralNetwork(hidden_nodes = [20, 28, 20], activation ='relu', \n",
    "                                 algorithm ='random_hill_climb', curve = True,\n",
    "                                 max_iters = 1000, bias = True, is_classifier = True, \n",
    "                                 learning_rate = 0.01, early_stopping = True, \n",
    "                                 clip_max = 5, max_attempts = 1000, random_state = 3)\n",
    "\n",
    "nn_model2.fit(X_train_scaled, y_train_hot)\n",
    "y_train_pred = nn_model2.predict(X_train_scaled)\n",
    "\n",
    "y_train_accuracy = accuracy_score(y_train_hot, y_train_pred)\n",
    "\n",
    "print(y_train_accuracy)\n",
    "\n",
    "y_test_pred = nn_model2.predict(X_test_scaled)\n",
    "\n",
    "y_test_accuracy = accuracy_score(y_test_hot, y_test_pred)\n",
    "\n",
    "print(y_test_accuracy)\n",
    "\n",
    "fitness_curve2 = nn_model2.fitness_curve\n",
    "fitness_curve2a = fitness_curve2[:, 0]\n",
    "fitness_curve2b = fitness_curve2[:, 1]"
   ]
  },
  {
   "cell_type": "code",
   "execution_count": 85,
   "id": "90718524",
   "metadata": {},
   "outputs": [
    {
     "name": "stdout",
     "output_type": "stream",
     "text": [
      "0.0779401530967293\n",
      "0.06944444444444445\n"
     ]
    }
   ],
   "source": [
    "nn_model3 = mlrose.NeuralNetwork(hidden_nodes = [20, 28, 20], activation ='relu', \n",
    "                                 algorithm ='simulated_annealing', curve = True,\n",
    "                                 max_iters = 1000, bias = True, is_classifier = True, \n",
    "                                 learning_rate = 0.0001, early_stopping = True, \n",
    "                                 clip_max = 5, max_attempts = 1000, random_state = 3)\n",
    "\n",
    "nn_model3.fit(X_train_scaled, y_train_hot)\n",
    "y_train_pred = nn_model3.predict(X_train_scaled)\n",
    "\n",
    "y_train_accuracy = accuracy_score(y_train_hot, y_train_pred)\n",
    "\n",
    "print(y_train_accuracy)\n",
    "\n",
    "y_test_pred = nn_model3.predict(X_test_scaled)\n",
    "\n",
    "y_test_accuracy = accuracy_score(y_test_hot, y_test_pred)\n",
    "\n",
    "print(y_test_accuracy)\n",
    "\n",
    "fitness_curve3 = nn_model3.fitness_curve\n",
    "fitness_curve3a = fitness_curve3[:, 0]\n",
    "fitness_curve3b = fitness_curve3[:, 1]"
   ]
  },
  {
   "cell_type": "code",
   "execution_count": 79,
   "id": "cd4e0e8f",
   "metadata": {},
   "outputs": [
    {
     "name": "stdout",
     "output_type": "stream",
     "text": [
      "0.2874043145441893\n",
      "0.28888888888888886\n"
     ]
    }
   ],
   "source": [
    "nn_model4 = mlrose.NeuralNetwork(hidden_nodes = [20, 28, 20], activation ='relu', \n",
    "                                 algorithm ='genetic_alg', curve = True,\n",
    "                                 max_iters = 1000, bias = True, is_classifier = True, \n",
    "                                 learning_rate = 0.001, early_stopping = True, restarts = 0,\n",
    "                                 clip_max = 5, max_attempts = 100, random_state = 1)\n",
    "\n",
    "nn_model4.fit(X_train_scaled, y_train_hot)\n",
    "\n",
    "y_train_pred = nn_model4.predict(X_train_scaled)\n",
    "\n",
    "y_train_accuracy = accuracy_score(y_train_hot, y_train_pred)\n",
    "\n",
    "print(y_train_accuracy)\n",
    "\n",
    "y_test_pred = nn_model4.predict(X_test_scaled)\n",
    "\n",
    "y_test_accuracy = accuracy_score(y_test_hot, y_test_pred)\n",
    "\n",
    "print(y_test_accuracy)\n",
    "\n",
    "fitness_curve4 = nn_model4.fitness_curve\n",
    "fitness_curve4a = fitness_curve4[:, 0]\n",
    "fitness_curve4b = fitness_curve4[:, 1]\n",
    "# plt.plot(range(len(fitness_curve4)), fitness_curve4a)"
   ]
  },
  {
   "cell_type": "code",
   "execution_count": 84,
   "id": "b44219a3",
   "metadata": {},
   "outputs": [
    {
     "data": {
      "text/plain": [
       "<matplotlib.legend.Legend at 0x7fafc103d1c0>"
      ]
     },
     "execution_count": 84,
     "metadata": {},
     "output_type": "execute_result"
    },
    {
     "data": {
      "image/png": "[encoded data removed]",
      "text/plain": [
       "<Figure size 432x288 with 1 Axes>"
      ]
     },
     "metadata": {
      "needs_background": "light"
     },
     "output_type": "display_data"
    }
   ],
   "source": [
    "plt.plot(range(len(fitness_curve1)), fitness_curve1, label='gradient_descent')\n",
    "plt.plot(range(len(fitness_curve2)), fitness_curve2a, label='random_hill_climb')\n",
    "plt.plot(range(len(fitness_curve3)), fitness_curve3a, label='simulated_annealing')\n",
    "plt.plot(range(len(fitness_curve4)), fitness_curve4a, label='genetic_alg')\n",
    "plt.legend()\n",
    "# plt.xlim([0, 100])\n",
    "# plt.ylim([0, 10])"
   ]
  },
  {
   "cell_type": "code",
   "execution_count": null,
   "id": "178b40da",
   "metadata": {},
   "outputs": [],
   "source": []
  }
 ],
 "metadata": {
  "kernelspec": {
   "display_name": "Python 3 (ipykernel)",
   "language": "python",
   "name": "python3"
  },
  "language_info": {
   "codemirror_mode": {
    "name": "ipython",
    "version": 3
   },
   "file_extension": ".py",
   "mimetype": "text/x-python",
   "name": "python",
   "nbconvert_exporter": "python",
   "pygments_lexer": "ipython3",
   "version": "3.9.12"
  }
 },
 "nbformat": 4,
 "nbformat_minor": 5
}
