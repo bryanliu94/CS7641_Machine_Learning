{
 "cells": [
  {
   "cell_type": "code",
   "execution_count": 80,
   "id": "868af36c",
   "metadata": {},
   "outputs": [],
   "source": [
    "import mlrose_hiive as mlrose\n",
    "\n",
    "# import mlrose\n",
    "import numpy as np\n",
    "\n",
    "from sklearn.datasets import load_iris\n",
    "from sklearn.model_selection import train_test_split\n",
    "from sklearn.preprocessing import MinMaxScaler, OneHotEncoder\n",
    "from sklearn.metrics import accuracy_score\n",
    "import matplotlib.pyplot as plt\n",
    "import time"
   ]
  },
  {
   "cell_type": "code",
   "execution_count": 67,
   "id": "148cc439",
   "metadata": {},
   "outputs": [],
   "source": [
    "\n",
    "def cust_fn(state):\n",
    "    q = mlrose.Queens()\n",
    "    return 28 - q.evaluate(state)\n",
    "def queens_max(state):\n",
    "    \n",
    "    fitness = 0\n",
    "    \n",
    "    for i in range(len(state) - 1):\n",
    "        for j in range(i + 1, len(state)):\n",
    "            if (state[j] != state[i]) \\\n",
    "                and (state[j] != state[i] + (j - i)) \\\n",
    "                and (state[j] != state[i] - (j - i)):\n",
    "                \n",
    "                fitness += 1\n",
    "\n",
    "    return fitness\n",
    "\n",
    "fitness = mlrose.CustomFitness(queens_max)\n",
    "# fitness = mlrose.Queens()\n",
    "\n",
    "problem = mlrose.DiscreteOpt(length = 8, fitness_fn = fitness, maximize=True, max_val=8)\n",
    "schedule = mlrose.ExpDecay()\n",
    "init_state = np.array([0, 1, 2, 3, 4, 5, 6, 7])\n"
   ]
  },
  {
   "cell_type": "code",
   "execution_count": 116,
   "id": "60a7772f",
   "metadata": {},
   "outputs": [
    {
     "name": "stdout",
     "output_type": "stream",
     "text": [
      "time:  0.115\n",
      "The best state found is:  [4 2 7 3 6 0 5 1]\n",
      "best_fitness 28.0\n"
     ]
    }
   ],
   "source": [
    "time1 = time.time()\n",
    "best_state, best_fitness, fitness_curve1 = mlrose.random_hill_climb(problem, \n",
    "                                                                   max_attempts = 500, \n",
    "                                                                   max_iters = 1000,\n",
    "                                                                   restarts=3, \n",
    "                                                                   init_state = init_state, \n",
    "                                                                   curve=True, \n",
    "                                                                   random_state = 1)\n",
    "time2 = time.time()\n",
    "print('time: ', round(time2-time1, 3))\n",
    "print('The best state found is: ', best_state)\n",
    "print('best_fitness', best_fitness)"
   ]
  },
  {
   "cell_type": "code",
   "execution_count": 118,
   "id": "f66ccd11",
   "metadata": {},
   "outputs": [
    {
     "name": "stdout",
     "output_type": "stream",
     "text": [
      "time:  0.046\n",
      "The best state found is:  [4 1 3 5 7 2 0 6]\n",
      "best_fitness 28.0\n"
     ]
    }
   ],
   "source": [
    "time1 = time.time()\n",
    "best_state, best_fitness, fitness_curve2 = mlrose.simulated_annealing(problem, \n",
    "                                                                     schedule = schedule, \n",
    "                                                                     max_attempts = 100, \n",
    "                                                                     max_iters = 1000, \n",
    "                                                                     init_state = init_state, \n",
    "                                                                     random_state = 1, \n",
    "                                                                     curve = True)\n",
    "\n",
    "time2 = time.time()\n",
    "print('time: ', round(time2-time1, 3))\n",
    "print('The best state found is: ', best_state)\n",
    "print('best_fitness', best_fitness)"
   ]
  },
  {
   "cell_type": "code",
   "execution_count": 124,
   "id": "f2348d6d",
   "metadata": {},
   "outputs": [
    {
     "name": "stdout",
     "output_type": "stream",
     "text": [
      "time:  0.126\n",
      "The best state found is:  [7 1 4 0 5 3 1 6]\n",
      "best_fitness 26.0\n"
     ]
    }
   ],
   "source": [
    "time1 = time.time()\n",
    "best_state, best_fitness, fitness_curve3 = mlrose.genetic_alg(problem, \n",
    "                                                             pop_size = 10, \n",
    "                                                             mutation_prob = 0.1,\n",
    "                                                                     max_attempts = 100, \n",
    "                                                                     max_iters = 1000, \n",
    "                                                                     random_state = 1, \n",
    "                                                                     curve = True)\n",
    "\n",
    "time2 = time.time()\n",
    "print('time: ', round(time2-time1, 3))\n",
    "print('The best state found is: ', best_state)\n",
    "print('best_fitness', best_fitness)"
   ]
  },
  {
   "cell_type": "code",
   "execution_count": 125,
   "id": "526f6aa1",
   "metadata": {},
   "outputs": [
    {
     "name": "stdout",
     "output_type": "stream",
     "text": [
      "time:  2.692\n",
      "The best state found is:  [5 3 4 0 7 1 3 5]\n",
      "best_fitness 23.0\n"
     ]
    }
   ],
   "source": [
    "time1 = time.time()\n",
    "best_state, best_fitness, fitness_curve4 = mlrose.mimic(problem, \n",
    "                                                       pop_size = 10, \n",
    "                                                       keep_pct = 0.2,\n",
    "                                                       max_attempts = 100, \n",
    "                                                       max_iters = 1000, \n",
    "                                                       random_state = 1, \n",
    "                                                       curve = True,\n",
    "                                                       )\n",
    "\n",
    "time2 = time.time()\n",
    "print('time: ', round(time2-time1, 3))\n",
    "print('The best state found is: ', best_state)\n",
    "print('best_fitness', best_fitness)"
   ]
  },
  {
   "cell_type": "code",
   "execution_count": 126,
   "id": "e7ed5696",
   "metadata": {},
   "outputs": [
    {
     "data": {
      "text/plain": [
       "<matplotlib.legend.Legend at 0x7fec4a6a5dc0>"
      ]
     },
     "execution_count": 126,
     "metadata": {},
     "output_type": "execute_result"
    },
    {
     "data": {
      "image/png": "[encoded data removed]",
      "text/plain": [
       "<Figure size 432x288 with 1 Axes>"
      ]
     },
     "metadata": {
      "needs_background": "light"
     },
     "output_type": "display_data"
    }
   ],
   "source": [
    "plt.plot(range(len(fitness_curve1)), fitness_curve1[:, 0], label='random hill climb')\n",
    "plt.plot(range(len(fitness_curve2)), fitness_curve2[:, 0], label='simulated annealing')\n",
    "plt.plot(range(len(fitness_curve3)), fitness_curve3[:, 0], label='genetic algorithm')\n",
    "plt.plot(range(len(fitness_curve4)), fitness_curve4[:, 0], label='mimic')\n",
    "plt.ylim([15, 30])\n",
    "plt.ylabel('Fitness')\n",
    "plt.xlabel('Iteration')\n",
    "plt.legend()"
   ]
  },
  {
   "cell_type": "code",
   "execution_count": 127,
   "id": "1c54601a",
   "metadata": {},
   "outputs": [
    {
     "data": {
      "text/plain": [
       "<matplotlib.legend.Legend at 0x7fec4a2bf370>"
      ]
     },
     "execution_count": 127,
     "metadata": {},
     "output_type": "execute_result"
    },
    {
     "data": {
      "image/png": "[encoded data removed]",
      "text/plain": [
       "<Figure size 432x288 with 1 Axes>"
      ]
     },
     "metadata": {
      "needs_background": "light"
     },
     "output_type": "display_data"
    }
   ],
   "source": [
    "plt.plot(range(len(fitness_curve1)), fitness_curve1[:, 1], label='random hill climb')\n",
    "plt.plot(range(len(fitness_curve2)), fitness_curve2[:, 1], label='simulated annealing')\n",
    "plt.plot(range(len(fitness_curve3)), fitness_curve3[:, 1], label='genetic algorithm')\n",
    "plt.plot(range(len(fitness_curve4)), fitness_curve4[:, 1], label='mimic')\n",
    "# plt.ylim([15, 30])\n",
    "plt.ylabel('Function Evaluation')\n",
    "plt.xlabel('Iteration')\n",
    "plt.title('Function Evaluation (accumulative)')\n",
    "plt.legend()"
   ]
  },
  {
   "cell_type": "code",
   "execution_count": 131,
   "id": "18e212bb",
   "metadata": {},
   "outputs": [
    {
     "data": {
      "text/plain": [
       "Text(0.5, 1.0, 'Function Evaluation (per iteration)')"
      ]
     },
     "execution_count": 131,
     "metadata": {},
     "output_type": "execute_result"
    },
    {
     "data": {
      "image/png": "[encoded data removed]",
      "text/plain": [
       "<Figure size 432x288 with 1 Axes>"
      ]
     },
     "metadata": {
      "needs_background": "light"
     },
     "output_type": "display_data"
    }
   ],
   "source": [
    "curve1a = fitness_curve1[:-1, 1]\n",
    "curve1b = fitness_curve1[1:, 1]\n",
    "curve1 = curve1b - curve1a\n",
    "curve2a = fitness_curve2[:-1, 1]\n",
    "curve2b = fitness_curve2[1:, 1]\n",
    "curve2 = curve2b - curve2a\n",
    "curve3a = fitness_curve3[:-1, 1]\n",
    "curve3b = fitness_curve3[1:, 1]\n",
    "curve3 = curve3b - curve3a\n",
    "curve4a = fitness_curve4[:-1, 1]\n",
    "curve4b = fitness_curve4[1:, 1]\n",
    "curve4 = curve4b - curve4a\n",
    "plt.plot(range(len(curve2)), curve2, '.', label='simulated annealing')\n",
    "plt.plot(range(len(curve1)), curve1, '.', label='random hill climb')\n",
    "plt.plot(range(len(curve3)), curve3, '.', label='genetic algorithm')\n",
    "plt.plot(range(len(curve4)), curve4, '.', label='mimic')\n",
    "plt.legend()\n",
    "plt.ylabel('Function Evaluation')\n",
    "plt.xlabel('Iteration')\n",
    "plt.ylim(0)\n",
    "plt.title('Function Evaluation (per iteration)')\n",
    "# plt.ylim([0, 3])"
   ]
  },
  {
   "cell_type": "code",
   "execution_count": null,
   "id": "b370de80",
   "metadata": {},
   "outputs": [],
   "source": []
  }
 ],
 "metadata": {
  "kernelspec": {
   "display_name": "Python 3 (ipykernel)",
   "language": "python",
   "name": "python3"
  },
  "language_info": {
   "codemirror_mode": {
    "name": "ipython",
    "version": 3
   },
   "file_extension": ".py",
   "mimetype": "text/x-python",
   "name": "python",
   "nbconvert_exporter": "python",
   "pygments_lexer": "ipython3",
   "version": "3.9.12"
  }
 },
 "nbformat": 4,
 "nbformat_minor": 5
}
