{
 "cells": [
  {
   "cell_type": "code",
   "execution_count": 1,
   "id": "cc42cf5e",
   "metadata": {},
   "outputs": [],
   "source": [
    "import mlrose_hiive as mlrose\n",
    "\n",
    "# import mlrose\n",
    "import numpy as np\n",
    "\n",
    "from sklearn.datasets import load_iris\n",
    "from sklearn.model_selection import train_test_split\n",
    "from sklearn.preprocessing import MinMaxScaler, OneHotEncoder\n",
    "from sklearn.metrics import accuracy_score\n",
    "import matplotlib.pyplot as plt\n",
    "\n",
    "import pandas as pd\n",
    "import numpy as np\n",
    "import seaborn as sns\n",
    "import matplotlib.pyplot as plt\n",
    "from sklearn.model_selection import train_test_split\n",
    "from sklearn.metrics import accuracy_score \n",
    "from sklearn.preprocessing import OrdinalEncoder\n",
    "from sklearn.tree import DecisionTreeClassifier\n",
    "from sklearn.ensemble import GradientBoostingClassifier\n",
    "from sklearn import svm\n",
    "from sklearn.neural_network import MLPClassifier\n",
    "# from sklearn.metrics import RocCurveDisplay\n",
    "from sklearn.metrics import plot_roc_curve\n",
    "\n",
    "from pandas import DataFrame\n",
    "\n",
    "\n",
    "import matplotlib.pyplot as plt\n",
    "\n",
    "from sklearn.metrics import auc\n",
    "from sklearn.metrics import RocCurveDisplay\n",
    "from sklearn.model_selection import StratifiedKFold\n",
    "\n",
    "from sklearn.naive_bayes import GaussianNB\n",
    "from sklearn.svm import SVC\n",
    "from sklearn.datasets import load_digits\n",
    "from sklearn.model_selection import learning_curve\n",
    "from sklearn.model_selection import ShuffleSplit\n",
    "from sklearn.ensemble import AdaBoostClassifier\n",
    "from sklearn.model_selection import GridSearchCV\n",
    "\n",
    "import time"
   ]
  },
  {
   "cell_type": "code",
   "execution_count": 2,
   "id": "c16c8e07",
   "metadata": {},
   "outputs": [
    {
     "data": {
      "text/html": [
       "<div>\n",
       "<style scoped>\n",
       "    .dataframe tbody tr th:only-of-type {\n",
       "        vertical-align: middle;\n",
       "    }\n",
       "\n",
       "    .dataframe tbody tr th {\n",
       "        vertical-align: top;\n",
       "    }\n",
       "\n",
       "    .dataframe thead th {\n",
       "        text-align: right;\n",
       "    }\n",
       "</style>\n",
       "<table border=\"1\" class=\"dataframe\">\n",
       "  <thead>\n",
       "    <tr style=\"text-align: right;\">\n",
       "      <th></th>\n",
       "      <th>A</th>\n",
       "      <th>B</th>\n",
       "      <th>C</th>\n",
       "      <th>D</th>\n",
       "      <th>E</th>\n",
       "      <th>F</th>\n",
       "      <th>G</th>\n",
       "      <th>H</th>\n",
       "      <th>I</th>\n",
       "      <th>J</th>\n",
       "      <th>K</th>\n",
       "      <th>L</th>\n",
       "      <th>M</th>\n",
       "      <th>N</th>\n",
       "      <th>O</th>\n",
       "      <th>P</th>\n",
       "    </tr>\n",
       "  </thead>\n",
       "  <tbody>\n",
       "    <tr>\n",
       "      <th>0</th>\n",
       "      <td>b</td>\n",
       "      <td>30.83</td>\n",
       "      <td>0.000</td>\n",
       "      <td>u</td>\n",
       "      <td>g</td>\n",
       "      <td>w</td>\n",
       "      <td>v</td>\n",
       "      <td>1.25</td>\n",
       "      <td>t</td>\n",
       "      <td>t</td>\n",
       "      <td>1</td>\n",
       "      <td>f</td>\n",
       "      <td>g</td>\n",
       "      <td>00202</td>\n",
       "      <td>0</td>\n",
       "      <td>+</td>\n",
       "    </tr>\n",
       "    <tr>\n",
       "      <th>1</th>\n",
       "      <td>a</td>\n",
       "      <td>58.67</td>\n",
       "      <td>4.460</td>\n",
       "      <td>u</td>\n",
       "      <td>g</td>\n",
       "      <td>q</td>\n",
       "      <td>h</td>\n",
       "      <td>3.04</td>\n",
       "      <td>t</td>\n",
       "      <td>t</td>\n",
       "      <td>6</td>\n",
       "      <td>f</td>\n",
       "      <td>g</td>\n",
       "      <td>00043</td>\n",
       "      <td>560</td>\n",
       "      <td>+</td>\n",
       "    </tr>\n",
       "    <tr>\n",
       "      <th>2</th>\n",
       "      <td>a</td>\n",
       "      <td>24.50</td>\n",
       "      <td>0.500</td>\n",
       "      <td>u</td>\n",
       "      <td>g</td>\n",
       "      <td>q</td>\n",
       "      <td>h</td>\n",
       "      <td>1.50</td>\n",
       "      <td>t</td>\n",
       "      <td>f</td>\n",
       "      <td>0</td>\n",
       "      <td>f</td>\n",
       "      <td>g</td>\n",
       "      <td>00280</td>\n",
       "      <td>824</td>\n",
       "      <td>+</td>\n",
       "    </tr>\n",
       "    <tr>\n",
       "      <th>3</th>\n",
       "      <td>b</td>\n",
       "      <td>27.83</td>\n",
       "      <td>1.540</td>\n",
       "      <td>u</td>\n",
       "      <td>g</td>\n",
       "      <td>w</td>\n",
       "      <td>v</td>\n",
       "      <td>3.75</td>\n",
       "      <td>t</td>\n",
       "      <td>t</td>\n",
       "      <td>5</td>\n",
       "      <td>t</td>\n",
       "      <td>g</td>\n",
       "      <td>00100</td>\n",
       "      <td>3</td>\n",
       "      <td>+</td>\n",
       "    </tr>\n",
       "    <tr>\n",
       "      <th>4</th>\n",
       "      <td>b</td>\n",
       "      <td>20.17</td>\n",
       "      <td>5.625</td>\n",
       "      <td>u</td>\n",
       "      <td>g</td>\n",
       "      <td>w</td>\n",
       "      <td>v</td>\n",
       "      <td>1.71</td>\n",
       "      <td>t</td>\n",
       "      <td>f</td>\n",
       "      <td>0</td>\n",
       "      <td>f</td>\n",
       "      <td>s</td>\n",
       "      <td>00120</td>\n",
       "      <td>0</td>\n",
       "      <td>+</td>\n",
       "    </tr>\n",
       "  </tbody>\n",
       "</table>\n",
       "</div>"
      ],
      "text/plain": [
       "   A      B      C  D  E  F  G     H  I  J  K  L  M      N    O  P\n",
       "0  b  30.83  0.000  u  g  w  v  1.25  t  t  1  f  g  00202    0  +\n",
       "1  a  58.67  4.460  u  g  q  h  3.04  t  t  6  f  g  00043  560  +\n",
       "2  a  24.50  0.500  u  g  q  h  1.50  t  f  0  f  g  00280  824  +\n",
       "3  b  27.83  1.540  u  g  w  v  3.75  t  t  5  t  g  00100    3  +\n",
       "4  b  20.17  5.625  u  g  w  v  1.71  t  f  0  f  s  00120    0  +"
      ]
     },
     "execution_count": 2,
     "metadata": {},
     "output_type": "execute_result"
    }
   ],
   "source": [
    "# Load dataset\n",
    "#df = pd.read_csv('../input/ucidata/crx.data',header=None)\n",
    "header_names=['A','B','C','D','E','F','G','H','I','J','K','L','M','N','O','P']\n",
    "df = pd.read_csv('../Data/crx.data',names=header_names)\n",
    "\n",
    "# Inspect data\n",
    "df.head()"
   ]
  },
  {
   "cell_type": "code",
   "execution_count": 3,
   "id": "273880fd",
   "metadata": {},
   "outputs": [],
   "source": [
    "df = df.replace('?',np.nan)"
   ]
  },
  {
   "cell_type": "code",
   "execution_count": 4,
   "id": "cb81c24b",
   "metadata": {},
   "outputs": [],
   "source": [
    "def fix_missing_ffill(df, col):\n",
    "    ''' This function takes a data frame as input \n",
    "    replaces the missing values of a particular column with the value from the previous row\n",
    "    '''\n",
    "    #df[col] = pd.to_numeric(df[col], errors = 'coerce')\n",
    "    df[col] = df[col].fillna(method='ffill')  \n",
    "def fix_missing_mean(df,col):\n",
    "    ''' This function takes a data frame as input \n",
    "    replaces the missing values of a particular column with it's mean value\n",
    "    '''\n",
    "    #replace missing values with mean \n",
    "    df[col] = pd.to_numeric(df[col], errors = 'coerce')\n",
    "    df[col].fillna(df[col].mean(), inplace = True)    \n"
   ]
  },
  {
   "cell_type": "code",
   "execution_count": 5,
   "id": "b0c3807b",
   "metadata": {},
   "outputs": [
    {
     "data": {
      "text/html": [
       "<div>\n",
       "<style scoped>\n",
       "    .dataframe tbody tr th:only-of-type {\n",
       "        vertical-align: middle;\n",
       "    }\n",
       "\n",
       "    .dataframe tbody tr th {\n",
       "        vertical-align: top;\n",
       "    }\n",
       "\n",
       "    .dataframe thead th {\n",
       "        text-align: right;\n",
       "    }\n",
       "</style>\n",
       "<table border=\"1\" class=\"dataframe\">\n",
       "  <thead>\n",
       "    <tr style=\"text-align: right;\">\n",
       "      <th></th>\n",
       "      <th>A</th>\n",
       "      <th>B</th>\n",
       "      <th>C</th>\n",
       "      <th>D</th>\n",
       "      <th>E</th>\n",
       "      <th>F</th>\n",
       "      <th>G</th>\n",
       "      <th>H</th>\n",
       "      <th>I</th>\n",
       "      <th>J</th>\n",
       "      <th>K</th>\n",
       "      <th>L</th>\n",
       "      <th>M</th>\n",
       "      <th>N</th>\n",
       "      <th>O</th>\n",
       "    </tr>\n",
       "  </thead>\n",
       "  <tbody>\n",
       "    <tr>\n",
       "      <th>0</th>\n",
       "      <td>b</td>\n",
       "      <td>30.83</td>\n",
       "      <td>0.000</td>\n",
       "      <td>u</td>\n",
       "      <td>g</td>\n",
       "      <td>w</td>\n",
       "      <td>v</td>\n",
       "      <td>1.25</td>\n",
       "      <td>t</td>\n",
       "      <td>t</td>\n",
       "      <td>1</td>\n",
       "      <td>f</td>\n",
       "      <td>g</td>\n",
       "      <td>202.0</td>\n",
       "      <td>0</td>\n",
       "    </tr>\n",
       "    <tr>\n",
       "      <th>1</th>\n",
       "      <td>a</td>\n",
       "      <td>58.67</td>\n",
       "      <td>4.460</td>\n",
       "      <td>u</td>\n",
       "      <td>g</td>\n",
       "      <td>q</td>\n",
       "      <td>h</td>\n",
       "      <td>3.04</td>\n",
       "      <td>t</td>\n",
       "      <td>t</td>\n",
       "      <td>6</td>\n",
       "      <td>f</td>\n",
       "      <td>g</td>\n",
       "      <td>43.0</td>\n",
       "      <td>560</td>\n",
       "    </tr>\n",
       "    <tr>\n",
       "      <th>2</th>\n",
       "      <td>a</td>\n",
       "      <td>24.50</td>\n",
       "      <td>0.500</td>\n",
       "      <td>u</td>\n",
       "      <td>g</td>\n",
       "      <td>q</td>\n",
       "      <td>h</td>\n",
       "      <td>1.50</td>\n",
       "      <td>t</td>\n",
       "      <td>f</td>\n",
       "      <td>0</td>\n",
       "      <td>f</td>\n",
       "      <td>g</td>\n",
       "      <td>280.0</td>\n",
       "      <td>824</td>\n",
       "    </tr>\n",
       "    <tr>\n",
       "      <th>3</th>\n",
       "      <td>b</td>\n",
       "      <td>27.83</td>\n",
       "      <td>1.540</td>\n",
       "      <td>u</td>\n",
       "      <td>g</td>\n",
       "      <td>w</td>\n",
       "      <td>v</td>\n",
       "      <td>3.75</td>\n",
       "      <td>t</td>\n",
       "      <td>t</td>\n",
       "      <td>5</td>\n",
       "      <td>t</td>\n",
       "      <td>g</td>\n",
       "      <td>100.0</td>\n",
       "      <td>3</td>\n",
       "    </tr>\n",
       "    <tr>\n",
       "      <th>4</th>\n",
       "      <td>b</td>\n",
       "      <td>20.17</td>\n",
       "      <td>5.625</td>\n",
       "      <td>u</td>\n",
       "      <td>g</td>\n",
       "      <td>w</td>\n",
       "      <td>v</td>\n",
       "      <td>1.71</td>\n",
       "      <td>t</td>\n",
       "      <td>f</td>\n",
       "      <td>0</td>\n",
       "      <td>f</td>\n",
       "      <td>s</td>\n",
       "      <td>120.0</td>\n",
       "      <td>0</td>\n",
       "    </tr>\n",
       "  </tbody>\n",
       "</table>\n",
       "</div>"
      ],
      "text/plain": [
       "   A      B      C  D  E  F  G     H  I  J  K  L  M      N    O\n",
       "0  b  30.83  0.000  u  g  w  v  1.25  t  t  1  f  g  202.0    0\n",
       "1  a  58.67  4.460  u  g  q  h  3.04  t  t  6  f  g   43.0  560\n",
       "2  a  24.50  0.500  u  g  q  h  1.50  t  f  0  f  g  280.0  824\n",
       "3  b  27.83  1.540  u  g  w  v  3.75  t  t  5  t  g  100.0    3\n",
       "4  b  20.17  5.625  u  g  w  v  1.71  t  f  0  f  s  120.0    0"
      ]
     },
     "execution_count": 5,
     "metadata": {},
     "output_type": "execute_result"
    }
   ],
   "source": [
    "fix_missing_ffill(df,'A')\n",
    "fix_missing_ffill(df,'B')\n",
    "fix_missing_ffill(df,'D')\n",
    "fix_missing_ffill(df,'E')\n",
    "fix_missing_ffill(df,'F')\n",
    "fix_missing_ffill(df,'G')\n",
    "fix_missing_mean(df,'N')\n",
    "\n",
    "# Separate target from features\n",
    "y = df['P']\n",
    "features = df\n",
    "features = features.drop(['P'], axis=1)\n",
    "# Preview features\n",
    "features.head()"
   ]
  },
  {
   "cell_type": "code",
   "execution_count": 6,
   "id": "fd901238",
   "metadata": {},
   "outputs": [],
   "source": [
    "y = y.replace('+', 1.0)\n",
    "y = y.replace('-', 0.0)"
   ]
  },
  {
   "cell_type": "code",
   "execution_count": 7,
   "id": "f0f73b2d",
   "metadata": {},
   "outputs": [
    {
     "data": {
      "text/html": [
       "<div>\n",
       "<style scoped>\n",
       "    .dataframe tbody tr th:only-of-type {\n",
       "        vertical-align: middle;\n",
       "    }\n",
       "\n",
       "    .dataframe tbody tr th {\n",
       "        vertical-align: top;\n",
       "    }\n",
       "\n",
       "    .dataframe thead th {\n",
       "        text-align: right;\n",
       "    }\n",
       "</style>\n",
       "<table border=\"1\" class=\"dataframe\">\n",
       "  <thead>\n",
       "    <tr style=\"text-align: right;\">\n",
       "      <th></th>\n",
       "      <th>A</th>\n",
       "      <th>B</th>\n",
       "      <th>C</th>\n",
       "      <th>D</th>\n",
       "      <th>E</th>\n",
       "      <th>F</th>\n",
       "      <th>G</th>\n",
       "      <th>H</th>\n",
       "      <th>I</th>\n",
       "      <th>J</th>\n",
       "      <th>K</th>\n",
       "      <th>L</th>\n",
       "      <th>M</th>\n",
       "      <th>N</th>\n",
       "      <th>O</th>\n",
       "    </tr>\n",
       "  </thead>\n",
       "  <tbody>\n",
       "    <tr>\n",
       "      <th>0</th>\n",
       "      <td>1.0</td>\n",
       "      <td>156.0</td>\n",
       "      <td>0.000</td>\n",
       "      <td>1.0</td>\n",
       "      <td>0.0</td>\n",
       "      <td>12.0</td>\n",
       "      <td>7.0</td>\n",
       "      <td>1.25</td>\n",
       "      <td>1.0</td>\n",
       "      <td>1.0</td>\n",
       "      <td>1</td>\n",
       "      <td>0.0</td>\n",
       "      <td>0.0</td>\n",
       "      <td>69.0</td>\n",
       "      <td>0</td>\n",
       "    </tr>\n",
       "    <tr>\n",
       "      <th>1</th>\n",
       "      <td>0.0</td>\n",
       "      <td>328.0</td>\n",
       "      <td>4.460</td>\n",
       "      <td>1.0</td>\n",
       "      <td>0.0</td>\n",
       "      <td>10.0</td>\n",
       "      <td>3.0</td>\n",
       "      <td>3.04</td>\n",
       "      <td>1.0</td>\n",
       "      <td>1.0</td>\n",
       "      <td>6</td>\n",
       "      <td>0.0</td>\n",
       "      <td>0.0</td>\n",
       "      <td>11.0</td>\n",
       "      <td>560</td>\n",
       "    </tr>\n",
       "    <tr>\n",
       "      <th>2</th>\n",
       "      <td>0.0</td>\n",
       "      <td>89.0</td>\n",
       "      <td>0.500</td>\n",
       "      <td>1.0</td>\n",
       "      <td>0.0</td>\n",
       "      <td>10.0</td>\n",
       "      <td>3.0</td>\n",
       "      <td>1.50</td>\n",
       "      <td>1.0</td>\n",
       "      <td>0.0</td>\n",
       "      <td>0</td>\n",
       "      <td>0.0</td>\n",
       "      <td>0.0</td>\n",
       "      <td>97.0</td>\n",
       "      <td>824</td>\n",
       "    </tr>\n",
       "    <tr>\n",
       "      <th>3</th>\n",
       "      <td>1.0</td>\n",
       "      <td>125.0</td>\n",
       "      <td>1.540</td>\n",
       "      <td>1.0</td>\n",
       "      <td>0.0</td>\n",
       "      <td>12.0</td>\n",
       "      <td>7.0</td>\n",
       "      <td>3.75</td>\n",
       "      <td>1.0</td>\n",
       "      <td>1.0</td>\n",
       "      <td>5</td>\n",
       "      <td>1.0</td>\n",
       "      <td>0.0</td>\n",
       "      <td>31.0</td>\n",
       "      <td>3</td>\n",
       "    </tr>\n",
       "    <tr>\n",
       "      <th>4</th>\n",
       "      <td>1.0</td>\n",
       "      <td>43.0</td>\n",
       "      <td>5.625</td>\n",
       "      <td>1.0</td>\n",
       "      <td>0.0</td>\n",
       "      <td>12.0</td>\n",
       "      <td>7.0</td>\n",
       "      <td>1.71</td>\n",
       "      <td>1.0</td>\n",
       "      <td>0.0</td>\n",
       "      <td>0</td>\n",
       "      <td>0.0</td>\n",
       "      <td>2.0</td>\n",
       "      <td>37.0</td>\n",
       "      <td>0</td>\n",
       "    </tr>\n",
       "  </tbody>\n",
       "</table>\n",
       "</div>"
      ],
      "text/plain": [
       "     A      B      C    D    E     F    G     H    I    J  K    L    M     N  \\\n",
       "0  1.0  156.0  0.000  1.0  0.0  12.0  7.0  1.25  1.0  1.0  1  0.0  0.0  69.0   \n",
       "1  0.0  328.0  4.460  1.0  0.0  10.0  3.0  3.04  1.0  1.0  6  0.0  0.0  11.0   \n",
       "2  0.0   89.0  0.500  1.0  0.0  10.0  3.0  1.50  1.0  0.0  0  0.0  0.0  97.0   \n",
       "3  1.0  125.0  1.540  1.0  0.0  12.0  7.0  3.75  1.0  1.0  5  1.0  0.0  31.0   \n",
       "4  1.0   43.0  5.625  1.0  0.0  12.0  7.0  1.71  1.0  0.0  0  0.0  2.0  37.0   \n",
       "\n",
       "     O  \n",
       "0    0  \n",
       "1  560  \n",
       "2  824  \n",
       "3    3  \n",
       "4    0  "
      ]
     },
     "execution_count": 7,
     "metadata": {},
     "output_type": "execute_result"
    }
   ],
   "source": [
    "# List of categorical columns\n",
    "object_cols = ['A','B','D','E','F','G','I','J','L','M','N']\n",
    "\n",
    "# ordinal-encode categorical columns\n",
    "X = features.copy()\n",
    "ordinal_encoder = OrdinalEncoder()\n",
    "X[object_cols] = ordinal_encoder.fit_transform(features[object_cols])\n",
    "\n",
    "# Preview the ordinal-encoded features\n",
    "X.head()\n"
   ]
  },
  {
   "cell_type": "code",
   "execution_count": 8,
   "id": "c6bc13ab",
   "metadata": {},
   "outputs": [],
   "source": [
    "xTrain, xTest, yTrain, yTest = train_test_split(X, y,test_size=0.20,random_state=2)"
   ]
  },
  {
   "cell_type": "code",
   "execution_count": 9,
   "id": "46c8cb65",
   "metadata": {},
   "outputs": [],
   "source": [
    "# xTrain_norm = (xTrain-xTrain.min())/(xTrain.max()-xTrain.min())\n",
    "# xTest_norm = (xTest-xTest.min())/(xTest.max()-xTest.min())\n",
    "\n",
    "# Normalize feature data\n",
    "scaler = MinMaxScaler()\n",
    "\n",
    "xTrain_norm = scaler.fit_transform(xTrain)\n",
    "xTest_norm = scaler.fit_transform(xTest)"
   ]
  },
  {
   "cell_type": "code",
   "execution_count": 10,
   "id": "82075810",
   "metadata": {},
   "outputs": [],
   "source": [
    "mlp_clf = MLPClassifier(hidden_layer_sizes=(20,28, 20),  max_iter=500, solver='adam', activation='relu', alpha=0.7, \n",
    "                 learning_rate_init=0.01, learning_rate='adaptive',  verbose=False, momentum=0.1, random_state=0)\n",
    "mlp_clf.fit(xTrain_norm, yTrain)\n",
    "mlp_clf.score(xTest_norm,yTest)\n",
    "fitness_curve1 = mlp_clf.loss_curve_"
   ]
  },
  {
   "cell_type": "code",
   "execution_count": 11,
   "id": "b767087b",
   "metadata": {},
   "outputs": [
    {
     "name": "stdout",
     "output_type": "stream",
     "text": [
      "0.927536231884058\n",
      "0.8840579710144928\n",
      "time:  1.9808719158172607\n"
     ]
    }
   ],
   "source": [
    "time1 = time.time()\n",
    "nn_model1 = mlrose.NeuralNetwork(hidden_nodes = [20, 28, 20], activation ='relu', \n",
    "                                 algorithm ='gradient_descent', curve = True,\n",
    "                                 max_iters = 500, bias = True, is_classifier = True, \n",
    "                                 learning_rate = 5.99484250e-04, early_stopping = True, \n",
    "                                 clip_max = 1, max_attempts = 100, random_state = 3)\n",
    "\n",
    "nn_model1.fit(xTrain_norm, yTrain)\n",
    "\n",
    "y_train_pred1 = nn_model1.predict(xTrain_norm)\n",
    "\n",
    "y_train_accuracy1 = accuracy_score(yTrain, y_train_pred1)\n",
    "\n",
    "print(y_train_accuracy1)\n",
    "\n",
    "y_test_pred1 = nn_model1.predict(xTest_norm)\n",
    "\n",
    "y_test_accuracy1 = accuracy_score(yTest, y_test_pred1)\n",
    "\n",
    "print(y_test_accuracy1)\n",
    "time2 = time.time()\n",
    "print('time: ', time2-time1)\n",
    "\n",
    "fitness_curve1 = nn_model1.fitness_curve\n",
    "# print(type(fitness_curve1))\n",
    "# fitness_curve1a = fitness_curve1[:, 0]\n",
    "# fitness_curve1b = fitness_curve1[:, 1]\n",
    "# plt.plot(range(len(fitness_curve1)), fitness_curve1a)"
   ]
  },
  {
   "cell_type": "code",
   "execution_count": 12,
   "id": "3dbdbccb",
   "metadata": {},
   "outputs": [
    {
     "name": "stdout",
     "output_type": "stream",
     "text": [
      "0.8641304347826086\n",
      "0.8188405797101449\n",
      "time:  1.8756778240203857\n"
     ]
    }
   ],
   "source": [
    "time1 = time.time()\n",
    "nn_model2 = mlrose.NeuralNetwork(hidden_nodes = [20, 28, 20], activation ='relu', \n",
    "                                 algorithm ='random_hill_climb', curve = True,\n",
    "                                 max_iters = 1000, bias = True, is_classifier = True, \n",
    "                                 learning_rate = 2, early_stopping = True, restarts = 0,\n",
    "                                 clip_max = 5, max_attempts = 100, random_state = 1)\n",
    "\n",
    "nn_model2.fit(xTrain_norm, yTrain)\n",
    "\n",
    "y_train_pred2 = nn_model2.predict(xTrain_norm)\n",
    "\n",
    "y_train_accuracy2 = accuracy_score(yTrain, y_train_pred2)\n",
    "\n",
    "print(y_train_accuracy2)\n",
    "\n",
    "y_test_pred2 = nn_model2.predict(xTest_norm)\n",
    "\n",
    "y_test_accuracy2 = accuracy_score(yTest, y_test_pred2)\n",
    "\n",
    "print(y_test_accuracy2)\n",
    "time2 = time.time()\n",
    "print('time: ', time2-time1)\n",
    "\n",
    "fitness_curve2 = nn_model2.fitness_curve\n",
    "fitness_curve2a = fitness_curve2[:, 0]\n",
    "fitness_curve2b = fitness_curve2[:, 1]\n",
    "# plt.plot(range(len(fitness_curve2)), fitness_curve2a)"
   ]
  },
  {
   "cell_type": "code",
   "execution_count": 13,
   "id": "ae8dfe30",
   "metadata": {},
   "outputs": [
    {
     "name": "stdout",
     "output_type": "stream",
     "text": [
      "0.8097826086956522\n",
      "0.782608695652174\n",
      "time:  3.0333781242370605\n"
     ]
    }
   ],
   "source": [
    "time1 = time.time()\n",
    "nn_model3 = mlrose.NeuralNetwork(hidden_nodes = [20, 28, 20], activation ='relu', \n",
    "                                 algorithm ='simulated_annealing', curve = True,\n",
    "                                 max_iters = 1000, bias = True, is_classifier = True, \n",
    "                                 learning_rate = 1, early_stopping = True, restarts = 0,\n",
    "                                 clip_max = 3, max_attempts = 100, random_state = 1)\n",
    "\n",
    "nn_model3.fit(xTrain_norm, yTrain)\n",
    "\n",
    "y_train_pred3 = nn_model3.predict(xTrain_norm)\n",
    "\n",
    "y_train_accuracy3 = accuracy_score(yTrain, y_train_pred3)\n",
    "\n",
    "print(y_train_accuracy3)\n",
    "\n",
    "y_test_pred3 = nn_model3.predict(xTest_norm)\n",
    "\n",
    "y_test_accuracy3 = accuracy_score(yTest, y_test_pred3)\n",
    "\n",
    "print(y_test_accuracy3)\n",
    "time2 = time.time()\n",
    "print('time: ', time2-time1)\n",
    "\n",
    "fitness_curve3 = nn_model3.fitness_curve\n",
    "fitness_curve3a = fitness_curve3[:, 0]\n",
    "fitness_curve3b = fitness_curve3[:, 1]\n",
    "# plt.plot(range(len(fitness_curve3)), fitness_curve3a)"
   ]
  },
  {
   "cell_type": "code",
   "execution_count": 14,
   "id": "12abccbc",
   "metadata": {},
   "outputs": [
    {
     "name": "stdout",
     "output_type": "stream",
     "text": [
      "0.8405797101449275\n",
      "0.8260869565217391\n",
      "time:  61.113882064819336\n"
     ]
    }
   ],
   "source": [
    "time1 = time.time()\n",
    "nn_model4 = mlrose.NeuralNetwork(hidden_nodes = [20, 28, 20], activation ='relu', \n",
    "                                 algorithm ='genetic_alg', curve = True,\n",
    "                                 max_iters = 1000, bias = True, is_classifier = True, \n",
    "                                 learning_rate = 1, early_stopping = True, restarts = 0,\n",
    "                                 clip_max = 5, max_attempts = 100, random_state = 1)\n",
    "\n",
    "nn_model4.fit(xTrain_norm, yTrain)\n",
    "\n",
    "y_train_pred4 = nn_model4.predict(xTrain_norm)\n",
    "\n",
    "y_train_accuracy4 = accuracy_score(yTrain, y_train_pred4)\n",
    "\n",
    "print(y_train_accuracy4)\n",
    "\n",
    "y_test_pred4 = nn_model4.predict(xTest_norm)\n",
    "\n",
    "y_test_accuracy4 = accuracy_score(yTest, y_test_pred4)\n",
    "\n",
    "print(y_test_accuracy4)\n",
    "\n",
    "time2 = time.time()\n",
    "print('time: ', time2-time1)\n",
    "\n",
    "fitness_curve4 = nn_model4.fitness_curve\n",
    "fitness_curve4a = fitness_curve4[:, 0]\n",
    "fitness_curve4b = fitness_curve4[:, 1]\n",
    "# plt.plot(range(len(fitness_curve4)), fitness_curve4a)"
   ]
  },
  {
   "cell_type": "code",
   "execution_count": 15,
   "id": "fb5e98f8",
   "metadata": {},
   "outputs": [
    {
     "name": "stdout",
     "output_type": "stream",
     "text": [
      "29754.0\n"
     ]
    }
   ],
   "source": [
    "print(fitness_curve4[-1, 1])"
   ]
  },
  {
   "cell_type": "code",
   "execution_count": 16,
   "id": "b5df1f2e",
   "metadata": {},
   "outputs": [
    {
     "data": {
      "text/plain": [
       "(0.0, 2.0)"
      ]
     },
     "execution_count": 16,
     "metadata": {},
     "output_type": "execute_result"
    },
    {
     "data": {
      "image/png": "[encoded data removed]",
      "text/plain": [
       "<Figure size 432x288 with 1 Axes>"
      ]
     },
     "metadata": {
      "needs_background": "light"
     },
     "output_type": "display_data"
    }
   ],
   "source": [
    "plt.plot(range(len(fitness_curve1)), -fitness_curve1, label='gradient descent')\n",
    "plt.plot(range(len(fitness_curve2)), fitness_curve2a, label='random hill climb')\n",
    "plt.plot(range(len(fitness_curve3)), fitness_curve3a, label='simulated annealing')\n",
    "plt.plot(range(len(fitness_curve4)), fitness_curve4a, label='genetic algorithm')\n",
    "plt.legend()\n",
    "plt.xlim([0, 1000])\n",
    "plt.xlabel(\"Iterations\")\n",
    "plt.ylabel(\"Loss\")\n",
    "plt.ylim([0, 2])\n"
   ]
  },
  {
   "cell_type": "code",
   "execution_count": 17,
   "id": "d59cf7b8",
   "metadata": {},
   "outputs": [
    {
     "data": {
      "text/plain": [
       "<matplotlib.legend.Legend at 0x7fb654911070>"
      ]
     },
     "execution_count": 17,
     "metadata": {},
     "output_type": "execute_result"
    },
    {
     "data": {
      "image/png": "[encoded data removed]",
      "text/plain": [
       "<Figure size 432x288 with 1 Axes>"
      ]
     },
     "metadata": {
      "needs_background": "light"
     },
     "output_type": "display_data"
    }
   ],
   "source": [
    "# plt.plot(range(len(fitness_curve1)), fitness_curve1, label='gradient_descent')\n",
    "plt.plot(range(len(fitness_curve2)), fitness_curve2b, label='random_hill_climb')\n",
    "plt.plot(range(len(fitness_curve3)), fitness_curve3b, label='simulated_annealing')\n",
    "plt.plot(range(len(fitness_curve4)), fitness_curve4b, label='genetic_alg')\n",
    "plt.xlabel('Iteration')\n",
    "plt.ylabel(\"Function Evaluation\")\n",
    "plt.legend()"
   ]
  },
  {
   "cell_type": "code",
   "execution_count": 18,
   "id": "e9440abc",
   "metadata": {},
   "outputs": [
    {
     "data": {
      "text/plain": [
       "array([1.00000000e-05, 2.78255940e-05, 7.74263683e-05, 2.15443469e-04,\n",
       "       5.99484250e-04, 1.66810054e-03, 4.64158883e-03, 1.29154967e-02,\n",
       "       3.59381366e-02, 1.00000000e-01])"
      ]
     },
     "execution_count": 18,
     "metadata": {},
     "output_type": "execute_result"
    }
   ],
   "source": [
    "np.logspace(-5, -1, num=10)"
   ]
  },
  {
   "cell_type": "code",
   "execution_count": 19,
   "id": "c6417162",
   "metadata": {},
   "outputs": [],
   "source": [
    "lr1 = np.logspace(-5, -1, num=10)\n",
    "lr2 = range(1, 11)\n",
    "\n",
    "\n",
    "m1a = []\n",
    "m1b = []\n",
    "m1c = []\n",
    "m2a = []\n",
    "m2b = []\n",
    "m2c = []\n",
    "m3a = []\n",
    "m3b = []\n",
    "m3c = []\n",
    "# m4a = [0.841] * len(lr2)\n",
    "# m4b = [0.826] * len(lr2)\n",
    "\n",
    "for l in lr1:\n",
    "    time1 = time.time()\n",
    "    nn_model1 = mlrose.NeuralNetwork(hidden_nodes = [20, 28, 20], activation ='relu', \n",
    "                                 algorithm ='gradient_descent', curve = True,\n",
    "                                 max_iters = 500, bias = True, is_classifier = True, \n",
    "                                 learning_rate = l, early_stopping = True, \n",
    "                                 clip_max = 5, max_attempts = 100, random_state = 3)\n",
    "\n",
    "    nn_model1.fit(xTrain_norm, yTrain)\n",
    "\n",
    "    y_train_pred1 = nn_model1.predict(xTrain_norm)\n",
    "\n",
    "    y_train_accuracy1 = accuracy_score(yTrain, y_train_pred1)\n",
    "\n",
    "    m1a.append(y_train_accuracy1)\n",
    "\n",
    "    y_test_pred1 = nn_model1.predict(xTest_norm)\n",
    "\n",
    "    y_test_accuracy1 = accuracy_score(yTest, y_test_pred1)\n",
    "\n",
    "    m1b.append(y_test_accuracy1)\n",
    "    time2 = time.time()\n",
    "    m1c.append(time2-time1)\n",
    "    \n",
    "for l in lr2:\n",
    "    time1 = time.time()\n",
    "    nn_model2 = mlrose.NeuralNetwork(hidden_nodes = [20, 28, 20], activation ='relu', \n",
    "                                     algorithm ='random_hill_climb', curve = True,\n",
    "                                     max_iters = 1000, bias = True, is_classifier = True, \n",
    "                                     learning_rate = l, early_stopping = True, restarts = 0,\n",
    "                                     clip_max = 5, max_attempts = 50, random_state = 1)\n",
    "\n",
    "    nn_model2.fit(xTrain_norm, yTrain)\n",
    "\n",
    "    y_train_pred2 = nn_model2.predict(xTrain_norm)\n",
    "\n",
    "    y_train_accuracy2 = accuracy_score(yTrain, y_train_pred2)\n",
    "\n",
    "    m2a.append(y_train_accuracy2)\n",
    "\n",
    "    y_test_pred2 = nn_model2.predict(xTest_norm)\n",
    "\n",
    "    y_test_accuracy2 = accuracy_score(yTest, y_test_pred2)\n",
    "\n",
    "    m2b.append(y_test_accuracy2)\n",
    "    time2 = time.time()\n",
    "    m2c.append(time2-time1)\n",
    "    \n",
    "    time1 = time.time()\n",
    "    nn_model3 = mlrose.NeuralNetwork(hidden_nodes = [20, 28, 20], activation ='relu', \n",
    "                                 algorithm ='simulated_annealing', curve = True,\n",
    "                                 max_iters = 1000, bias = True, is_classifier = True, \n",
    "                                 learning_rate = l, early_stopping = True, restarts = 0,\n",
    "                                 clip_max = 5, max_attempts = 50, random_state = 1)\n",
    "\n",
    "    nn_model3.fit(xTrain_norm, yTrain)\n",
    "\n",
    "    y_train_pred3 = nn_model3.predict(xTrain_norm)\n",
    "\n",
    "    y_train_accuracy3 = accuracy_score(yTrain, y_train_pred3)\n",
    "\n",
    "    m3a.append(y_train_accuracy3)\n",
    "\n",
    "    y_test_pred3 = nn_model3.predict(xTest_norm)\n",
    "\n",
    "    y_test_accuracy3 = accuracy_score(yTest, y_test_pred3)\n",
    "\n",
    "    m3b.append(y_test_accuracy3)\n",
    "    time2 = time.time()\n",
    "    m3c.append(time2-time1)\n",
    "    \n",
    "#     nn_model4 = mlrose.NeuralNetwork(hidden_nodes = [20, 28, 20], activation ='relu', \n",
    "#                                  algorithm ='genetic_alg', curve = True,\n",
    "#                                  max_iters = 1000, bias = True, is_classifier = True, \n",
    "#                                  learning_rate = l, early_stopping = True, restarts = 0,\n",
    "#                                  clip_max = 5, max_attempts = 30, random_state = 1)\n",
    "\n",
    "#     nn_model4.fit(xTrain_norm, yTrain)\n",
    "\n",
    "#     y_train_pred4 = nn_model4.predict(xTrain_norm)\n",
    "\n",
    "#     y_train_accuracy4 = accuracy_score(yTrain, y_train_pred4)\n",
    "\n",
    "#     m4a.append(y_train_accuracy4)\n",
    "\n",
    "#     y_test_pred4 = nn_model4.predict(xTest_norm)\n",
    "\n",
    "#     y_test_accuracy4 = accuracy_score(yTest, y_test_pred4)\n",
    "\n",
    "#     m4b.append(y_test_accuracy4)"
   ]
  },
  {
   "cell_type": "code",
   "execution_count": 20,
   "id": "618daf81",
   "metadata": {},
   "outputs": [
    {
     "data": {
      "text/plain": [
       "<matplotlib.legend.Legend at 0x7fb65900ea30>"
      ]
     },
     "execution_count": 20,
     "metadata": {},
     "output_type": "execute_result"
    },
    {
     "data": {
      "image/png": "[encoded data removed]",
      "text/plain": [
       "<Figure size 432x288 with 1 Axes>"
      ]
     },
     "metadata": {
      "needs_background": "light"
     },
     "output_type": "display_data"
    }
   ],
   "source": [
    "plt.plot(lr1, m1a, label = 'training')\n",
    "plt.plot(lr1, m1b, label = 'testing')\n",
    "plt.ylim([0.5, 1])\n",
    "plt.xscale('log')\n",
    "plt.xlabel('Learning Rate')\n",
    "plt.ylabel('Accuracy')\n",
    "plt.title(\"Gradient Descent\")\n",
    "# plt.plot(lr, m4a, label = 'genetic algorithm')\n",
    "plt.legend()"
   ]
  },
  {
   "cell_type": "code",
   "execution_count": 22,
   "id": "d0fbc5e8",
   "metadata": {},
   "outputs": [
    {
     "data": {
      "text/plain": [
       "Text(0.5, 1.0, 'Randomized Hill Climbing')"
      ]
     },
     "execution_count": 22,
     "metadata": {},
     "output_type": "execute_result"
    },
    {
     "data": {
      "image/png": "[encoded data removed]",
      "text/plain": [
       "<Figure size 432x288 with 1 Axes>"
      ]
     },
     "metadata": {
      "needs_background": "light"
     },
     "output_type": "display_data"
    }
   ],
   "source": [
    "plt.plot(lr2, m2a, label = 'training')\n",
    "plt.plot(lr2, m2b, label = 'testing')\n",
    "plt.ylim([0.5, 1])\n",
    "# plt.plot(lr, m4a, label = 'genetic algorithm')\n",
    "plt.legend()\n",
    "plt.xlabel('Learning Rate')\n",
    "plt.ylabel('Accuracy')\n",
    "plt.title(\"Randomized Hill Climbing\")"
   ]
  },
  {
   "cell_type": "code",
   "execution_count": 23,
   "id": "9dad43b6",
   "metadata": {},
   "outputs": [
    {
     "data": {
      "text/plain": [
       "Text(0.5, 1.0, 'Simulated Annealing')"
      ]
     },
     "execution_count": 23,
     "metadata": {},
     "output_type": "execute_result"
    },
    {
     "data": {
      "image/png": "[encoded data removed]",
      "text/plain": [
       "<Figure size 432x288 with 1 Axes>"
      ]
     },
     "metadata": {
      "needs_background": "light"
     },
     "output_type": "display_data"
    }
   ],
   "source": [
    "plt.plot(lr2, m3a, label = 'training')\n",
    "plt.plot(lr2, m3b, label = 'testing')\n",
    "plt.legend()\n",
    "plt.ylim([0.5, 1])\n",
    "plt.xlabel('Learning Rate')\n",
    "plt.ylabel('Accuracy')\n",
    "plt.title(\"Simulated Annealing\")\n",
    "# plt.plot(lr, m4b, label = 'genetic algorithm')"
   ]
  },
  {
   "cell_type": "code",
   "execution_count": 25,
   "id": "27a3e828",
   "metadata": {},
   "outputs": [
    {
     "data": {
      "text/plain": [
       "<matplotlib.legend.Legend at 0x7fb65b0ba6d0>"
      ]
     },
     "execution_count": 25,
     "metadata": {},
     "output_type": "execute_result"
    },
    {
     "data": {
      "image/png": "[encoded data removed]",
      "text/plain": [
       "<Figure size 432x288 with 1 Axes>"
      ]
     },
     "metadata": {
      "needs_background": "light"
     },
     "output_type": "display_data"
    }
   ],
   "source": [
    "plt.plot(lr1, m1c, label = 'gradient descent')\n",
    "# plt.plot(lr2, m2c, label = 'random hill climb')\n",
    "# plt.plot(lr2, m3c, label = 'simulated annealing')\n",
    "plt.xscale('log')\n",
    "# plt.xticks(lr1+lr2)\n",
    "plt.legend()"
   ]
  },
  {
   "cell_type": "code",
   "execution_count": 26,
   "id": "06e76745",
   "metadata": {},
   "outputs": [
    {
     "name": "stdout",
     "output_type": "stream",
     "text": [
      "1\n",
      "2\n",
      "3\n",
      "4\n",
      "5\n",
      "6\n"
     ]
    }
   ],
   "source": [
    "clips = range(1, 7)\n",
    "\n",
    "m1a = []\n",
    "m1b = []\n",
    "m1c = []\n",
    "m2a = []\n",
    "m2b = []\n",
    "m2c = []\n",
    "m3a = []\n",
    "m3b = []\n",
    "m3c = []\n",
    "m4a = []\n",
    "m4b = []\n",
    "\n",
    "for c in clips:\n",
    "    print(c)\n",
    "    time1 = time.time()\n",
    "    nn_model1 = mlrose.NeuralNetwork(hidden_nodes = [20, 28, 20], activation ='relu', \n",
    "                                 algorithm ='gradient_descent', curve = True,\n",
    "                                 max_iters = 500, bias = True, is_classifier = True, \n",
    "                                 learning_rate = 5.99484250e-04, early_stopping = True, \n",
    "                                 clip_max = c, max_attempts = 100, random_state = 3)\n",
    "\n",
    "    nn_model1.fit(xTrain_norm, yTrain)\n",
    "\n",
    "    y_train_pred1 = nn_model1.predict(xTrain_norm)\n",
    "\n",
    "    y_train_accuracy1 = accuracy_score(yTrain, y_train_pred1)\n",
    "\n",
    "    m1a.append(y_train_accuracy1)\n",
    "\n",
    "    y_test_pred1 = nn_model1.predict(xTest_norm)\n",
    "\n",
    "    y_test_accuracy1 = accuracy_score(yTest, y_test_pred1)\n",
    "\n",
    "    m1b.append(y_test_accuracy1)\n",
    "    time2 = time.time()\n",
    "    m1c.append(time2-time1)\n",
    "    \n",
    "    time1 = time.time()\n",
    "    nn_model2 = mlrose.NeuralNetwork(hidden_nodes = [20, 28, 20], activation ='relu', \n",
    "                                     algorithm ='random_hill_climb', curve = True,\n",
    "                                     max_iters = 1000, bias = True, is_classifier = True, \n",
    "                                     learning_rate = 2, early_stopping = True, restarts = 0,\n",
    "                                     clip_max = c, max_attempts = 50, random_state = 1)\n",
    "\n",
    "    nn_model2.fit(xTrain_norm, yTrain)\n",
    "\n",
    "    y_train_pred2 = nn_model2.predict(xTrain_norm)\n",
    "\n",
    "    y_train_accuracy2 = accuracy_score(yTrain, y_train_pred2)\n",
    "\n",
    "    m2a.append(y_train_accuracy2)\n",
    "\n",
    "    y_test_pred2 = nn_model2.predict(xTest_norm)\n",
    "\n",
    "    y_test_accuracy2 = accuracy_score(yTest, y_test_pred2)\n",
    "\n",
    "    m2b.append(y_test_accuracy2)\n",
    "    time2 = time.time()\n",
    "    m2c.append(time2-time1)\n",
    "    \n",
    "    time1 = time.time()\n",
    "    nn_model3 = mlrose.NeuralNetwork(hidden_nodes = [20, 28, 20], activation ='relu', \n",
    "                                 algorithm ='simulated_annealing', curve = True,\n",
    "                                 max_iters = 1000, bias = True, is_classifier = True, \n",
    "                                 learning_rate = 1, early_stopping = True, restarts = 0,\n",
    "                                 clip_max = c, max_attempts = 50, random_state = 1)\n",
    "\n",
    "    nn_model3.fit(xTrain_norm, yTrain)\n",
    "\n",
    "    y_train_pred3 = nn_model3.predict(xTrain_norm)\n",
    "\n",
    "    y_train_accuracy3 = accuracy_score(yTrain, y_train_pred3)\n",
    "\n",
    "    m3a.append(y_train_accuracy3)\n",
    "\n",
    "    y_test_pred3 = nn_model3.predict(xTest_norm)\n",
    "\n",
    "    y_test_accuracy3 = accuracy_score(yTest, y_test_pred3)\n",
    "\n",
    "    m3b.append(y_test_accuracy3)\n",
    "    time2 = time.time()\n",
    "    m3c.append(time2-time1)\n",
    "    \n",
    "    nn_model4 = mlrose.NeuralNetwork(hidden_nodes = [20, 28, 20], activation ='relu', \n",
    "                                 algorithm ='genetic_alg', curve = True,\n",
    "                                 max_iters = 1000, bias = True, is_classifier = True, \n",
    "                                 learning_rate = 1, early_stopping = True, restarts = 0,\n",
    "                                 clip_max = c, max_attempts = 30, random_state = 1)\n",
    "\n",
    "    nn_model4.fit(xTrain_norm, yTrain)\n",
    "\n",
    "    y_train_pred4 = nn_model4.predict(xTrain_norm)\n",
    "\n",
    "    y_train_accuracy4 = accuracy_score(yTrain, y_train_pred4)\n",
    "\n",
    "    m4a.append(y_train_accuracy4)\n",
    "\n",
    "    y_test_pred4 = nn_model4.predict(xTest_norm)\n",
    "\n",
    "    y_test_accuracy4 = accuracy_score(yTest, y_test_pred4)\n",
    "\n",
    "    m4b.append(y_test_accuracy4)"
   ]
  },
  {
   "cell_type": "code",
   "execution_count": 27,
   "id": "03239556",
   "metadata": {},
   "outputs": [
    {
     "data": {
      "text/plain": [
       "<matplotlib.legend.Legend at 0x7fb65c5c7400>"
      ]
     },
     "execution_count": 27,
     "metadata": {},
     "output_type": "execute_result"
    },
    {
     "data": {
      "image/png": "[encoded data removed]",
      "text/plain": [
       "<Figure size 432x288 with 1 Axes>"
      ]
     },
     "metadata": {
      "needs_background": "light"
     },
     "output_type": "display_data"
    }
   ],
   "source": [
    "plt.plot(clips, m1a, label = 'training')\n",
    "plt.plot(clips, m1b, label = 'testing')\n",
    "plt.ylim([0.5, 1])\n",
    "plt.xlabel('Weight Clipping')\n",
    "plt.ylabel('Accuracy')\n",
    "plt.title(\"Gradient Descent\")\n",
    "plt.legend()"
   ]
  },
  {
   "cell_type": "code",
   "execution_count": 28,
   "id": "3b9f74a3",
   "metadata": {},
   "outputs": [
    {
     "data": {
      "text/plain": [
       "<matplotlib.legend.Legend at 0x7fb654855070>"
      ]
     },
     "execution_count": 28,
     "metadata": {},
     "output_type": "execute_result"
    },
    {
     "data": {
      "image/png": "[encoded data removed]",
      "text/plain": [
       "<Figure size 432x288 with 1 Axes>"
      ]
     },
     "metadata": {
      "needs_background": "light"
     },
     "output_type": "display_data"
    }
   ],
   "source": [
    "plt.plot(clips, m2a, label = 'training')\n",
    "plt.plot(clips, m2b, label = 'testing')\n",
    "plt.ylim([0.5, 1])\n",
    "plt.xlabel('Weight Clipping')\n",
    "plt.ylabel('Accuracy')\n",
    "plt.title(\"Randomized Hill Climbing\")\n",
    "plt.legend()"
   ]
  },
  {
   "cell_type": "code",
   "execution_count": 29,
   "id": "a919600a",
   "metadata": {},
   "outputs": [
    {
     "data": {
      "text/plain": [
       "Text(0.5, 1.0, 'Simulated Annealing')"
      ]
     },
     "execution_count": 29,
     "metadata": {},
     "output_type": "execute_result"
    },
    {
     "data": {
      "image/png": "[encoded data removed]",
      "text/plain": [
       "<Figure size 432x288 with 1 Axes>"
      ]
     },
     "metadata": {
      "needs_background": "light"
     },
     "output_type": "display_data"
    }
   ],
   "source": [
    "plt.plot(clips, m3a, label = 'training')\n",
    "plt.plot(clips, m3b, label = 'testing')\n",
    "plt.legend()\n",
    "plt.ylim([0.5, 1])\n",
    "plt.xlabel('Weight Clipping')\n",
    "plt.ylabel('Accuracy')\n",
    "plt.title(\"Simulated Annealing\")"
   ]
  },
  {
   "cell_type": "code",
   "execution_count": 30,
   "id": "cc20eb06",
   "metadata": {},
   "outputs": [
    {
     "data": {
      "text/plain": [
       "Text(0.5, 1.0, 'Genetic Algorithm')"
      ]
     },
     "execution_count": 30,
     "metadata": {},
     "output_type": "execute_result"
    },
    {
     "data": {
      "image/png": "[encoded data removed]",
      "text/plain": [
       "<Figure size 432x288 with 1 Axes>"
      ]
     },
     "metadata": {
      "needs_background": "light"
     },
     "output_type": "display_data"
    }
   ],
   "source": [
    "plt.plot(clips, m4a, label = 'training')\n",
    "plt.plot(clips, m4b, label = 'testing')\n",
    "plt.legend()\n",
    "plt.ylim([0.5, 1])\n",
    "plt.xlabel('Weight Clipping')\n",
    "plt.ylabel('Accuracy')\n",
    "plt.title(\"Genetic Algorithm\")"
   ]
  },
  {
   "cell_type": "code",
   "execution_count": null,
   "id": "a65ce79a",
   "metadata": {},
   "outputs": [],
   "source": []
  }
 ],
 "metadata": {
  "kernelspec": {
   "display_name": "Python 3 (ipykernel)",
   "language": "python",
   "name": "python3"
  },
  "language_info": {
   "codemirror_mode": {
    "name": "ipython",
    "version": 3
   },
   "file_extension": ".py",
   "mimetype": "text/x-python",
   "name": "python",
   "nbconvert_exporter": "python",
   "pygments_lexer": "ipython3",
   "version": "3.9.12"
  }
 },
 "nbformat": 4,
 "nbformat_minor": 5
}
